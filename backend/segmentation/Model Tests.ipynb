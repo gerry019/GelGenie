{
 "cells": [
  {
   "cell_type": "markdown",
   "id": "d80a1c89",
   "metadata": {},
   "source": [
    "# Model Tests"
   ]
  },
  {
   "cell_type": "markdown",
   "id": "76b48425",
   "metadata": {},
   "source": [
    "Repo: https://github.com/qubvel/segmentation_models.pytorch\n",
    "\n",
    "Models: https://smp.readthedocs.io/en/latest/models.html#unet"
   ]
  },
  {
   "cell_type": "markdown",
   "id": "7294019a",
   "metadata": {},
   "source": [
    "# Imports"
   ]
  },
  {
   "cell_type": "code",
   "execution_count": 361,
   "id": "9a412f19",
   "metadata": {},
   "outputs": [],
   "source": [
    "# import importlib\n",
    "# importlib.reload()"
   ]
  },
  {
   "cell_type": "code",
   "execution_count": 1,
   "id": "e24621cc",
   "metadata": {},
   "outputs": [
    {
     "name": "stderr",
     "output_type": "stream",
     "text": [
      "C:\\Users\\s2137314\\Anaconda3\\envs\\gel_env\\lib\\site-packages\\torchvision\\io\\image.py:13: UserWarning: Failed to load image Python extension: \n",
      "  warn(f\"Failed to load image Python extension: {e}\")\n"
     ]
    }
   ],
   "source": [
    "from segmentation.helper_functions.data_functions import prep_dataloader"
   ]
  },
  {
   "cell_type": "code",
   "execution_count": 2,
   "id": "cb9da722",
   "metadata": {},
   "outputs": [
    {
     "data": {
      "text/plain": [
       "<function segmentation.helper_functions.data_functions.prep_dataloader(dir_train_img, dir_train_mask, dir_val_img, dir_val_mask, n_channels, img_scale, val_percent, batch_size, num_workers, apply_augmentations, padding)>"
      ]
     },
     "execution_count": 2,
     "metadata": {},
     "output_type": "execute_result"
    }
   ],
   "source": [
    "prep_dataloader"
   ]
  },
  {
   "cell_type": "code",
   "execution_count": 3,
   "id": "13a9977f",
   "metadata": {},
   "outputs": [],
   "source": [
    "from segmentation_models_pytorch import utils\n",
    "import torch"
   ]
  },
  {
   "cell_type": "markdown",
   "id": "f792bd7d",
   "metadata": {},
   "source": [
    "# Create Segmentation Model"
   ]
  },
  {
   "cell_type": "code",
   "execution_count": 4,
   "id": "ddef6f0e",
   "metadata": {},
   "outputs": [],
   "source": [
    "import segmentation_models_pytorch as smp\n",
    "\n",
    "model = smp.Unet(\n",
    "    encoder_name=\"resnet34\",        # choose encoder, e.g. mobilenet_v2 or efficientnet-b7\n",
    "    encoder_weights=\"imagenet\",     # use `imagenet` pre-trained weights for encoder initialization\n",
    "    in_channels=1,                  # model input channels (1 for gray-scale images, 3 for RGB, etc.)\n",
    "    classes=2,                      # model output channels (number of classes in your dataset)\n",
    "    activation='softmax')"
   ]
  },
  {
   "cell_type": "markdown",
   "id": "690ebb2e",
   "metadata": {},
   "source": [
    "# Loading Data"
   ]
  },
  {
   "cell_type": "code",
   "execution_count": 38,
   "id": "cb201f01",
   "metadata": {},
   "outputs": [],
   "source": [
    "dir_train_img = 'C:/2022_Summer_Intern/Gel_Images_UNet_Test/Final_Set/Training_Set/Images'\n",
    "dir_train_mask = 'C:/2022_Summer_Intern/Gel_Images_UNet_Test/Final_Set/Training_Set/Masks'\n",
    "dir_val_img = 'C:/2022_Summer_Intern/Gel_Images_UNet_Test/Final_Set/Validation_Set/Images'\n",
    "dir_val_mask = 'C:/2022_Summer_Intern/Gel_Images_UNet_Test/Final_Set/Validation_Set/Masks'\n",
    "n_channels = 1\n",
    "img_scale = 0.5\n",
    "val_percent = 0.1\n",
    "batch_size = 1\n",
    "num_workers = 0\n",
    "apply_augmentations = False\n",
    "padding = True"
   ]
  },
  {
   "cell_type": "code",
   "execution_count": 45,
   "id": "2623aaa4",
   "metadata": {},
   "outputs": [],
   "source": [
    "import logging\n",
    "from pathlib import Path\n",
    "\n",
    "import numpy as np\n",
    "import torch\n",
    "from PIL import Image\n",
    "from torch.utils.data import Dataset\n",
    "from segmentation.helper_functions.general_functions import extract_image_names_from_folder\n",
    "import torchvision.transforms as transforms\n",
    "import imageio\n",
    "import cv2\n",
    "import os\n",
    "class BasicDataset(Dataset):\n",
    "    def __init__(self,\n",
    "                 images_dir: str,\n",
    "                 masks_dir: str,\n",
    "                 n_channels: int,\n",
    "                 scale: float = 1.0,\n",
    "                 mask_suffix: str = '',\n",
    "                 augmentations=None,\n",
    "                 padding=False):\n",
    "        \"\"\"\n",
    "        TODO: fill in!\n",
    "        :param images_dir:\n",
    "        :param masks_dir:\n",
    "        :param n_channels:\n",
    "        :param scale:\n",
    "        :param mask_suffix:\n",
    "        \"\"\"\n",
    "        self.images_dir = Path(images_dir)\n",
    "        self.masks_dir = Path(masks_dir)\n",
    "        assert (n_channels == 1 or n_channels == 3), 'Number of channels must be either 1 or 3'\n",
    "        self.n_channels = n_channels\n",
    "        assert 0 < scale <= 1, 'Scale must be between 0 and 1'\n",
    "        self.scale = scale\n",
    "        self.mask_suffix = mask_suffix\n",
    "        self.standard_image_transform = transforms.Compose([transforms.ToTensor()])\n",
    "\n",
    "        self.image_names = extract_image_names_from_folder(images_dir)\n",
    "        self.mask_names = extract_image_names_from_folder(masks_dir)\n",
    "        self.masks_dict = {os.path.basename(mask).split('.')[0]: mask for mask in self.mask_names}\n",
    "\n",
    "        max_dimension = 0\n",
    "        for root, dirs, files in os.walk(self.images_dir):\n",
    "            for name in files:\n",
    "                image_file = os.path.join(root, name)\n",
    "                image = imageio.imread(image_file)\n",
    "                max_dimension = max(max_dimension, image.shape[0], image.shape[1])\n",
    "        max_dimension = 32*(max_dimension//32+1)\n",
    "        self.max_dimension = max_dimension\n",
    "        self.augmentations = augmentations\n",
    "\n",
    "        self.padding = padding\n",
    "\n",
    "        if not self.image_names:\n",
    "            raise RuntimeError(f'No input file found in {images_dir}, make sure you put your images there')\n",
    "        if not self.mask_names:\n",
    "            raise RuntimeError(f'No input file found in {masks_dir}, make sure you put your images there')\n",
    "        logging.info(f'Creating dataset with {len(self.image_names)} examples')\n",
    "\n",
    "    def __len__(self):\n",
    "        return len(self.image_names)\n",
    "\n",
    "    @staticmethod\n",
    "    def load_image(self, filename, n_channels):\n",
    "        image = imageio.imread(filename)\n",
    "\n",
    "        # Converting to desired number of channels\n",
    "        if n_channels == 1:  # Target input: 1 channel\n",
    "            if image.shape[-1] == 3:  # Actual input: 3 channels\n",
    "                image = cv2.cvtColor(image, cv2.COLOR_RGB2GRAY)\n",
    "            elif image.shape[-1] == 4:  # Actual input: 4 channels\n",
    "                image = cv2.cvtColor(image, cv2.COLOR_RGBA2GRAY)\n",
    "            # No change required for already grayscale images\n",
    "        elif n_channels == 3:  # Target input: 3 channels\n",
    "            if image.shaoe[-1] == 4:  # Actual input: 4 channels\n",
    "                image = cv2.cvtColor(image, cv2.COLOR_RGBA2RGB)\n",
    "            elif image.shape[-1] != 3:  # Actual input: 1 channels\n",
    "                image = cv2.cvtColor(image, cv2.COLOR_GRAY2RGB)\n",
    "\n",
    "        # Normalizing image\n",
    "        if image.dtype == 'uint8':\n",
    "            max_val = 255\n",
    "        elif image.dtype == 'uint16':\n",
    "            max_val = 65535\n",
    "        image = image.astype(np.float32) / (max_val - 0)\n",
    "\n",
    "        return image\n",
    "\n",
    "    @staticmethod\n",
    "    def load_mask(filename):\n",
    "        pil_mask = Image.open(filename)\n",
    "        final_mask = np.array(pil_mask)\n",
    "        unique = np.unique(final_mask)\n",
    "        final_mask = np.array([[np.where(unique == i)[0][0] for i in j] for j in final_mask])\n",
    "        return final_mask\n",
    "\n",
    "    # in your init function - run glob on the dataset folder, this gets all images and puts them in a list\n",
    "    # 2 when you get your id in __getitem__, just index the above list\n",
    "\n",
    "    def __getitem__(self, idx):\n",
    "\n",
    "        img_file = self.image_names[idx]\n",
    "        mask_file = self.masks_dict[os.path.basename(img_file).split('.')[0]]\n",
    "\n",
    "        if os.path.basename(img_file).split('.')[0] != os.path.basename(mask_file).split('.')[0]:\n",
    "            raise RuntimeError('Gel and Mask images do not match')\n",
    "\n",
    "        img_array = self.load_image(self, filename=img_file, n_channels=self.n_channels)\n",
    "        mask_array = self.load_mask(mask_file)\n",
    "\n",
    "        assert img_array.shape[0] == mask_array.shape[0] and \\\n",
    "               img_array.shape[1] == mask_array.shape[1], \\\n",
    "            f'Image and mask should be the same size, but are {img_array.shape} and {mask_array.shape}'\n",
    "\n",
    "        if self.augmentations:\n",
    "            sample = self.augmentations(image=img_array, mask=mask_array)\n",
    "            img_array = sample['image']\n",
    "            mask_array = sample['mask']\n",
    "\n",
    "        if self.padding:\n",
    "            top = (self.max_dimension - img_array.shape[0]) // 2\n",
    "            bottom = self.max_dimension - img_array.shape[0] - top\n",
    "            left = (self.max_dimension - img_array.shape[1]) // 2\n",
    "            right = self.max_dimension - img_array.shape[1] - left\n",
    "\n",
    "            img_array = np.pad(img_array, pad_width=((top, bottom), (left, right)), mode='constant')\n",
    "            mask_array = np.pad(mask_array, pad_width=((top, bottom), (left, right)), mode='constant')\n",
    "\n",
    "        img_tensor = self.standard_image_transform(img_array)\n",
    "        mask_tensor = torch.from_numpy(mask_array).int().contiguous()\n",
    "\n",
    "        return img_tensor, mask_tensor"
   ]
  },
  {
   "cell_type": "code",
   "execution_count": 46,
   "id": "0f09be13",
   "metadata": {},
   "outputs": [],
   "source": [
    "# train_loader, val_loader, n_train, n_val = prep_dataloader(\n",
    "#     dir_train_img, dir_train_mask, dir_val_img, dir_val_mask, \n",
    "#     n_channels, img_scale, val_percent, batch_size, num_workers, \n",
    "#     apply_augmentations, padding)"
   ]
  },
  {
   "cell_type": "code",
   "execution_count": 47,
   "id": "b69c2118",
   "metadata": {},
   "outputs": [
    {
     "name": "stderr",
     "output_type": "stream",
     "text": [
      "C:\\Users\\s2137314\\Anaconda3\\envs\\gel_env\\lib\\site-packages\\ipykernel_launcher.py:47: DeprecationWarning: Starting with ImageIO v3 the behavior of this function will switch to that of iio.v3.imread. To keep the current behavior (and make this warning dissapear) use `import imageio.v2 as imageio` or call `imageio.v2.imread` directly.\n"
     ]
    }
   ],
   "source": [
    "from torch.utils.data import DataLoader\n",
    "train_set = BasicDataset(dir_train_img, dir_train_mask, n_channels, img_scale,\n",
    "                                 augmentations=None, padding=padding)\n",
    "val_set = BasicDataset(dir_val_img, dir_val_mask, n_channels, img_scale,\n",
    "                           augmentations=None, padding=padding)\n",
    "n_train = int(len(train_set))\n",
    "n_val = int(len(val_set))\n",
    "\n",
    "# 3. Create data loaders\n",
    "loader_args = dict(batch_size=batch_size, num_workers=num_workers, pin_memory=True)\n",
    "train_loader = DataLoader(train_set, shuffle=True, **loader_args)\n",
    "val_loader = DataLoader(val_set, shuffle=False, drop_last=True, batch_size=1, num_workers=1, pin_memory=True)"
   ]
  },
  {
   "cell_type": "markdown",
   "id": "a3b06be4",
   "metadata": {},
   "source": [
    "# Training"
   ]
  },
  {
   "cell_type": "code",
   "execution_count": 48,
   "id": "4fcc650a",
   "metadata": {
    "scrolled": true
   },
   "outputs": [],
   "source": [
    "# Dice/F1 score - https://en.wikipedia.org/wiki/S%C3%B8rensen%E2%80%93Dice_coefficient\n",
    "# IoU/Jaccard score - https://en.wikipedia.org/wiki/Jaccard_index\n",
    "\n",
    "loss = smp.utils.losses.DiceLoss()\n",
    "metrics = [\n",
    "    smp.utils.metrics.IoU(threshold=0.5),\n",
    "]\n",
    "\n",
    "optimizer = torch.optim.Adam([ \n",
    "    dict(params=model.parameters(), lr=0.0001),\n",
    "])"
   ]
  },
  {
   "cell_type": "code",
   "execution_count": 49,
   "id": "a1c25939",
   "metadata": {},
   "outputs": [],
   "source": [
    "# create epoch runners \n",
    "# it is a simple loop of iterating over dataloader`s samples\n",
    "train_epoch = smp.utils.train.TrainEpoch(\n",
    "    model, \n",
    "    loss=loss, \n",
    "    metrics=metrics, \n",
    "    optimizer=optimizer,\n",
    "    device=torch.device('cuda' if torch.cuda.is_available() else 'cpu'),\n",
    "    verbose=True,\n",
    ")\n",
    "\n",
    "valid_epoch = smp.utils.train.ValidEpoch(\n",
    "    model, \n",
    "    loss=loss, \n",
    "    metrics=metrics, \n",
    "    device=torch.device('cuda' if torch.cuda.is_available() else 'cpu'),\n",
    "    verbose=True,\n",
    ")"
   ]
  },
  {
   "cell_type": "code",
   "execution_count": null,
   "id": "77f98458",
   "metadata": {},
   "outputs": [
    {
     "name": "stdout",
     "output_type": "stream",
     "text": [
      "\n",
      "Epoch: 0\n",
      "train:   0%|                                                                                    | 0/99 [00:00<?, ?it/s]"
     ]
    },
    {
     "name": "stderr",
     "output_type": "stream",
     "text": [
      "C:\\Users\\s2137314\\Anaconda3\\envs\\gel_env\\lib\\site-packages\\ipykernel_launcher.py:66: DeprecationWarning: Starting with ImageIO v3 the behavior of this function will switch to that of iio.v3.imread. To keep the current behavior (and make this warning dissapear) use `import imageio.v2 as imageio` or call `imageio.v2.imread` directly.\n",
      "C:\\Users\\s2137314\\Anaconda3\\envs\\gel_env\\lib\\site-packages\\segmentation_models_pytorch\\base\\modules.py:116: UserWarning: Implicit dimension choice for softmax has been deprecated. Change the call to include dim=X as an argument.\n",
      "  return self.activation(x)\n"
     ]
    },
    {
     "name": "stdout",
     "output_type": "stream",
     "text": [
      "train:   2%|▋                                  | 2/99 [00:19<15:59,  9.89s/it, dice_loss - 0.9671, iou_score - 0.01687]"
     ]
    }
   ],
   "source": [
    "max_score = 0\n",
    "\n",
    "for i in range(0, 40):\n",
    "    \n",
    "    print('\\nEpoch: {}'.format(i))\n",
    "    train_logs = train_epoch.run(train_loader)\n",
    "    valid_logs = valid_epoch.run(valid_loader)\n",
    "    \n",
    "    # do something (save model, change lr, etc.)\n",
    "    if max_score < valid_logs['iou_score']:\n",
    "        max_score = valid_logs['iou_score']\n",
    "        torch.save(model, './best_model.pth')\n",
    "        print('Model saved!')\n",
    "        \n",
    "    if i == 25:\n",
    "        optimizer.param_groups[0]['lr'] = 1e-5\n",
    "        print('Decrease decoder learning rate to 1e-5!')"
   ]
  },
  {
   "cell_type": "code",
   "execution_count": null,
   "id": "2fc9c461",
   "metadata": {},
   "outputs": [],
   "source": []
  },
  {
   "cell_type": "code",
   "execution_count": null,
   "id": "6d1ec44b",
   "metadata": {},
   "outputs": [],
   "source": []
  },
  {
   "cell_type": "code",
   "execution_count": 286,
   "id": "f05344c1",
   "metadata": {},
   "outputs": [],
   "source": [
    "from torchinfo import summary\n",
    "model_structure = summary(model, mode='train', depth=5, device='cpu', verbose=0)"
   ]
  },
  {
   "cell_type": "code",
   "execution_count": 287,
   "id": "add0660b",
   "metadata": {
    "scrolled": false
   },
   "outputs": [
    {
     "name": "stdout",
     "output_type": "stream",
     "text": [
      "======================================================================\n",
      "Layer (type:depth-idx)                        Param #\n",
      "======================================================================\n",
      "Unet                                          --\n",
      "├─ResNetEncoder: 1-1                          --\n",
      "│    └─Conv2d: 2-1                            3,136\n",
      "│    └─BatchNorm2d: 2-2                       128\n",
      "│    └─ReLU: 2-3                              --\n",
      "│    └─MaxPool2d: 2-4                         --\n",
      "│    └─Sequential: 2-5                        --\n",
      "│    │    └─BasicBlock: 3-1                   --\n",
      "│    │    │    └─Conv2d: 4-1                  36,864\n",
      "│    │    │    └─BatchNorm2d: 4-2             128\n",
      "│    │    │    └─ReLU: 4-3                    --\n",
      "│    │    │    └─Conv2d: 4-4                  36,864\n",
      "│    │    │    └─BatchNorm2d: 4-5             128\n",
      "│    │    └─BasicBlock: 3-2                   --\n",
      "│    │    │    └─Conv2d: 4-6                  36,864\n",
      "│    │    │    └─BatchNorm2d: 4-7             128\n",
      "│    │    │    └─ReLU: 4-8                    --\n",
      "│    │    │    └─Conv2d: 4-9                  36,864\n",
      "│    │    │    └─BatchNorm2d: 4-10            128\n",
      "│    │    └─BasicBlock: 3-3                   --\n",
      "│    │    │    └─Conv2d: 4-11                 36,864\n",
      "│    │    │    └─BatchNorm2d: 4-12            128\n",
      "│    │    │    └─ReLU: 4-13                   --\n",
      "│    │    │    └─Conv2d: 4-14                 36,864\n",
      "│    │    │    └─BatchNorm2d: 4-15            128\n",
      "│    └─Sequential: 2-6                        --\n",
      "│    │    └─BasicBlock: 3-4                   --\n",
      "│    │    │    └─Conv2d: 4-16                 73,728\n",
      "│    │    │    └─BatchNorm2d: 4-17            256\n",
      "│    │    │    └─ReLU: 4-18                   --\n",
      "│    │    │    └─Conv2d: 4-19                 147,456\n",
      "│    │    │    └─BatchNorm2d: 4-20            256\n",
      "│    │    │    └─Sequential: 4-21             --\n",
      "│    │    │    │    └─Conv2d: 5-1             8,192\n",
      "│    │    │    │    └─BatchNorm2d: 5-2        256\n",
      "│    │    └─BasicBlock: 3-5                   --\n",
      "│    │    │    └─Conv2d: 4-22                 147,456\n",
      "│    │    │    └─BatchNorm2d: 4-23            256\n",
      "│    │    │    └─ReLU: 4-24                   --\n",
      "│    │    │    └─Conv2d: 4-25                 147,456\n",
      "│    │    │    └─BatchNorm2d: 4-26            256\n",
      "│    │    └─BasicBlock: 3-6                   --\n",
      "│    │    │    └─Conv2d: 4-27                 147,456\n",
      "│    │    │    └─BatchNorm2d: 4-28            256\n",
      "│    │    │    └─ReLU: 4-29                   --\n",
      "│    │    │    └─Conv2d: 4-30                 147,456\n",
      "│    │    │    └─BatchNorm2d: 4-31            256\n",
      "│    │    └─BasicBlock: 3-7                   --\n",
      "│    │    │    └─Conv2d: 4-32                 147,456\n",
      "│    │    │    └─BatchNorm2d: 4-33            256\n",
      "│    │    │    └─ReLU: 4-34                   --\n",
      "│    │    │    └─Conv2d: 4-35                 147,456\n",
      "│    │    │    └─BatchNorm2d: 4-36            256\n",
      "│    └─Sequential: 2-7                        --\n",
      "│    │    └─BasicBlock: 3-8                   --\n",
      "│    │    │    └─Conv2d: 4-37                 294,912\n",
      "│    │    │    └─BatchNorm2d: 4-38            512\n",
      "│    │    │    └─ReLU: 4-39                   --\n",
      "│    │    │    └─Conv2d: 4-40                 589,824\n",
      "│    │    │    └─BatchNorm2d: 4-41            512\n",
      "│    │    │    └─Sequential: 4-42             --\n",
      "│    │    │    │    └─Conv2d: 5-3             32,768\n",
      "│    │    │    │    └─BatchNorm2d: 5-4        512\n",
      "│    │    └─BasicBlock: 3-9                   --\n",
      "│    │    │    └─Conv2d: 4-43                 589,824\n",
      "│    │    │    └─BatchNorm2d: 4-44            512\n",
      "│    │    │    └─ReLU: 4-45                   --\n",
      "│    │    │    └─Conv2d: 4-46                 589,824\n",
      "│    │    │    └─BatchNorm2d: 4-47            512\n",
      "│    │    └─BasicBlock: 3-10                  --\n",
      "│    │    │    └─Conv2d: 4-48                 589,824\n",
      "│    │    │    └─BatchNorm2d: 4-49            512\n",
      "│    │    │    └─ReLU: 4-50                   --\n",
      "│    │    │    └─Conv2d: 4-51                 589,824\n",
      "│    │    │    └─BatchNorm2d: 4-52            512\n",
      "│    │    └─BasicBlock: 3-11                  --\n",
      "│    │    │    └─Conv2d: 4-53                 589,824\n",
      "│    │    │    └─BatchNorm2d: 4-54            512\n",
      "│    │    │    └─ReLU: 4-55                   --\n",
      "│    │    │    └─Conv2d: 4-56                 589,824\n",
      "│    │    │    └─BatchNorm2d: 4-57            512\n",
      "│    │    └─BasicBlock: 3-12                  --\n",
      "│    │    │    └─Conv2d: 4-58                 589,824\n",
      "│    │    │    └─BatchNorm2d: 4-59            512\n",
      "│    │    │    └─ReLU: 4-60                   --\n",
      "│    │    │    └─Conv2d: 4-61                 589,824\n",
      "│    │    │    └─BatchNorm2d: 4-62            512\n",
      "│    │    └─BasicBlock: 3-13                  --\n",
      "│    │    │    └─Conv2d: 4-63                 589,824\n",
      "│    │    │    └─BatchNorm2d: 4-64            512\n",
      "│    │    │    └─ReLU: 4-65                   --\n",
      "│    │    │    └─Conv2d: 4-66                 589,824\n",
      "│    │    │    └─BatchNorm2d: 4-67            512\n",
      "│    └─Sequential: 2-8                        --\n",
      "│    │    └─BasicBlock: 3-14                  --\n",
      "│    │    │    └─Conv2d: 4-68                 1,179,648\n",
      "│    │    │    └─BatchNorm2d: 4-69            1,024\n",
      "│    │    │    └─ReLU: 4-70                   --\n",
      "│    │    │    └─Conv2d: 4-71                 2,359,296\n",
      "│    │    │    └─BatchNorm2d: 4-72            1,024\n",
      "│    │    │    └─Sequential: 4-73             --\n",
      "│    │    │    │    └─Conv2d: 5-5             131,072\n",
      "│    │    │    │    └─BatchNorm2d: 5-6        1,024\n",
      "│    │    └─BasicBlock: 3-15                  --\n",
      "│    │    │    └─Conv2d: 4-74                 2,359,296\n",
      "│    │    │    └─BatchNorm2d: 4-75            1,024\n",
      "│    │    │    └─ReLU: 4-76                   --\n",
      "│    │    │    └─Conv2d: 4-77                 2,359,296\n",
      "│    │    │    └─BatchNorm2d: 4-78            1,024\n",
      "│    │    └─BasicBlock: 3-16                  --\n",
      "│    │    │    └─Conv2d: 4-79                 2,359,296\n",
      "│    │    │    └─BatchNorm2d: 4-80            1,024\n",
      "│    │    │    └─ReLU: 4-81                   --\n",
      "│    │    │    └─Conv2d: 4-82                 2,359,296\n",
      "│    │    │    └─BatchNorm2d: 4-83            1,024\n",
      "├─UnetDecoder: 1-2                            --\n",
      "│    └─Identity: 2-9                          --\n",
      "│    └─ModuleList: 2-10                       --\n",
      "│    │    └─DecoderBlock: 3-17                --\n",
      "│    │    │    └─Conv2dReLU: 4-84             --\n",
      "│    │    │    │    └─Conv2d: 5-7             1,769,472\n",
      "│    │    │    │    └─BatchNorm2d: 5-8        512\n",
      "│    │    │    │    └─ReLU: 5-9               --\n",
      "│    │    │    └─Attention: 4-85              --\n",
      "│    │    │    │    └─Identity: 5-10          --\n",
      "│    │    │    └─Conv2dReLU: 4-86             --\n",
      "│    │    │    │    └─Conv2d: 5-11            589,824\n",
      "│    │    │    │    └─BatchNorm2d: 5-12       512\n",
      "│    │    │    │    └─ReLU: 5-13              --\n",
      "│    │    │    └─Attention: 4-87              --\n",
      "│    │    │    │    └─Identity: 5-14          --\n",
      "│    │    └─DecoderBlock: 3-18                --\n",
      "│    │    │    └─Conv2dReLU: 4-88             --\n",
      "│    │    │    │    └─Conv2d: 5-15            442,368\n",
      "│    │    │    │    └─BatchNorm2d: 5-16       256\n",
      "│    │    │    │    └─ReLU: 5-17              --\n",
      "│    │    │    └─Attention: 4-89              --\n",
      "│    │    │    │    └─Identity: 5-18          --\n",
      "│    │    │    └─Conv2dReLU: 4-90             --\n",
      "│    │    │    │    └─Conv2d: 5-19            147,456\n",
      "│    │    │    │    └─BatchNorm2d: 5-20       256\n",
      "│    │    │    │    └─ReLU: 5-21              --\n",
      "│    │    │    └─Attention: 4-91              --\n",
      "│    │    │    │    └─Identity: 5-22          --\n",
      "│    │    └─DecoderBlock: 3-19                --\n",
      "│    │    │    └─Conv2dReLU: 4-92             --\n",
      "│    │    │    │    └─Conv2d: 5-23            110,592\n",
      "│    │    │    │    └─BatchNorm2d: 5-24       128\n",
      "│    │    │    │    └─ReLU: 5-25              --\n",
      "│    │    │    └─Attention: 4-93              --\n",
      "│    │    │    │    └─Identity: 5-26          --\n",
      "│    │    │    └─Conv2dReLU: 4-94             --\n",
      "│    │    │    │    └─Conv2d: 5-27            36,864\n",
      "│    │    │    │    └─BatchNorm2d: 5-28       128\n",
      "│    │    │    │    └─ReLU: 5-29              --\n",
      "│    │    │    └─Attention: 4-95              --\n",
      "│    │    │    │    └─Identity: 5-30          --\n",
      "│    │    └─DecoderBlock: 3-20                --\n",
      "│    │    │    └─Conv2dReLU: 4-96             --\n",
      "│    │    │    │    └─Conv2d: 5-31            36,864\n",
      "│    │    │    │    └─BatchNorm2d: 5-32       64\n",
      "│    │    │    │    └─ReLU: 5-33              --\n",
      "│    │    │    └─Attention: 4-97              --\n",
      "│    │    │    │    └─Identity: 5-34          --\n",
      "│    │    │    └─Conv2dReLU: 4-98             --\n",
      "│    │    │    │    └─Conv2d: 5-35            9,216\n",
      "│    │    │    │    └─BatchNorm2d: 5-36       64\n",
      "│    │    │    │    └─ReLU: 5-37              --\n",
      "│    │    │    └─Attention: 4-99              --\n",
      "│    │    │    │    └─Identity: 5-38          --\n",
      "│    │    └─DecoderBlock: 3-21                --\n",
      "│    │    │    └─Conv2dReLU: 4-100            --\n",
      "│    │    │    │    └─Conv2d: 5-39            4,608\n",
      "│    │    │    │    └─BatchNorm2d: 5-40       32\n",
      "│    │    │    │    └─ReLU: 5-41              --\n",
      "│    │    │    └─Attention: 4-101             --\n",
      "│    │    │    │    └─Identity: 5-42          --\n",
      "│    │    │    └─Conv2dReLU: 4-102            --\n",
      "│    │    │    │    └─Conv2d: 5-43            2,304\n",
      "│    │    │    │    └─BatchNorm2d: 5-44       32\n",
      "│    │    │    │    └─ReLU: 5-45              --\n",
      "│    │    │    └─Attention: 4-103             --\n",
      "│    │    │    │    └─Identity: 5-46          --\n",
      "├─SegmentationHead: 1-3                       --\n",
      "│    └─Conv2d: 2-11                           290\n",
      "│    └─Identity: 2-12                         --\n",
      "│    └─Activation: 2-13                       --\n",
      "│    │    └─Softmax: 3-22                     --\n",
      "======================================================================\n",
      "Total params: 24,430,242\n",
      "Trainable params: 24,430,242\n",
      "Non-trainable params: 0\n",
      "======================================================================\n"
     ]
    }
   ],
   "source": [
    "print(model_structure)"
   ]
  },
  {
   "cell_type": "code",
   "execution_count": null,
   "id": "61ed32d2",
   "metadata": {},
   "outputs": [],
   "source": []
  }
 ],
 "metadata": {
  "kernelspec": {
   "display_name": "Python 3 (ipykernel)",
   "language": "python",
   "name": "python3"
  },
  "language_info": {
   "codemirror_mode": {
    "name": "ipython",
    "version": 3
   },
   "file_extension": ".py",
   "mimetype": "text/x-python",
   "name": "python",
   "nbconvert_exporter": "python",
   "pygments_lexer": "ipython3",
   "version": "3.7.13"
  }
 },
 "nbformat": 4,
 "nbformat_minor": 5
}
