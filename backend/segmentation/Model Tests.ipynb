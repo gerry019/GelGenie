{
 "cells": [
  {
   "cell_type": "markdown",
   "id": "d80a1c89",
   "metadata": {},
   "source": [
    "# Model Tests"
   ]
  },
  {
   "cell_type": "markdown",
   "id": "76b48425",
   "metadata": {},
   "source": [
    "Repo: https://github.com/qubvel/segmentation_models.pytorch\n",
    "\n",
    "Models: https://smp.readthedocs.io/en/latest/models.html#unet"
   ]
  },
  {
   "cell_type": "markdown",
   "id": "7294019a",
   "metadata": {},
   "source": [
    "# Imports"
   ]
  },
  {
   "cell_type": "code",
   "execution_count": 361,
   "id": "9a412f19",
   "metadata": {},
   "outputs": [],
   "source": [
    "# import importlib\n",
    "# importlib.reload()"
   ]
  },
  {
   "cell_type": "code",
   "execution_count": 1,
   "id": "e24621cc",
   "metadata": {},
   "outputs": [
    {
     "name": "stderr",
     "output_type": "stream",
     "text": [
      "C:\\Users\\s2137314\\Anaconda3\\envs\\gel_env\\lib\\site-packages\\torchvision\\io\\image.py:13: UserWarning: Failed to load image Python extension: \n",
      "  warn(f\"Failed to load image Python extension: {e}\")\n"
     ]
    }
   ],
   "source": [
    "from segmentation.helper_functions.data_functions import prep_dataloader"
   ]
  },
  {
   "cell_type": "code",
   "execution_count": 2,
   "id": "cb9da722",
   "metadata": {},
   "outputs": [
    {
     "data": {
      "text/plain": [
       "<function segmentation.helper_functions.data_functions.prep_dataloader(dir_train_img, dir_train_mask, dir_val_img, dir_val_mask, n_channels, img_scale, val_percent, batch_size, num_workers, apply_augmentations, padding)>"
      ]
     },
     "execution_count": 2,
     "metadata": {},
     "output_type": "execute_result"
    }
   ],
   "source": [
    "prep_dataloader"
   ]
  },
  {
   "cell_type": "code",
   "execution_count": 3,
   "id": "13a9977f",
   "metadata": {},
   "outputs": [],
   "source": [
    "from segmentation_models_pytorch import utils\n",
    "import torch"
   ]
  },
  {
   "cell_type": "markdown",
   "id": "f792bd7d",
   "metadata": {},
   "source": [
    "# Create Segmentation Model"
   ]
  },
  {
   "cell_type": "code",
   "execution_count": 62,
   "id": "ddef6f0e",
   "metadata": {},
   "outputs": [],
   "source": [
    "import segmentation_models_pytorch as smp\n",
    "\n",
    "model = smp.UnetPlusPlus(\n",
    "    encoder_name=\"resnet18\",        # choose encoder, e.g. mobilenet_v2 or efficientnet-b7\n",
    "    # encoder_weights=\"imagenet\",     # use `imagenet` pre-trained weights for encoder initialization\n",
    "    in_channels=1,                  # model input channels (1 for gray-scale images, 3 for RGB, etc.)\n",
    "    classes=2,                      # model output channels (number of classes in your dataset)\n",
    "    activation='softmax')"
   ]
  },
  {
   "cell_type": "markdown",
   "id": "690ebb2e",
   "metadata": {},
   "source": [
    "# Loading Data"
   ]
  },
  {
   "cell_type": "code",
   "execution_count": 52,
   "id": "cb201f01",
   "metadata": {},
   "outputs": [],
   "source": [
    "dir_train_img = 'C:/2022_Summer_Intern/Gel_Images_UNet_Test/Final_Set/Training_Set/Images'\n",
    "dir_train_mask = 'C:/2022_Summer_Intern/Gel_Images_UNet_Test/Final_Set/Training_Set/Masks'\n",
    "dir_val_img = 'C:/2022_Summer_Intern/Gel_Images_UNet_Test/Final_Set/Validation_Set/Images'\n",
    "dir_val_mask = 'C:/2022_Summer_Intern/Gel_Images_UNet_Test/Final_Set/Validation_Set/Masks'\n",
    "n_channels = 1\n",
    "img_scale = 0.5\n",
    "val_percent = 0.1\n",
    "batch_size = 1\n",
    "num_workers = 0\n",
    "apply_augmentations = False\n",
    "padding = True"
   ]
  },
  {
   "cell_type": "code",
   "execution_count": 53,
   "id": "345ce8aa",
   "metadata": {},
   "outputs": [],
   "source": [
    "import logging\n",
    "from pathlib import Path\n",
    "\n",
    "import numpy as np\n",
    "import torch\n",
    "from PIL import Image\n",
    "from torch.utils.data import Dataset\n",
    "from segmentation.helper_functions.general_functions import extract_image_names_from_folder\n",
    "import torchvision.transforms as transforms\n",
    "import imageio\n",
    "import cv2\n",
    "import os\n",
    "class BasicDataset(Dataset):\n",
    "    def __init__(self,\n",
    "                 images_dir: str,\n",
    "                 masks_dir: str,\n",
    "                 n_channels: int,\n",
    "                 scale: float = 1.0,\n",
    "                 mask_suffix: str = '',\n",
    "                 augmentations=None,\n",
    "                 padding=False):\n",
    "        \"\"\"\n",
    "        TODO: fill in!\n",
    "        :param images_dir:\n",
    "        :param masks_dir:\n",
    "        :param n_channels:\n",
    "        :param scale:\n",
    "        :param mask_suffix:\n",
    "        \"\"\"\n",
    "        self.images_dir = Path(images_dir)\n",
    "        self.masks_dir = Path(masks_dir)\n",
    "        assert (n_channels == 1 or n_channels == 3), 'Number of channels must be either 1 or 3'\n",
    "        self.n_channels = n_channels\n",
    "        assert 0 < scale <= 1, 'Scale must be between 0 and 1'\n",
    "        self.scale = scale\n",
    "        self.mask_suffix = mask_suffix\n",
    "        self.standard_image_transform = transforms.Compose([transforms.ToTensor()])\n",
    "\n",
    "        self.image_names = extract_image_names_from_folder(images_dir)\n",
    "        self.mask_names = extract_image_names_from_folder(masks_dir)\n",
    "        self.masks_dict = {os.path.basename(mask).split('.')[0]: mask for mask in self.mask_names}\n",
    "\n",
    "        max_dimension = 0\n",
    "        for root, dirs, files in os.walk(self.images_dir):\n",
    "            for name in files:\n",
    "                image_file = os.path.join(root, name)\n",
    "                image = imageio.imread(image_file)\n",
    "                max_dimension = max(max_dimension, image.shape[0], image.shape[1])\n",
    "        max_dimension = 32*(max_dimension//32+1)\n",
    "        self.max_dimension = max_dimension\n",
    "        self.augmentations = augmentations\n",
    "\n",
    "        self.padding = padding\n",
    "\n",
    "        if not self.image_names:\n",
    "            raise RuntimeError(f'No input file found in {images_dir}, make sure you put your images there')\n",
    "        if not self.mask_names:\n",
    "            raise RuntimeError(f'No input file found in {masks_dir}, make sure you put your images there')\n",
    "        logging.info(f'Creating dataset with {len(self.image_names)} examples')\n",
    "\n",
    "    def __len__(self):\n",
    "        return len(self.image_names)\n",
    "\n",
    "    @staticmethod\n",
    "    def load_image(self, filename, n_channels):\n",
    "        image = imageio.imread(filename)\n",
    "\n",
    "        # Converting to desired number of channels\n",
    "        if n_channels == 1:  # Target input: 1 channel\n",
    "            if image.shape[-1] == 3:  # Actual input: 3 channels\n",
    "                image = cv2.cvtColor(image, cv2.COLOR_RGB2GRAY)\n",
    "            elif image.shape[-1] == 4:  # Actual input: 4 channels\n",
    "                image = cv2.cvtColor(image, cv2.COLOR_RGBA2GRAY)\n",
    "            # No change required for already grayscale images\n",
    "        elif n_channels == 3:  # Target input: 3 channels\n",
    "            if image.shaoe[-1] == 4:  # Actual input: 4 channels\n",
    "                image = cv2.cvtColor(image, cv2.COLOR_RGBA2RGB)\n",
    "            elif image.shape[-1] != 3:  # Actual input: 1 channels\n",
    "                image = cv2.cvtColor(image, cv2.COLOR_GRAY2RGB)\n",
    "\n",
    "        # Normalizing image\n",
    "        if image.dtype == 'uint8':\n",
    "            max_val = 255\n",
    "        elif image.dtype == 'uint16':\n",
    "            max_val = 65535\n",
    "        image = image.astype(np.float32) / (max_val - 0)\n",
    "\n",
    "        return image\n",
    "\n",
    "    @staticmethod\n",
    "    def load_mask(filename):\n",
    "        pil_mask = Image.open(filename)\n",
    "        final_mask = np.array(pil_mask)\n",
    "        unique = np.unique(final_mask)\n",
    "        final_mask = np.array([[np.where(unique == i)[0][0] for i in j] for j in final_mask])\n",
    "        return final_mask\n",
    "\n",
    "    # in your init function - run glob on the dataset folder, this gets all images and puts them in a list\n",
    "    # 2 when you get your id in __getitem__, just index the above list\n",
    "\n",
    "    def __getitem__(self, idx):\n",
    "\n",
    "        img_file = self.image_names[idx]\n",
    "        mask_file = self.masks_dict[os.path.basename(img_file).split('.')[0]]\n",
    "\n",
    "        if os.path.basename(img_file).split('.')[0] != os.path.basename(mask_file).split('.')[0]:\n",
    "            raise RuntimeError('Gel and Mask images do not match')\n",
    "\n",
    "        img_array = self.load_image(self, filename=img_file, n_channels=self.n_channels)\n",
    "        mask_array = self.load_mask(mask_file)\n",
    "\n",
    "        assert img_array.shape[0] == mask_array.shape[0] and \\\n",
    "               img_array.shape[1] == mask_array.shape[1], \\\n",
    "            f'Image and mask should be the same size, but are {img_array.shape} and {mask_array.shape}'\n",
    "\n",
    "        if self.augmentations:\n",
    "            sample = self.augmentations(image=img_array, mask=mask_array)\n",
    "            img_array = sample['image']\n",
    "            mask_array = sample['mask']\n",
    "\n",
    "        if self.padding:\n",
    "            top = (self.max_dimension - img_array.shape[0]) // 2\n",
    "            bottom = self.max_dimension - img_array.shape[0] - top\n",
    "            left = (self.max_dimension - img_array.shape[1]) // 2\n",
    "            right = self.max_dimension - img_array.shape[1] - left\n",
    "\n",
    "            img_array = np.pad(img_array, pad_width=((top, bottom), (left, right)), mode='constant')\n",
    "            mask_array = np.pad(mask_array, pad_width=((top, bottom), (left, right)), mode='constant')\n",
    "\n",
    "        img_tensor = self.standard_image_transform(img_array)\n",
    "        mask_tensor = torch.from_numpy(mask_array).int().contiguous()\n",
    "\n",
    "        return img_tensor, mask_tensor"
   ]
  },
  {
   "cell_type": "code",
   "execution_count": 54,
   "id": "0f09be13",
   "metadata": {},
   "outputs": [],
   "source": [
    "# train_loader, val_loader, n_train, n_val = prep_dataloader(\n",
    "#     dir_train_img, dir_train_mask, dir_val_img, dir_val_mask, \n",
    "#     n_channels, img_scale, val_percent, batch_size, num_workers, \n",
    "#     apply_augmentations, padding)"
   ]
  },
  {
   "cell_type": "code",
   "execution_count": 55,
   "id": "53f559ce",
   "metadata": {},
   "outputs": [
    {
     "name": "stderr",
     "output_type": "stream",
     "text": [
      "C:\\Users\\s2137314\\Anaconda3\\envs\\gel_env\\lib\\site-packages\\ipykernel_launcher.py:47: DeprecationWarning: Starting with ImageIO v3 the behavior of this function will switch to that of iio.v3.imread. To keep the current behavior (and make this warning dissapear) use `import imageio.v2 as imageio` or call `imageio.v2.imread` directly.\n"
     ]
    }
   ],
   "source": [
    "from torch.utils.data import DataLoader\n",
    "train_set = BasicDataset(dir_train_img, dir_train_mask, n_channels, img_scale,\n",
    "                                 augmentations=None, padding=padding)\n",
    "val_set = BasicDataset(dir_val_img, dir_val_mask, n_channels, img_scale,\n",
    "                           augmentations=None, padding=padding)\n",
    "n_train = int(len(train_set))\n",
    "n_val = int(len(val_set))\n",
    "\n",
    "# 3. Create data loaders\n",
    "loader_args = dict(batch_size=batch_size, num_workers=num_workers, pin_memory=True)\n",
    "train_loader = DataLoader(train_set, shuffle=True, **loader_args)\n",
    "val_loader = DataLoader(val_set, shuffle=False, drop_last=True, batch_size=1, num_workers=1, pin_memory=True)"
   ]
  },
  {
   "cell_type": "markdown",
   "id": "a3b06be4",
   "metadata": {},
   "source": [
    "# Training"
   ]
  },
  {
   "cell_type": "code",
   "execution_count": 48,
   "id": "4fcc650a",
   "metadata": {
    "scrolled": true
   },
   "outputs": [],
   "source": [
    "# Dice/F1 score - https://en.wikipedia.org/wiki/S%C3%B8rensen%E2%80%93Dice_coefficient\n",
    "# IoU/Jaccard score - https://en.wikipedia.org/wiki/Jaccard_index\n",
    "\n",
    "loss = smp.utils.losses.DiceLoss()\n",
    "metrics = [\n",
    "    smp.utils.metrics.IoU(threshold=0.5),\n",
    "]\n",
    "\n",
    "optimizer = torch.optim.Adam([ \n",
    "    dict(params=model.parameters(), lr=0.0001),\n",
    "])"
   ]
  },
  {
   "cell_type": "code",
   "execution_count": 49,
   "id": "a1c25939",
   "metadata": {},
   "outputs": [],
   "source": [
    "# create epoch runners \n",
    "# it is a simple loop of iterating over dataloader`s samples\n",
    "train_epoch = smp.utils.train.TrainEpoch(\n",
    "    model, \n",
    "    loss=loss, \n",
    "    metrics=metrics, \n",
    "    optimizer=optimizer,\n",
    "    device=torch.device('cuda' if torch.cuda.is_available() else 'cpu'),\n",
    "    verbose=True,\n",
    ")\n",
    "\n",
    "valid_epoch = smp.utils.train.ValidEpoch(\n",
    "    model, \n",
    "    loss=loss, \n",
    "    metrics=metrics, \n",
    "    device=torch.device('cuda' if torch.cuda.is_available() else 'cpu'),\n",
    "    verbose=True,\n",
    ")"
   ]
  },
  {
   "cell_type": "code",
   "execution_count": 50,
   "id": "77f98458",
   "metadata": {},
   "outputs": [
    {
     "name": "stdout",
     "output_type": "stream",
     "text": [
      "\n",
      "Epoch: 0\n",
      "train:   0%|                                                                                    | 0/99 [00:00<?, ?it/s]"
     ]
    },
    {
     "name": "stderr",
     "output_type": "stream",
     "text": [
      "C:\\Users\\s2137314\\Anaconda3\\envs\\gel_env\\lib\\site-packages\\ipykernel_launcher.py:66: DeprecationWarning: Starting with ImageIO v3 the behavior of this function will switch to that of iio.v3.imread. To keep the current behavior (and make this warning dissapear) use `import imageio.v2 as imageio` or call `imageio.v2.imread` directly.\n",
      "C:\\Users\\s2137314\\Anaconda3\\envs\\gel_env\\lib\\site-packages\\segmentation_models_pytorch\\base\\modules.py:116: UserWarning: Implicit dimension choice for softmax has been deprecated. Change the call to include dim=X as an argument.\n",
      "  return self.activation(x)\n"
     ]
    },
    {
     "name": "stdout",
     "output_type": "stream",
     "text": [
      "train: 100%|██████████████████████████████████| 99/99 [16:48<00:00, 10.19s/it, dice_loss - 0.9794, iou_score - 0.01047]\n"
     ]
    },
    {
     "ename": "NameError",
     "evalue": "name 'valid_loader' is not defined",
     "output_type": "error",
     "traceback": [
      "\u001b[1;31m---------------------------------------------------------------------------\u001b[0m",
      "\u001b[1;31mNameError\u001b[0m                                 Traceback (most recent call last)",
      "\u001b[1;32m~\\AppData\\Local\\Temp\\ipykernel_2344\\1007678217.py\u001b[0m in \u001b[0;36m<module>\u001b[1;34m\u001b[0m\n\u001b[0;32m      5\u001b[0m     \u001b[0mprint\u001b[0m\u001b[1;33m(\u001b[0m\u001b[1;34m'\\nEpoch: {}'\u001b[0m\u001b[1;33m.\u001b[0m\u001b[0mformat\u001b[0m\u001b[1;33m(\u001b[0m\u001b[0mi\u001b[0m\u001b[1;33m)\u001b[0m\u001b[1;33m)\u001b[0m\u001b[1;33m\u001b[0m\u001b[1;33m\u001b[0m\u001b[0m\n\u001b[0;32m      6\u001b[0m     \u001b[0mtrain_logs\u001b[0m \u001b[1;33m=\u001b[0m \u001b[0mtrain_epoch\u001b[0m\u001b[1;33m.\u001b[0m\u001b[0mrun\u001b[0m\u001b[1;33m(\u001b[0m\u001b[0mtrain_loader\u001b[0m\u001b[1;33m)\u001b[0m\u001b[1;33m\u001b[0m\u001b[1;33m\u001b[0m\u001b[0m\n\u001b[1;32m----> 7\u001b[1;33m     \u001b[0mvalid_logs\u001b[0m \u001b[1;33m=\u001b[0m \u001b[0mvalid_epoch\u001b[0m\u001b[1;33m.\u001b[0m\u001b[0mrun\u001b[0m\u001b[1;33m(\u001b[0m\u001b[0mvalid_loader\u001b[0m\u001b[1;33m)\u001b[0m\u001b[1;33m\u001b[0m\u001b[1;33m\u001b[0m\u001b[0m\n\u001b[0m\u001b[0;32m      8\u001b[0m \u001b[1;33m\u001b[0m\u001b[0m\n\u001b[0;32m      9\u001b[0m     \u001b[1;31m# do something (save model, change lr, etc.)\u001b[0m\u001b[1;33m\u001b[0m\u001b[1;33m\u001b[0m\u001b[1;33m\u001b[0m\u001b[0m\n",
      "\u001b[1;31mNameError\u001b[0m: name 'valid_loader' is not defined"
     ]
    }
   ],
   "source": [
    "max_score = 0\n",
    "\n",
    "for i in range(0, 40):\n",
    "    \n",
    "    print('\\nEpoch: {}'.format(i))\n",
    "    train_logs = train_epoch.run(train_loader)\n",
    "    valid_logs = valid_epoch.run(valid_loader)\n",
    "    \n",
    "    # do something (save model, change lr, etc.)\n",
    "    if max_score < valid_logs['iou_score']:\n",
    "        max_score = valid_logs['iou_score']\n",
    "        torch.save(model, './best_model.pth')\n",
    "        print('Model saved!')\n",
    "        \n",
    "    if i == 25:\n",
    "        optimizer.param_groups[0]['lr'] = 1e-5\n",
    "        print('Decrease decoder learning rate to 1e-5!')"
   ]
  },
  {
   "cell_type": "code",
   "execution_count": null,
   "id": "2fc9c461",
   "metadata": {},
   "outputs": [],
   "source": []
  },
  {
   "cell_type": "code",
   "execution_count": null,
   "id": "6d1ec44b",
   "metadata": {},
   "outputs": [],
   "source": []
  },
  {
   "cell_type": "code",
   "execution_count": 59,
   "id": "f05344c1",
   "metadata": {},
   "outputs": [],
   "source": [
    "from torchinfo import summary\n",
    "model_structure = summary(model, mode='train', depth=10, device='cpu', verbose=0)"
   ]
  },
  {
   "cell_type": "code",
   "execution_count": 60,
   "id": "add0660b",
   "metadata": {
    "scrolled": false
   },
   "outputs": [
    {
     "name": "stdout",
     "output_type": "stream",
     "text": [
      "================================================================================\n",
      "Layer (type:depth-idx)                                  Param #\n",
      "================================================================================\n",
      "Linknet                                                 --\n",
      "├─ResNetEncoder: 1-1                                    --\n",
      "│    └─Conv2d: 2-1                                      3,136\n",
      "│    └─BatchNorm2d: 2-2                                 128\n",
      "│    └─ReLU: 2-3                                        --\n",
      "│    └─MaxPool2d: 2-4                                   --\n",
      "│    └─Sequential: 2-5                                  --\n",
      "│    │    └─BasicBlock: 3-1                             --\n",
      "│    │    │    └─Conv2d: 4-1                            36,864\n",
      "│    │    │    └─BatchNorm2d: 4-2                       128\n",
      "│    │    │    └─ReLU: 4-3                              --\n",
      "│    │    │    └─Conv2d: 4-4                            36,864\n",
      "│    │    │    └─BatchNorm2d: 4-5                       128\n",
      "│    │    └─BasicBlock: 3-2                             --\n",
      "│    │    │    └─Conv2d: 4-6                            36,864\n",
      "│    │    │    └─BatchNorm2d: 4-7                       128\n",
      "│    │    │    └─ReLU: 4-8                              --\n",
      "│    │    │    └─Conv2d: 4-9                            36,864\n",
      "│    │    │    └─BatchNorm2d: 4-10                      128\n",
      "│    └─Sequential: 2-6                                  --\n",
      "│    │    └─BasicBlock: 3-3                             --\n",
      "│    │    │    └─Conv2d: 4-11                           73,728\n",
      "│    │    │    └─BatchNorm2d: 4-12                      256\n",
      "│    │    │    └─ReLU: 4-13                             --\n",
      "│    │    │    └─Conv2d: 4-14                           147,456\n",
      "│    │    │    └─BatchNorm2d: 4-15                      256\n",
      "│    │    │    └─Sequential: 4-16                       --\n",
      "│    │    │    │    └─Conv2d: 5-1                       8,192\n",
      "│    │    │    │    └─BatchNorm2d: 5-2                  256\n",
      "│    │    └─BasicBlock: 3-4                             --\n",
      "│    │    │    └─Conv2d: 4-17                           147,456\n",
      "│    │    │    └─BatchNorm2d: 4-18                      256\n",
      "│    │    │    └─ReLU: 4-19                             --\n",
      "│    │    │    └─Conv2d: 4-20                           147,456\n",
      "│    │    │    └─BatchNorm2d: 4-21                      256\n",
      "│    └─Sequential: 2-7                                  --\n",
      "│    │    └─BasicBlock: 3-5                             --\n",
      "│    │    │    └─Conv2d: 4-22                           294,912\n",
      "│    │    │    └─BatchNorm2d: 4-23                      512\n",
      "│    │    │    └─ReLU: 4-24                             --\n",
      "│    │    │    └─Conv2d: 4-25                           589,824\n",
      "│    │    │    └─BatchNorm2d: 4-26                      512\n",
      "│    │    │    └─Sequential: 4-27                       --\n",
      "│    │    │    │    └─Conv2d: 5-3                       32,768\n",
      "│    │    │    │    └─BatchNorm2d: 5-4                  512\n",
      "│    │    └─BasicBlock: 3-6                             --\n",
      "│    │    │    └─Conv2d: 4-28                           589,824\n",
      "│    │    │    └─BatchNorm2d: 4-29                      512\n",
      "│    │    │    └─ReLU: 4-30                             --\n",
      "│    │    │    └─Conv2d: 4-31                           589,824\n",
      "│    │    │    └─BatchNorm2d: 4-32                      512\n",
      "│    └─Sequential: 2-8                                  --\n",
      "│    │    └─BasicBlock: 3-7                             --\n",
      "│    │    │    └─Conv2d: 4-33                           1,179,648\n",
      "│    │    │    └─BatchNorm2d: 4-34                      1,024\n",
      "│    │    │    └─ReLU: 4-35                             --\n",
      "│    │    │    └─Conv2d: 4-36                           2,359,296\n",
      "│    │    │    └─BatchNorm2d: 4-37                      1,024\n",
      "│    │    │    └─Sequential: 4-38                       --\n",
      "│    │    │    │    └─Conv2d: 5-5                       131,072\n",
      "│    │    │    │    └─BatchNorm2d: 5-6                  1,024\n",
      "│    │    └─BasicBlock: 3-8                             --\n",
      "│    │    │    └─Conv2d: 4-39                           2,359,296\n",
      "│    │    │    └─BatchNorm2d: 4-40                      1,024\n",
      "│    │    │    └─ReLU: 4-41                             --\n",
      "│    │    │    └─Conv2d: 4-42                           2,359,296\n",
      "│    │    │    └─BatchNorm2d: 4-43                      1,024\n",
      "├─LinknetDecoder: 1-2                                   --\n",
      "│    └─ModuleList: 2-9                                  --\n",
      "│    │    └─DecoderBlock: 3-9                           --\n",
      "│    │    │    └─Sequential: 4-44                       --\n",
      "│    │    │    │    └─Conv2dReLU: 5-7                   --\n",
      "│    │    │    │    │    └─Conv2d: 6-1                  65,536\n",
      "│    │    │    │    │    └─BatchNorm2d: 6-2             256\n",
      "│    │    │    │    │    └─ReLU: 6-3                    --\n",
      "│    │    │    │    └─TransposeX2: 5-8                  --\n",
      "│    │    │    │    │    └─ConvTranspose2d: 6-4         262,272\n",
      "│    │    │    │    │    └─BatchNorm2d: 6-5             256\n",
      "│    │    │    │    │    └─ReLU: 6-6                    --\n",
      "│    │    │    │    └─Conv2dReLU: 5-9                   --\n",
      "│    │    │    │    │    └─Conv2d: 6-7                  32,768\n",
      "│    │    │    │    │    └─BatchNorm2d: 6-8             512\n",
      "│    │    │    │    │    └─ReLU: 6-9                    --\n",
      "│    │    └─DecoderBlock: 3-10                          --\n",
      "│    │    │    └─Sequential: 4-45                       --\n",
      "│    │    │    │    └─Conv2dReLU: 5-10                  --\n",
      "│    │    │    │    │    └─Conv2d: 6-10                 16,384\n",
      "│    │    │    │    │    └─BatchNorm2d: 6-11            128\n",
      "│    │    │    │    │    └─ReLU: 6-12                   --\n",
      "│    │    │    │    └─TransposeX2: 5-11                 --\n",
      "│    │    │    │    │    └─ConvTranspose2d: 6-13        65,600\n",
      "│    │    │    │    │    └─BatchNorm2d: 6-14            128\n",
      "│    │    │    │    │    └─ReLU: 6-15                   --\n",
      "│    │    │    │    └─Conv2dReLU: 5-12                  --\n",
      "│    │    │    │    │    └─Conv2d: 6-16                 8,192\n",
      "│    │    │    │    │    └─BatchNorm2d: 6-17            256\n",
      "│    │    │    │    │    └─ReLU: 6-18                   --\n",
      "│    │    └─DecoderBlock: 3-11                          --\n",
      "│    │    │    └─Sequential: 4-46                       --\n",
      "│    │    │    │    └─Conv2dReLU: 5-13                  --\n",
      "│    │    │    │    │    └─Conv2d: 6-19                 4,096\n",
      "│    │    │    │    │    └─BatchNorm2d: 6-20            64\n",
      "│    │    │    │    │    └─ReLU: 6-21                   --\n",
      "│    │    │    │    └─TransposeX2: 5-14                 --\n",
      "│    │    │    │    │    └─ConvTranspose2d: 6-22        16,416\n",
      "│    │    │    │    │    └─BatchNorm2d: 6-23            64\n",
      "│    │    │    │    │    └─ReLU: 6-24                   --\n",
      "│    │    │    │    └─Conv2dReLU: 5-15                  --\n",
      "│    │    │    │    │    └─Conv2d: 6-25                 2,048\n",
      "│    │    │    │    │    └─BatchNorm2d: 6-26            128\n",
      "│    │    │    │    │    └─ReLU: 6-27                   --\n",
      "│    │    └─DecoderBlock: 3-12                          --\n",
      "│    │    │    └─Sequential: 4-47                       --\n",
      "│    │    │    │    └─Conv2dReLU: 5-16                  --\n",
      "│    │    │    │    │    └─Conv2d: 6-28                 1,024\n",
      "│    │    │    │    │    └─BatchNorm2d: 6-29            32\n",
      "│    │    │    │    │    └─ReLU: 6-30                   --\n",
      "│    │    │    │    └─TransposeX2: 5-17                 --\n",
      "│    │    │    │    │    └─ConvTranspose2d: 6-31        4,112\n",
      "│    │    │    │    │    └─BatchNorm2d: 6-32            32\n",
      "│    │    │    │    │    └─ReLU: 6-33                   --\n",
      "│    │    │    │    └─Conv2dReLU: 5-18                  --\n",
      "│    │    │    │    │    └─Conv2d: 6-34                 1,024\n",
      "│    │    │    │    │    └─BatchNorm2d: 6-35            128\n",
      "│    │    │    │    │    └─ReLU: 6-36                   --\n",
      "│    │    └─DecoderBlock: 3-13                          --\n",
      "│    │    │    └─Sequential: 4-48                       --\n",
      "│    │    │    │    └─Conv2dReLU: 5-19                  --\n",
      "│    │    │    │    │    └─Conv2d: 6-37                 1,024\n",
      "│    │    │    │    │    └─BatchNorm2d: 6-38            32\n",
      "│    │    │    │    │    └─ReLU: 6-39                   --\n",
      "│    │    │    │    └─TransposeX2: 5-20                 --\n",
      "│    │    │    │    │    └─ConvTranspose2d: 6-40        4,112\n",
      "│    │    │    │    │    └─BatchNorm2d: 6-41            32\n",
      "│    │    │    │    │    └─ReLU: 6-42                   --\n",
      "│    │    │    │    └─Conv2dReLU: 5-21                  --\n",
      "│    │    │    │    │    └─Conv2d: 6-43                 512\n",
      "│    │    │    │    │    └─BatchNorm2d: 6-44            64\n",
      "│    │    │    │    │    └─ReLU: 6-45                   --\n",
      "├─SegmentationHead: 1-3                                 --\n",
      "│    └─Conv2d: 2-10                                     66\n",
      "│    └─Identity: 2-11                                   --\n",
      "│    └─Activation: 2-12                                 --\n",
      "│    │    └─Softmax: 3-14                               --\n",
      "================================================================================\n",
      "Total params: 11,657,538\n",
      "Trainable params: 11,657,538\n",
      "Non-trainable params: 0\n",
      "================================================================================\n"
     ]
    }
   ],
   "source": [
    "print(model_structure)"
   ]
  },
  {
   "cell_type": "code",
   "execution_count": 69,
   "id": "61ed32d2",
   "metadata": {},
   "outputs": [
    {
     "data": {
      "text/plain": [
       "<generator object Module.named_parameters at 0x0000020635A36CC8>"
      ]
     },
     "execution_count": 69,
     "metadata": {},
     "output_type": "execute_result"
    }
   ],
   "source": [
    "model.named_parameters()"
   ]
  },
  {
   "cell_type": "code",
   "execution_count": 75,
   "id": "70d200e6",
   "metadata": {},
   "outputs": [],
   "source": [
    "test=None"
   ]
  },
  {
   "cell_type": "code",
   "execution_count": 80,
   "id": "ff67bb81",
   "metadata": {},
   "outputs": [
    {
     "ename": "TypeError",
     "evalue": "int() argument must be a string, a bytes-like object or a number, not 'NoneType'",
     "output_type": "error",
     "traceback": [
      "\u001b[1;31m---------------------------------------------------------------------------\u001b[0m",
      "\u001b[1;31mTypeError\u001b[0m                                 Traceback (most recent call last)",
      "\u001b[1;32m~\\AppData\\Local\\Temp\\ipykernel_2344\\3168336917.py\u001b[0m in \u001b[0;36m<module>\u001b[1;34m\u001b[0m\n\u001b[1;32m----> 1\u001b[1;33m \u001b[0mteststr\u001b[0m \u001b[1;33m=\u001b[0m \u001b[0mint\u001b[0m\u001b[1;33m(\u001b[0m\u001b[0mtest\u001b[0m\u001b[1;33m)\u001b[0m\u001b[1;33m\u001b[0m\u001b[1;33m\u001b[0m\u001b[0m\n\u001b[0m",
      "\u001b[1;31mTypeError\u001b[0m: int() argument must be a string, a bytes-like object or a number, not 'NoneType'"
     ]
    }
   ],
   "source": [
    "teststr = int(test)"
   ]
  },
  {
   "cell_type": "code",
   "execution_count": 79,
   "id": "fcd304d0",
   "metadata": {},
   "outputs": [
    {
     "name": "stdout",
     "output_type": "stream",
     "text": [
      "string\n"
     ]
    }
   ],
   "source": [
    "if teststr is not None:\n",
    "    print('string')"
   ]
  },
  {
   "cell_type": "code",
   "execution_count": 81,
   "id": "0eb14b91",
   "metadata": {},
   "outputs": [
    {
     "data": {
      "text/plain": [
       "True"
      ]
     },
     "execution_count": 81,
     "metadata": {},
     "output_type": "execute_result"
    }
   ],
   "source": [
    "bool('test')"
   ]
  },
  {
   "cell_type": "code",
   "execution_count": null,
   "id": "dac52c05",
   "metadata": {},
   "outputs": [],
   "source": []
  }
 ],
 "metadata": {
  "kernelspec": {
   "display_name": "Python 3 (ipykernel)",
   "language": "python",
   "name": "python3"
  },
  "language_info": {
   "codemirror_mode": {
    "name": "ipython",
    "version": 3
   },
   "file_extension": ".py",
   "mimetype": "text/x-python",
   "name": "python",
   "nbconvert_exporter": "python",
   "pygments_lexer": "ipython3",
   "version": "3.7.13"
  }
 },
 "nbformat": 4,
 "nbformat_minor": 5
}
