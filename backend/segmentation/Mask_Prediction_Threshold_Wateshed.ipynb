{
 "cells": [
  {
   "cell_type": "code",
   "execution_count": 1,
   "id": "b9409cc2",
   "metadata": {},
   "outputs": [],
   "source": [
    "import numpy as np"
   ]
  },
  {
   "cell_type": "code",
   "execution_count": 2,
   "id": "959d0523",
   "metadata": {},
   "outputs": [],
   "source": [
    "selected_file = \"C:/2022_Summer_Intern/Gel_Images_UNet_Test/Models/PC_Gel_Nathan_Q1+Q2+selected_2022_07_28_16;42;07/segmentation_images/epoch1_mask_pred.npy\""
   ]
  },
  {
   "cell_type": "code",
   "execution_count": null,
   "id": "246a7bba",
   "metadata": {},
   "outputs": [],
   "source": [
    "mask_pred = cv2.imread()  # H, W, C"
   ]
  },
  {
   "cell_type": "code",
   "execution_count": 3,
   "id": "dfbf1f8c",
   "metadata": {},
   "outputs": [
    {
     "name": "stdout",
     "output_type": "stream",
     "text": [
      "[[[-0.28026244  0.17395368]\n",
      "  [-0.40589482  0.1103431 ]\n",
      "  [-0.63686794  0.16847906]\n",
      "  ...\n",
      "  [-0.48301074  0.18597984]\n",
      "  [-0.27459344  0.33381668]\n",
      "  [-0.34943214  0.26269472]]\n",
      "\n",
      " [[-0.3485656   0.25797158]\n",
      "  [-0.41043925  0.08262721]\n",
      "  [-0.19145283  0.19203459]\n",
      "  ...\n",
      "  [-0.39125922  0.19966538]\n",
      "  [-0.15522069  0.21579155]\n",
      "  [-0.26822335  0.29285717]]\n",
      "\n",
      " [[-0.33475825  0.29778287]\n",
      "  [-0.23148748  0.20576677]\n",
      "  [-0.2161604   0.1291847 ]\n",
      "  ...\n",
      "  [-0.27662584  0.11311433]\n",
      "  [-0.07216033  0.22480172]\n",
      "  [-0.15674084  0.2649768 ]]\n",
      "\n",
      " ...\n",
      "\n",
      " [[-0.40663087  0.23502408]\n",
      "  [-0.20326968  0.09328975]\n",
      "  [-0.19138628  0.14164576]\n",
      "  ...\n",
      "  [-0.30378422  0.10782146]\n",
      "  [-0.12555791  0.18133518]\n",
      "  [-0.31390968  0.16435026]]\n",
      "\n",
      " [[-0.3216762   0.27381408]\n",
      "  [-0.16330115  0.08872144]\n",
      "  [-0.11936514  0.09321263]\n",
      "  ...\n",
      "  [-0.2537508  -0.03796969]\n",
      "  [-0.15909976  0.03025222]\n",
      "  [-0.22620349  0.20388788]]\n",
      "\n",
      " [[-0.33222744  0.14489895]\n",
      "  [-0.08373796  0.09603738]\n",
      "  [-0.20670052  0.12645948]\n",
      "  ...\n",
      "  [-0.30428487  0.0642071 ]\n",
      "  [-0.18333817  0.20156696]\n",
      "  [-0.25402236  0.15962914]]]\n"
     ]
    }
   ],
   "source": [
    "\n",
    "\n",
    "data = np.load(selected_file)\n",
    "print(data)"
   ]
  },
  {
   "cell_type": "code",
   "execution_count": null,
   "id": "1c7a202f",
   "metadata": {},
   "outputs": [],
   "source": []
  }
 ],
 "metadata": {
  "kernelspec": {
   "display_name": "Python 3 (ipykernel)",
   "language": "python",
   "name": "python3"
  },
  "language_info": {
   "codemirror_mode": {
    "name": "ipython",
    "version": 3
   },
   "file_extension": ".py",
   "mimetype": "text/x-python",
   "name": "python",
   "nbconvert_exporter": "python",
   "pygments_lexer": "ipython3",
   "version": "3.7.13"
  }
 },
 "nbformat": 4,
 "nbformat_minor": 5
}
