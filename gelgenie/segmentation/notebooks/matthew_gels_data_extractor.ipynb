{
 "cells": [
  {
   "cell_type": "code",
   "execution_count": 11,
   "id": "baec5cc1",
   "metadata": {},
   "outputs": [],
   "source": [
    "# this file extracts all gels from a folder and gives them a standardised name for easy access down-the-line\n",
    "import os\n",
    "from os.path import join\n",
    "from segmentation.helper_functions.general_functions import extract_image_names_from_folder\n",
    "import shutil  \n",
    "import csv\n",
    "from tqdm.notebook import tqdm\n",
    "\n",
    "base_path = '/Users/matt/Documents/PhD/lab_portfolio/multiplexed_biomarker_detection/lab_journals'\n",
    "\n",
    "out_path = '/Users/matt/Documents/PhD/research_output/Automatic_Gel_Analyzer/data/originals/matthew_gels'\n"
   ]
  },
  {
   "cell_type": "code",
   "execution_count": 14,
   "id": "c0cb7bf7",
   "metadata": {
    "scrolled": false
   },
   "outputs": [
    {
     "data": {
      "application/vnd.jupyter.widget-view+json": {
       "model_id": "756753075ef640988d3a0076d4e047a9",
       "version_major": 2,
       "version_minor": 0
      },
      "text/plain": [
       "  0%|          | 0/893 [00:00<?, ?it/s]"
      ]
     },
     "metadata": {},
     "output_type": "display_data"
    }
   ],
   "source": [
    "\n",
    "name_relator = [['Original Name', 'New Name']]\n",
    "\n",
    "for index, file in enumerate(tqdm(extract_image_names_from_folder(base_path, recursive=True))):\n",
    "    if 'box_designs' in file or 'specification_data' in file:\n",
    "        continue\n",
    "    filename = file.split('/')[-1]\n",
    "    extension = '.' + filename.split('.')[-1]\n",
    "    new_name = '%s%s' % (index,extension)    \n",
    "    shutil.copy2(file, join(out_path, new_name))\n",
    "    name_relator.append([file.split('/Users/matt/Documents/PhD/lab_portfolio')[-1], new_name])\n",
    "    \n",
    "with open(join(out_path, 'name_index.csv'), 'w') as file:\n",
    "    writer = csv.writer(file)\n",
    "    for row in name_relator:\n",
    "        writer.writerow(row) \n",
    "\n"
   ]
  },
  {
   "cell_type": "code",
   "execution_count": null,
   "id": "c0f8e827",
   "metadata": {},
   "outputs": [],
   "source": []
  }
 ],
 "metadata": {
  "kernelspec": {
   "display_name": "Python 3 (ipykernel)",
   "language": "python",
   "name": "python3"
  },
  "language_info": {
   "codemirror_mode": {
    "name": "ipython",
    "version": 3
   },
   "file_extension": ".py",
   "mimetype": "text/x-python",
   "name": "python",
   "nbconvert_exporter": "python",
   "pygments_lexer": "ipython3",
   "version": "3.8.13"
  }
 },
 "nbformat": 4,
 "nbformat_minor": 5
}
