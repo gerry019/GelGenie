{
 "cells": [
  {
   "cell_type": "code",
   "execution_count": 105,
   "id": "2b3af4bc",
   "metadata": {
    "ExecuteTime": {
     "end_time": "2023-12-13T10:02:18.736708Z",
     "start_time": "2023-12-13T10:02:18.707459Z"
    }
   },
   "outputs": [],
   "source": [
    "from pathlib import Path\n",
    "import os\n",
    "from os.path import join\n",
    "import numpy as np\n",
    "import pandas as pd\n",
    "import matplotlib.pyplot as plt\n",
    "import seaborn as sns\n",
    "from matplotlib.backends.backend_pdf import PdfPages\n",
    "import re\n",
    "from gelgenie.segmentation.helper_functions.general_functions import create_dir_if_empty"
   ]
  },
  {
   "cell_type": "markdown",
   "source": [
    "#### Main data prep functions"
   ],
   "metadata": {
    "collapsed": false
   },
   "id": "b8c79d087c785513"
  },
  {
   "cell_type": "code",
   "execution_count": 106,
   "id": "617d4157",
   "metadata": {
    "ExecuteTime": {
     "end_time": "2023-12-13T10:02:19.604799Z",
     "start_time": "2023-12-13T10:02:19.590406Z"
    }
   },
   "outputs": [],
   "source": [
    "def modify_keys_and_add_prefix(data_dict, prefix):\n",
    "    \"\"\"\n",
    "    Modify keys in a dictionary by removing a prefix and adding a new prefix.\n",
    "\n",
    "    Parameters:\n",
    "    - data_dict (dict): The input dictionary to be modified.\n",
    "    - prefix (str): The prefix to be added to the modified keys.\n",
    "\n",
    "    Modifies the keys in the input dictionary by removing a prefix (if present) and adding a new prefix.\n",
    "    The modified dictionary is updated in-place.\n",
    "\n",
    "    Example:\n",
    "    >>> data_dict = {'old\\\\key_1': 10, 'old\\\\key_2': 20}\n",
    "    >>> modify_keys_and_add_prefix(data_dict, 'new_')\n",
    "    >>> print(data_dict)\n",
    "    {'new_key1': 10, 'new_key2': 20}\n",
    "    \"\"\"\n",
    "    # Iterate over a copy of keys to avoid changing the dictionary size during iteration\n",
    "    for old_key in list(data_dict.keys()):\n",
    "        # Find the index of the backslash character\n",
    "        index = old_key.find(\"\\\\\")\n",
    "        \n",
    "        # If the backslash is present, create a new key starting from the character after the backslash\n",
    "        if index != -1:\n",
    "            new_key = old_key[index + 1:]\n",
    "        else:\n",
    "            # If no backslash is found, use the original key\n",
    "            new_key = old_key\n",
    "        \n",
    "        # Remove any underscores after the backslash (if present)\n",
    "        new_key = new_key.split('_')[0] if '_' in new_key else new_key\n",
    "        \n",
    "        # Add the new prefix to the modified key\n",
    "        new_key = f\"{prefix}{new_key}\"\n",
    "        \n",
    "        # Update the dictionary with the modified key\n",
    "        data_dict[new_key] = data_dict.pop(old_key)\n",
    "\n",
    "\n",
    "def min_max_normalize(df, group_column, target_column, new_column_name=None):\n",
    "    \"\"\"\n",
    "    Min-Max normalize the values of a column in a Pandas DataFrame grouped by another column.\n",
    "\n",
    "    Parameters:\n",
    "    - df: Pandas DataFrame\n",
    "    - group_column: Column used for grouping\n",
    "    - target_column: Column to be min-max normalized\n",
    "    - new_column_name: Name for the new column with normalized values (default is 'Normalized_<target_column>')\n",
    "\n",
    "    Returns:\n",
    "    - df_normalized: DataFrame with the new column containing min-max normalized values within each group\n",
    "    \"\"\"\n",
    "    # If new_column_name is not provided, create a default name\n",
    "    if new_column_name is None:\n",
    "        new_column_name = f'Normalized_{target_column}'\n",
    "\n",
    "    # Calculate the min and max values for each group\n",
    "    min_values = df.groupby(group_column)[target_column].transform('min')\n",
    "    max_values = df.groupby(group_column)[target_column].transform('max')\n",
    "\n",
    "    # Apply the min-max normalization formula and add a new column\n",
    "    df[new_column_name] = (df[target_column] - min_values) / (max_values - min_values)\n",
    "\n",
    "    return df\n",
    "\n",
    "def load_ga_csv_files_from_folders(parent_folder, prefix=\"ga_\"):\n",
    "    \"\"\"\n",
    "    Load CSV files from folders and create a dictionary of DataFrames with prefixed names.\n",
    "\n",
    "    Parameters:\n",
    "    - parent_folder (str): The path to the parent folder containing numbered subfolders.\n",
    "    - prefix (str): The prefix to be added to the names of the DataFrames (default is \"ga_\").\n",
    "\n",
    "    Returns:\n",
    "    - dataframes (dict): A dictionary where keys are prefixed folder names, and values are corresponding DataFrames.\n",
    "    \"\"\"\n",
    "    dataframes = {}  # Dictionary to store DataFrames\n",
    "\n",
    "    # Iterate through folders in the parent folder\n",
    "    for folder_name in os.listdir(parent_folder):\n",
    "        folder_path = os.path.join(parent_folder, folder_name)\n",
    "\n",
    "        # Check if the item in the parent folder is a directory\n",
    "        if os.path.isdir(folder_path):\n",
    "            csv_file_path = os.path.join(folder_path, \"collated_data_with_band_quality.csv\")\n",
    "\n",
    "            # Check if \"collated_data_with_band_quality.csv\" exists in the folder\n",
    "            if os.path.isfile(csv_file_path):\n",
    "                # Read the CSV file into a DataFrame\n",
    "                dataframe = pd.read_csv(csv_file_path)\n",
    "\n",
    "                # Add the prefix to the folder name and use it as the key in the dictionary\n",
    "                prefixed_folder_name = f\"{prefix}{folder_name}\"\n",
    "                dataframes[prefixed_folder_name] = dataframe\n",
    "\n",
    "    return dataframes\n",
    "\n",
    "def min_max_normalize_multiple_inplace(dataframes_dict, group_column, target_columns, new_column_prefix=None):\n",
    "    \"\"\"\n",
    "    Min-Max normalize the values of specified columns in multiple DataFrames stored in a dictionary.\n",
    "    Add normalized columns to the existing DataFrames.\n",
    "\n",
    "    Parameters:\n",
    "    - dataframes_dict (dict): A dictionary where keys are DataFrame names and values are DataFrames.\n",
    "    - group_column (str): Column used for grouping in each DataFrame.\n",
    "    - target_columns (list): List of columns to be min-max normalized in each DataFrame.\n",
    "    - new_column_prefix (str): Prefix for the new columns with normalized values (default is 'Normalized_').\n",
    "\n",
    "    Modifies the input DataFrames in-place by adding normalized columns.\n",
    "\n",
    "    Example:\n",
    "    >>> dataframes_dict = {'df1': pd.DataFrame({'Group': ['A', 'A', 'B', 'B'], 'Values1': [10, 15, 5, 8]}),\n",
    "                           'df2': pd.DataFrame({'Group': ['C', 'C', 'D', 'D'], 'Values1': [50, 55, 45, 60]})}\n",
    "    >>> min_max_normalize_multiple_inplace(dataframes_dict, group_column='Group', target_columns=['Values1'])\n",
    "    >>> print(dataframes_dict['df1'])\n",
    "       Group  Values1  Normalized_Values1\n",
    "    0     A       10                0.00\n",
    "    1     A       15                1.00\n",
    "    2     B        5                0.00\n",
    "    3     B        8                1.00\n",
    "    \"\"\"\n",
    "    # If new_column_prefix is not provided, create a default name\n",
    "    if new_column_prefix is None:\n",
    "        new_column_prefix = 'Normalized_'\n",
    "\n",
    "    # Iterate through DataFrames in the dictionary\n",
    "    for df_name, df in dataframes_dict.items():\n",
    "        # Iterate through target columns in each DataFrame\n",
    "        for target_column in target_columns:\n",
    "            # Calculate the min and max values for each group in the current DataFrame\n",
    "            min_values = df.groupby(group_column)[target_column].transform('min')\n",
    "            max_values = df.groupby(group_column)[target_column].transform('max')\n",
    "\n",
    "            # Add a new column with the normalized values to the existing DataFrame\n",
    "            new_column_name = f\"{new_column_prefix}{target_column}\"\n",
    "            df[new_column_name] = (df[target_column] - min_values) / (max_values - min_values)\n",
    "\n",
    "        # Update the dictionary with the modified DataFrame\n",
    "        dataframes_dict[df_name] = df\n",
    "\n",
    "        \n",
    "def load_gg_csv_files_to_dict(folder_path, prefix=\"prefix_\"):\n",
    "    \"\"\"\n",
    "    Load CSV files from a folder and create a dictionary of DataFrames with prefixed keys.\n",
    "\n",
    "    Parameters:\n",
    "    - folder_path (str): The path to the folder containing CSV files.\n",
    "    - prefix (str): The prefix to be added to the keys of the dictionary (default is \"prefix_\").\n",
    "\n",
    "    Returns:\n",
    "    - dataframes_dict (dict): A dictionary where keys are prefixed numbers, and values are corresponding DataFrames.\n",
    "    \"\"\"\n",
    "    dataframes_dict = {}  # Dictionary to store DataFrames\n",
    "\n",
    "    # Iterate through files in the folder\n",
    "    for filename in os.listdir(folder_path):\n",
    "        # Check if the file is a CSV file\n",
    "        if filename.endswith(\".csv\"):\n",
    "            # Extract the number from the filename\n",
    "            file_number = filename.split(\"_\")[0]\n",
    "\n",
    "            # Read the CSV file into a DataFrame\n",
    "            file_path = os.path.join(folder_path, filename)\n",
    "            dataframe = pd.read_csv(file_path)\n",
    "\n",
    "            # Add the prefix to the number and use it as the key in the dictionary\n",
    "            key = f\"{prefix}{file_number}\"\n",
    "            dataframes_dict[key] = dataframe\n",
    "\n",
    "    return dataframes_dict\n",
    "\n",
    "\n",
    "def remove_spaces_from_column_headings_inplace(dataframes_dict):\n",
    "    \"\"\"\n",
    "    Remove spaces at the start and end of column headings in pandas DataFrames stored in a dictionary.\n",
    "    Replace the old columns with the modified column headings in-place.\n",
    "\n",
    "    Parameters:\n",
    "    - dataframes_dict (dict): A dictionary where keys are DataFrame names and values are DataFrames.\n",
    "\n",
    "    Modifies the input DataFrames in-place by replacing old columns with modified column headings.\n",
    "    \"\"\"\n",
    "    # Iterate through DataFrames in the dictionary\n",
    "    for df_name, df in dataframes_dict.items():\n",
    "        # Remove spaces at the start and end of column headings and replace the old columns\n",
    "        df.columns = df.columns.str.strip()\n",
    "\n",
    "        # Update the dictionary with the modified DataFrame\n",
    "        dataframes_dict[df_name] = df"
   ]
  },
  {
   "cell_type": "markdown",
   "source": [
    "#### Data Preprocessing"
   ],
   "metadata": {
    "collapsed": false
   },
   "id": "1f405b29f92ee6ab"
  },
  {
   "cell_type": "code",
   "execution_count": 107,
   "id": "eb8ec275",
   "metadata": {
    "ExecuteTime": {
     "end_time": "2023-12-13T10:02:23.001405Z",
     "start_time": "2023-12-13T10:02:22.719840Z"
    }
   },
   "outputs": [
    {
     "name": "stdout",
     "output_type": "stream",
     "text": [
      "reference data:\n"
     ]
    },
    {
     "data": {
      "text/plain": "    Band ID  Ladder  Intensity  Normalized_Intensity\n0         1     NEB       40.0              0.168317\n1         2     NEB       40.0              0.168317\n2         3     NEB       48.0              0.247525\n3         4     NEB       40.0              0.168317\n4         5     NEB       32.0              0.089109\n5         6     NEB      120.0              0.960396\n6         7     NEB       40.0              0.168317\n7         8     NEB       57.0              0.336634\n8         9     NEB       45.0              0.217822\n9        10     NEB      122.0              0.980198\n10       11     NEB       34.0              0.108911\n11       12     NEB       31.0              0.079208\n12       13     NEB       27.0              0.039604\n13       14     NEB       23.0              0.000000\n14       15     NEB      124.0              1.000000\n15       16     NEB       49.0              0.257426\n16       17     NEB       37.0              0.138614\n17       18     NEB       32.0              0.089109\n18       19     NEB       61.0              0.376238\n19        1  Thermo       20.0              0.000000\n20        2  Thermo       20.0              0.000000\n21        3  Thermo       20.0              0.000000\n22        4  Thermo       20.0              0.000000\n23        5  Thermo       20.0              0.000000\n24        6  Thermo       20.0              0.000000\n25        7  Thermo       20.0              0.000000\n26        8  Thermo       20.0              0.000000\n27        9  Thermo       20.0              0.000000\n28       10  Thermo       70.0              1.000000\n29       11  Thermo       30.0              0.200000\n30       12  Thermo       30.0              0.200000\n31       13  Thermo       30.0              0.200000\n32       14  Thermo       30.0              0.200000\n33       15  Thermo       30.0              0.200000\n34       16  Thermo       30.0              0.200000\n35       17  Thermo       30.0              0.200000\n36       18  Thermo       40.0              0.400000\n37       19  Thermo        NaN                   NaN",
      "text/html": "<div>\n<style scoped>\n    .dataframe tbody tr th:only-of-type {\n        vertical-align: middle;\n    }\n\n    .dataframe tbody tr th {\n        vertical-align: top;\n    }\n\n    .dataframe thead th {\n        text-align: right;\n    }\n</style>\n<table border=\"1\" class=\"dataframe\">\n  <thead>\n    <tr style=\"text-align: right;\">\n      <th></th>\n      <th>Band ID</th>\n      <th>Ladder</th>\n      <th>Intensity</th>\n      <th>Normalized_Intensity</th>\n    </tr>\n  </thead>\n  <tbody>\n    <tr>\n      <th>0</th>\n      <td>1</td>\n      <td>NEB</td>\n      <td>40.0</td>\n      <td>0.168317</td>\n    </tr>\n    <tr>\n      <th>1</th>\n      <td>2</td>\n      <td>NEB</td>\n      <td>40.0</td>\n      <td>0.168317</td>\n    </tr>\n    <tr>\n      <th>2</th>\n      <td>3</td>\n      <td>NEB</td>\n      <td>48.0</td>\n      <td>0.247525</td>\n    </tr>\n    <tr>\n      <th>3</th>\n      <td>4</td>\n      <td>NEB</td>\n      <td>40.0</td>\n      <td>0.168317</td>\n    </tr>\n    <tr>\n      <th>4</th>\n      <td>5</td>\n      <td>NEB</td>\n      <td>32.0</td>\n      <td>0.089109</td>\n    </tr>\n    <tr>\n      <th>5</th>\n      <td>6</td>\n      <td>NEB</td>\n      <td>120.0</td>\n      <td>0.960396</td>\n    </tr>\n    <tr>\n      <th>6</th>\n      <td>7</td>\n      <td>NEB</td>\n      <td>40.0</td>\n      <td>0.168317</td>\n    </tr>\n    <tr>\n      <th>7</th>\n      <td>8</td>\n      <td>NEB</td>\n      <td>57.0</td>\n      <td>0.336634</td>\n    </tr>\n    <tr>\n      <th>8</th>\n      <td>9</td>\n      <td>NEB</td>\n      <td>45.0</td>\n      <td>0.217822</td>\n    </tr>\n    <tr>\n      <th>9</th>\n      <td>10</td>\n      <td>NEB</td>\n      <td>122.0</td>\n      <td>0.980198</td>\n    </tr>\n    <tr>\n      <th>10</th>\n      <td>11</td>\n      <td>NEB</td>\n      <td>34.0</td>\n      <td>0.108911</td>\n    </tr>\n    <tr>\n      <th>11</th>\n      <td>12</td>\n      <td>NEB</td>\n      <td>31.0</td>\n      <td>0.079208</td>\n    </tr>\n    <tr>\n      <th>12</th>\n      <td>13</td>\n      <td>NEB</td>\n      <td>27.0</td>\n      <td>0.039604</td>\n    </tr>\n    <tr>\n      <th>13</th>\n      <td>14</td>\n      <td>NEB</td>\n      <td>23.0</td>\n      <td>0.000000</td>\n    </tr>\n    <tr>\n      <th>14</th>\n      <td>15</td>\n      <td>NEB</td>\n      <td>124.0</td>\n      <td>1.000000</td>\n    </tr>\n    <tr>\n      <th>15</th>\n      <td>16</td>\n      <td>NEB</td>\n      <td>49.0</td>\n      <td>0.257426</td>\n    </tr>\n    <tr>\n      <th>16</th>\n      <td>17</td>\n      <td>NEB</td>\n      <td>37.0</td>\n      <td>0.138614</td>\n    </tr>\n    <tr>\n      <th>17</th>\n      <td>18</td>\n      <td>NEB</td>\n      <td>32.0</td>\n      <td>0.089109</td>\n    </tr>\n    <tr>\n      <th>18</th>\n      <td>19</td>\n      <td>NEB</td>\n      <td>61.0</td>\n      <td>0.376238</td>\n    </tr>\n    <tr>\n      <th>19</th>\n      <td>1</td>\n      <td>Thermo</td>\n      <td>20.0</td>\n      <td>0.000000</td>\n    </tr>\n    <tr>\n      <th>20</th>\n      <td>2</td>\n      <td>Thermo</td>\n      <td>20.0</td>\n      <td>0.000000</td>\n    </tr>\n    <tr>\n      <th>21</th>\n      <td>3</td>\n      <td>Thermo</td>\n      <td>20.0</td>\n      <td>0.000000</td>\n    </tr>\n    <tr>\n      <th>22</th>\n      <td>4</td>\n      <td>Thermo</td>\n      <td>20.0</td>\n      <td>0.000000</td>\n    </tr>\n    <tr>\n      <th>23</th>\n      <td>5</td>\n      <td>Thermo</td>\n      <td>20.0</td>\n      <td>0.000000</td>\n    </tr>\n    <tr>\n      <th>24</th>\n      <td>6</td>\n      <td>Thermo</td>\n      <td>20.0</td>\n      <td>0.000000</td>\n    </tr>\n    <tr>\n      <th>25</th>\n      <td>7</td>\n      <td>Thermo</td>\n      <td>20.0</td>\n      <td>0.000000</td>\n    </tr>\n    <tr>\n      <th>26</th>\n      <td>8</td>\n      <td>Thermo</td>\n      <td>20.0</td>\n      <td>0.000000</td>\n    </tr>\n    <tr>\n      <th>27</th>\n      <td>9</td>\n      <td>Thermo</td>\n      <td>20.0</td>\n      <td>0.000000</td>\n    </tr>\n    <tr>\n      <th>28</th>\n      <td>10</td>\n      <td>Thermo</td>\n      <td>70.0</td>\n      <td>1.000000</td>\n    </tr>\n    <tr>\n      <th>29</th>\n      <td>11</td>\n      <td>Thermo</td>\n      <td>30.0</td>\n      <td>0.200000</td>\n    </tr>\n    <tr>\n      <th>30</th>\n      <td>12</td>\n      <td>Thermo</td>\n      <td>30.0</td>\n      <td>0.200000</td>\n    </tr>\n    <tr>\n      <th>31</th>\n      <td>13</td>\n      <td>Thermo</td>\n      <td>30.0</td>\n      <td>0.200000</td>\n    </tr>\n    <tr>\n      <th>32</th>\n      <td>14</td>\n      <td>Thermo</td>\n      <td>30.0</td>\n      <td>0.200000</td>\n    </tr>\n    <tr>\n      <th>33</th>\n      <td>15</td>\n      <td>Thermo</td>\n      <td>30.0</td>\n      <td>0.200000</td>\n    </tr>\n    <tr>\n      <th>34</th>\n      <td>16</td>\n      <td>Thermo</td>\n      <td>30.0</td>\n      <td>0.200000</td>\n    </tr>\n    <tr>\n      <th>35</th>\n      <td>17</td>\n      <td>Thermo</td>\n      <td>30.0</td>\n      <td>0.200000</td>\n    </tr>\n    <tr>\n      <th>36</th>\n      <td>18</td>\n      <td>Thermo</td>\n      <td>40.0</td>\n      <td>0.400000</td>\n    </tr>\n    <tr>\n      <th>37</th>\n      <td>19</td>\n      <td>Thermo</td>\n      <td>NaN</td>\n      <td>NaN</td>\n    </tr>\n  </tbody>\n</table>\n</div>"
     },
     "execution_count": 107,
     "metadata": {},
     "output_type": "execute_result"
    }
   ],
   "source": [
    "# modify the below paths to point to wherever the gelgenie (gg)/gelanalyzer (ga)/ reference data is stored\n",
    "gg_path = Path(\"/Users/matt/Documents/PhD/research_output/Automatic_Gel_Analyzer/quantitative_results/qupath_data/james_data_v3_fixed_global/Data\")\n",
    "ga_path = Path(\"/Users/matt/Documents/PhD/research_output/Automatic_Gel_Analyzer/quantitative_results/gelanalyzer\")\n",
    "reference_path = Path(\"/Users/matt/Documents/PhD/research_output/Automatic_Gel_Analyzer/quantitative_results/reference_ladder_masses.csv\")\n",
    "\n",
    "gg_dfs = load_gg_csv_files_to_dict(gg_path, \"gg_\") # loads data and converts to dictionary\n",
    "remove_spaces_from_column_headings_inplace(gg_dfs) # deletes spaces from column headings (due to an old bug that has now been fixed)\n",
    "\n",
    "gg_dfs = {key: gg_dfs[key] for key in sorted(gg_dfs.keys(), key=lambda s: [int(t) if t.isdigit() else t.lower() for t in re.split(r'(\\d+)', s)])}  # sorts by gel ID\n",
    "\n",
    "ga_dfs = load_ga_csv_files_from_folders(ga_path)\n",
    "ga_dfs = {key: ga_dfs[key] for key in sorted(ga_dfs.keys(), key=lambda s: [int(t) if t.isdigit() else t.lower() for t in re.split(r'(\\d+)', s)])} # sorts by gel ID\n",
    "\n",
    "for key, df in ga_dfs.items():\n",
    "    ga_dfs[key] = df[df['Reliable Band'] != 0].copy() # removes all band data that has been deemed as unreliable\n",
    "\n",
    "reference_df = pd.read_csv(reference_path)\n",
    "reference_df.rename(columns={\"NEB ladder\": \"NEB\", \" ThermoFisher ladder\": \"Thermo\"}, inplace=True)\n",
    "reference_df[\"Band ID\"] = range(1, len(reference_df) + 1)\n",
    "reference_df = pd.melt(reference_df, id_vars=[\"Band ID\"], value_vars=[\"NEB\", \"Thermo\"], var_name=\"Ladder\", value_name=\"Intensity\")\n",
    "reference_df['Normalized_Intensity'] = reference_df.groupby(\"Ladder\")[\"Intensity\"].transform(lambda x: (x - x.min()) / (x.max() - x.min()))\n",
    "print('reference data:')\n",
    "reference_df"
   ]
  },
  {
   "cell_type": "code",
   "execution_count": 108,
   "outputs": [
    {
     "name": "stdout",
     "output_type": "stream",
     "text": [
      "Example gelgenie data:\n"
     ]
    },
    {
     "data": {
      "text/plain": "     Lane ID  Band ID  Pixel Count  Average Intensity  Raw Volume  \\\n0          1        1          376          26.015957        9782   \n1          1        2          409          30.677262       12547   \n2          1        3          367          31.940054       11722   \n3          1        4          351          33.413105       11728   \n4          1        5          395          30.524051       12057   \n..       ...      ...          ...                ...         ...   \n211       12       14          492          43.217480       21263   \n212       12       15          501          40.638723       20360   \n213       12       16          515          38.761165       19962   \n214       12       17          582          31.378007       18262   \n215       12       18          641          30.241810       19385   \n\n     Local Corrected Volume  Global Corrected Volume  \n0               4856.063857              5297.103333  \n1               7064.778191              7668.482083  \n2               6146.662321              7344.454583  \n3               5660.595745              7541.301250  \n4               6270.890274              7345.472917  \n..                      ...                      ...  \n211            11534.032430             15394.465000  \n212            10766.295490             14384.113750  \n213             9940.058187             13819.122920  \n214             8060.949640             11319.952500  \n215             7800.116307             11739.205420  \n\n[216 rows x 7 columns]",
      "text/html": "<div>\n<style scoped>\n    .dataframe tbody tr th:only-of-type {\n        vertical-align: middle;\n    }\n\n    .dataframe tbody tr th {\n        vertical-align: top;\n    }\n\n    .dataframe thead th {\n        text-align: right;\n    }\n</style>\n<table border=\"1\" class=\"dataframe\">\n  <thead>\n    <tr style=\"text-align: right;\">\n      <th></th>\n      <th>Lane ID</th>\n      <th>Band ID</th>\n      <th>Pixel Count</th>\n      <th>Average Intensity</th>\n      <th>Raw Volume</th>\n      <th>Local Corrected Volume</th>\n      <th>Global Corrected Volume</th>\n    </tr>\n  </thead>\n  <tbody>\n    <tr>\n      <th>0</th>\n      <td>1</td>\n      <td>1</td>\n      <td>376</td>\n      <td>26.015957</td>\n      <td>9782</td>\n      <td>4856.063857</td>\n      <td>5297.103333</td>\n    </tr>\n    <tr>\n      <th>1</th>\n      <td>1</td>\n      <td>2</td>\n      <td>409</td>\n      <td>30.677262</td>\n      <td>12547</td>\n      <td>7064.778191</td>\n      <td>7668.482083</td>\n    </tr>\n    <tr>\n      <th>2</th>\n      <td>1</td>\n      <td>3</td>\n      <td>367</td>\n      <td>31.940054</td>\n      <td>11722</td>\n      <td>6146.662321</td>\n      <td>7344.454583</td>\n    </tr>\n    <tr>\n      <th>3</th>\n      <td>1</td>\n      <td>4</td>\n      <td>351</td>\n      <td>33.413105</td>\n      <td>11728</td>\n      <td>5660.595745</td>\n      <td>7541.301250</td>\n    </tr>\n    <tr>\n      <th>4</th>\n      <td>1</td>\n      <td>5</td>\n      <td>395</td>\n      <td>30.524051</td>\n      <td>12057</td>\n      <td>6270.890274</td>\n      <td>7345.472917</td>\n    </tr>\n    <tr>\n      <th>...</th>\n      <td>...</td>\n      <td>...</td>\n      <td>...</td>\n      <td>...</td>\n      <td>...</td>\n      <td>...</td>\n      <td>...</td>\n    </tr>\n    <tr>\n      <th>211</th>\n      <td>12</td>\n      <td>14</td>\n      <td>492</td>\n      <td>43.217480</td>\n      <td>21263</td>\n      <td>11534.032430</td>\n      <td>15394.465000</td>\n    </tr>\n    <tr>\n      <th>212</th>\n      <td>12</td>\n      <td>15</td>\n      <td>501</td>\n      <td>40.638723</td>\n      <td>20360</td>\n      <td>10766.295490</td>\n      <td>14384.113750</td>\n    </tr>\n    <tr>\n      <th>213</th>\n      <td>12</td>\n      <td>16</td>\n      <td>515</td>\n      <td>38.761165</td>\n      <td>19962</td>\n      <td>9940.058187</td>\n      <td>13819.122920</td>\n    </tr>\n    <tr>\n      <th>214</th>\n      <td>12</td>\n      <td>17</td>\n      <td>582</td>\n      <td>31.378007</td>\n      <td>18262</td>\n      <td>8060.949640</td>\n      <td>11319.952500</td>\n    </tr>\n    <tr>\n      <th>215</th>\n      <td>12</td>\n      <td>18</td>\n      <td>641</td>\n      <td>30.241810</td>\n      <td>19385</td>\n      <td>7800.116307</td>\n      <td>11739.205420</td>\n    </tr>\n  </tbody>\n</table>\n<p>216 rows × 7 columns</p>\n</div>"
     },
     "execution_count": 108,
     "metadata": {},
     "output_type": "execute_result"
    }
   ],
   "source": [
    "print('Example gelgenie data:')\n",
    "gg_dfs['gg_0']"
   ],
   "metadata": {
    "collapsed": false,
    "ExecuteTime": {
     "end_time": "2023-12-13T10:02:24.321544Z",
     "start_time": "2023-12-13T10:02:24.177424Z"
    }
   },
   "id": "ab4d4474e3c732c2"
  },
  {
   "cell_type": "code",
   "execution_count": 109,
   "outputs": [
    {
     "name": "stdout",
     "output_type": "stream",
     "text": [
      "Example gelanalyzer data:\n"
     ]
    },
    {
     "data": {
      "text/plain": "     Lane ID  Band ID  Raw Volume  Background Corrected Volume  Reliable Band\n0          1        1        1891                          916              1\n1          1        2        1847                          827              1\n2          1        3        2019                         1073              1\n3          1        4        1900                          881              1\n4          1        5        2046                          735              1\n..       ...      ...         ...                          ...            ...\n223       12       15        3145                         1329              1\n224       12       16        1802                          447              1\n225       12       17        1751                          342              1\n226       12       18        1394                          242              1\n227       12       19        1206                          284              1\n\n[228 rows x 5 columns]",
      "text/html": "<div>\n<style scoped>\n    .dataframe tbody tr th:only-of-type {\n        vertical-align: middle;\n    }\n\n    .dataframe tbody tr th {\n        vertical-align: top;\n    }\n\n    .dataframe thead th {\n        text-align: right;\n    }\n</style>\n<table border=\"1\" class=\"dataframe\">\n  <thead>\n    <tr style=\"text-align: right;\">\n      <th></th>\n      <th>Lane ID</th>\n      <th>Band ID</th>\n      <th>Raw Volume</th>\n      <th>Background Corrected Volume</th>\n      <th>Reliable Band</th>\n    </tr>\n  </thead>\n  <tbody>\n    <tr>\n      <th>0</th>\n      <td>1</td>\n      <td>1</td>\n      <td>1891</td>\n      <td>916</td>\n      <td>1</td>\n    </tr>\n    <tr>\n      <th>1</th>\n      <td>1</td>\n      <td>2</td>\n      <td>1847</td>\n      <td>827</td>\n      <td>1</td>\n    </tr>\n    <tr>\n      <th>2</th>\n      <td>1</td>\n      <td>3</td>\n      <td>2019</td>\n      <td>1073</td>\n      <td>1</td>\n    </tr>\n    <tr>\n      <th>3</th>\n      <td>1</td>\n      <td>4</td>\n      <td>1900</td>\n      <td>881</td>\n      <td>1</td>\n    </tr>\n    <tr>\n      <th>4</th>\n      <td>1</td>\n      <td>5</td>\n      <td>2046</td>\n      <td>735</td>\n      <td>1</td>\n    </tr>\n    <tr>\n      <th>...</th>\n      <td>...</td>\n      <td>...</td>\n      <td>...</td>\n      <td>...</td>\n      <td>...</td>\n    </tr>\n    <tr>\n      <th>223</th>\n      <td>12</td>\n      <td>15</td>\n      <td>3145</td>\n      <td>1329</td>\n      <td>1</td>\n    </tr>\n    <tr>\n      <th>224</th>\n      <td>12</td>\n      <td>16</td>\n      <td>1802</td>\n      <td>447</td>\n      <td>1</td>\n    </tr>\n    <tr>\n      <th>225</th>\n      <td>12</td>\n      <td>17</td>\n      <td>1751</td>\n      <td>342</td>\n      <td>1</td>\n    </tr>\n    <tr>\n      <th>226</th>\n      <td>12</td>\n      <td>18</td>\n      <td>1394</td>\n      <td>242</td>\n      <td>1</td>\n    </tr>\n    <tr>\n      <th>227</th>\n      <td>12</td>\n      <td>19</td>\n      <td>1206</td>\n      <td>284</td>\n      <td>1</td>\n    </tr>\n  </tbody>\n</table>\n<p>228 rows × 5 columns</p>\n</div>"
     },
     "execution_count": 109,
     "metadata": {},
     "output_type": "execute_result"
    }
   ],
   "source": [
    "print('Example gelanalyzer data:')\n",
    "ga_dfs['ga_31']"
   ],
   "metadata": {
    "collapsed": false,
    "ExecuteTime": {
     "end_time": "2023-12-13T10:02:25.706967Z",
     "start_time": "2023-12-13T10:02:25.670360Z"
    }
   },
   "id": "78f92f38226463c6"
  },
  {
   "cell_type": "markdown",
   "source": [
    "#### Normalization"
   ],
   "metadata": {
    "collapsed": false
   },
   "id": "d9de7cebd08f0b78"
  },
  {
   "cell_type": "code",
   "execution_count": 110,
   "id": "d8035e45",
   "metadata": {
    "scrolled": false,
    "ExecuteTime": {
     "end_time": "2023-12-13T10:02:28.207713Z",
     "start_time": "2023-12-13T10:02:27.941277Z"
    }
   },
   "outputs": [],
   "source": [
    "ga_columns = ['Raw Volume', 'Background Corrected Volume']\n",
    "gg_columns = ['Raw Volume','Local Corrected Volume', 'Global Corrected Volume']\n",
    "\n",
    "min_max_normalize_multiple_inplace(ga_dfs, 'Lane ID', ga_columns)  \n",
    "min_max_normalize_multiple_inplace(gg_dfs, 'Lane ID', gg_columns)\n",
    "\n",
    "normalized_gg_columns = ['Normalized_Raw Volume', 'Normalized_Local Corrected Volume', 'Normalized_Global Corrected Volume']\n",
    "normalized_ga_columns = ['Normalized_Raw Volume', 'Normalized_Background Corrected Volume']"
   ]
  },
  {
   "cell_type": "markdown",
   "source": [
    "#### Concatenation and final DF generation"
   ],
   "metadata": {
    "collapsed": false
   },
   "id": "f93b670246530ca8"
  },
  {
   "cell_type": "code",
   "execution_count": 111,
   "id": "f0ac9d5f",
   "metadata": {
    "ExecuteTime": {
     "end_time": "2023-12-13T10:02:29.443988Z",
     "start_time": "2023-12-13T10:02:29.250495Z"
    }
   },
   "outputs": [],
   "source": [
    "for key, df in gg_dfs.items():\n",
    "    df['App'] = \"GG\"\n",
    "    df['Gel ID'] = key\n",
    "    \n",
    "for key, df in ga_dfs.items():\n",
    "    df['App'] = \"GA\"\n",
    "    df['Gel ID'] = key\n",
    "    \n",
    "concatenated_df = pd.concat([df for df in gg_dfs.values()] + [df for df in ga_dfs.values()], ignore_index=True)\n",
    "concatenated_df['Gel ID'] = concatenated_df['Gel ID'].str.extract(r'_(\\d+)')\n",
    "concatenated_df['Gel ID'] = concatenated_df['Gel ID'].astype(int)\n",
    "concatenated_df['Ladder'] = \"Temp\"\n",
    "concatenated_df.loc[concatenated_df[\"Gel ID\"].isin([0,1,2,3,4,5,6,7,8,9,10,11,12,32,34]), \"Ladder\"] = \"Thermo\"\n",
    "concatenated_df.loc[concatenated_df[\"Gel ID\"].isin([13,14,15,16,17,18,19,20,21,22,23,24,25,26,27,29,30,31,33]), \"Ladder\"] = \"NEB\""
   ]
  },
  {
   "cell_type": "code",
   "execution_count": 112,
   "outputs": [
    {
     "data": {
      "text/plain": "      Lane ID  Band ID  Pixel Count  Average Intensity  Raw Volume  \\\n5525        1        1        297.0         107.117845     31814.0   \n5526        1        2        322.0         110.329193     35526.0   \n5527        1        3        312.0         113.445513     35395.0   \n5528        1        4        318.0         117.003145     37207.0   \n5529        1        5        346.0         113.875723     39401.0   \n...       ...      ...          ...                ...         ...   \n5736       12       14        812.0         137.464286    111621.0   \n5737       12       15        769.0         139.535761    107303.0   \n5738       12       16        820.0         135.695122    111270.0   \n5739       12       17        768.0         137.653646    105718.0   \n5740       12       18        914.0         142.621444    130356.0   \n\n      Local Corrected Volume  Global Corrected Volume  Normalized_Raw Volume  \\\n5525             9542.270270             16615.449286               0.000000   \n5526             7815.346629             19048.110000               0.070234   \n5527             7424.710983             19428.845714               0.067755   \n5528             8618.736527             20933.804286               0.102040   \n5529            10436.250996             21694.944286               0.143552   \n...                      ...                      ...                    ...   \n5736            28657.534351             70068.060000               0.794712   \n5737            24672.983920             67950.523571               0.747398   \n5738            27843.686441             69307.671429               0.790866   \n5739            24784.352941             66416.697143               0.730030   \n5740            35297.353282             83583.355714               1.000000   \n\n      Normalized_Local Corrected Volume  Normalized_Global Corrected Volume  \\\n5525                           0.083733                            0.000000   \n5526                           0.015447                            0.080351   \n5527                           0.000000                            0.092927   \n5528                           0.047214                            0.142636   \n5529                           0.119083                            0.167776   \n...                                 ...                                 ...   \n5736                           0.635444                            0.778690   \n5737                           0.513160                            0.744016   \n5738                           0.610468                            0.766239   \n5739                           0.516578                            0.718900   \n5740                           0.839218                            1.000000   \n\n     App  Gel ID  Background Corrected Volume  Reliable Band  \\\n5525  GG      32                          NaN            NaN   \n5526  GG      32                          NaN            NaN   \n5527  GG      32                          NaN            NaN   \n5528  GG      32                          NaN            NaN   \n5529  GG      32                          NaN            NaN   \n...   ..     ...                          ...            ...   \n5736  GG      32                          NaN            NaN   \n5737  GG      32                          NaN            NaN   \n5738  GG      32                          NaN            NaN   \n5739  GG      32                          NaN            NaN   \n5740  GG      32                          NaN            NaN   \n\n      Normalized_Background Corrected Volume  Ladder  \n5525                                     NaN  Thermo  \n5526                                     NaN  Thermo  \n5527                                     NaN  Thermo  \n5528                                     NaN  Thermo  \n5529                                     NaN  Thermo  \n...                                      ...     ...  \n5736                                     NaN  Thermo  \n5737                                     NaN  Thermo  \n5738                                     NaN  Thermo  \n5739                                     NaN  Thermo  \n5740                                     NaN  Thermo  \n\n[216 rows x 16 columns]",
      "text/html": "<div>\n<style scoped>\n    .dataframe tbody tr th:only-of-type {\n        vertical-align: middle;\n    }\n\n    .dataframe tbody tr th {\n        vertical-align: top;\n    }\n\n    .dataframe thead th {\n        text-align: right;\n    }\n</style>\n<table border=\"1\" class=\"dataframe\">\n  <thead>\n    <tr style=\"text-align: right;\">\n      <th></th>\n      <th>Lane ID</th>\n      <th>Band ID</th>\n      <th>Pixel Count</th>\n      <th>Average Intensity</th>\n      <th>Raw Volume</th>\n      <th>Local Corrected Volume</th>\n      <th>Global Corrected Volume</th>\n      <th>Normalized_Raw Volume</th>\n      <th>Normalized_Local Corrected Volume</th>\n      <th>Normalized_Global Corrected Volume</th>\n      <th>App</th>\n      <th>Gel ID</th>\n      <th>Background Corrected Volume</th>\n      <th>Reliable Band</th>\n      <th>Normalized_Background Corrected Volume</th>\n      <th>Ladder</th>\n    </tr>\n  </thead>\n  <tbody>\n    <tr>\n      <th>5525</th>\n      <td>1</td>\n      <td>1</td>\n      <td>297.0</td>\n      <td>107.117845</td>\n      <td>31814.0</td>\n      <td>9542.270270</td>\n      <td>16615.449286</td>\n      <td>0.000000</td>\n      <td>0.083733</td>\n      <td>0.000000</td>\n      <td>GG</td>\n      <td>32</td>\n      <td>NaN</td>\n      <td>NaN</td>\n      <td>NaN</td>\n      <td>Thermo</td>\n    </tr>\n    <tr>\n      <th>5526</th>\n      <td>1</td>\n      <td>2</td>\n      <td>322.0</td>\n      <td>110.329193</td>\n      <td>35526.0</td>\n      <td>7815.346629</td>\n      <td>19048.110000</td>\n      <td>0.070234</td>\n      <td>0.015447</td>\n      <td>0.080351</td>\n      <td>GG</td>\n      <td>32</td>\n      <td>NaN</td>\n      <td>NaN</td>\n      <td>NaN</td>\n      <td>Thermo</td>\n    </tr>\n    <tr>\n      <th>5527</th>\n      <td>1</td>\n      <td>3</td>\n      <td>312.0</td>\n      <td>113.445513</td>\n      <td>35395.0</td>\n      <td>7424.710983</td>\n      <td>19428.845714</td>\n      <td>0.067755</td>\n      <td>0.000000</td>\n      <td>0.092927</td>\n      <td>GG</td>\n      <td>32</td>\n      <td>NaN</td>\n      <td>NaN</td>\n      <td>NaN</td>\n      <td>Thermo</td>\n    </tr>\n    <tr>\n      <th>5528</th>\n      <td>1</td>\n      <td>4</td>\n      <td>318.0</td>\n      <td>117.003145</td>\n      <td>37207.0</td>\n      <td>8618.736527</td>\n      <td>20933.804286</td>\n      <td>0.102040</td>\n      <td>0.047214</td>\n      <td>0.142636</td>\n      <td>GG</td>\n      <td>32</td>\n      <td>NaN</td>\n      <td>NaN</td>\n      <td>NaN</td>\n      <td>Thermo</td>\n    </tr>\n    <tr>\n      <th>5529</th>\n      <td>1</td>\n      <td>5</td>\n      <td>346.0</td>\n      <td>113.875723</td>\n      <td>39401.0</td>\n      <td>10436.250996</td>\n      <td>21694.944286</td>\n      <td>0.143552</td>\n      <td>0.119083</td>\n      <td>0.167776</td>\n      <td>GG</td>\n      <td>32</td>\n      <td>NaN</td>\n      <td>NaN</td>\n      <td>NaN</td>\n      <td>Thermo</td>\n    </tr>\n    <tr>\n      <th>...</th>\n      <td>...</td>\n      <td>...</td>\n      <td>...</td>\n      <td>...</td>\n      <td>...</td>\n      <td>...</td>\n      <td>...</td>\n      <td>...</td>\n      <td>...</td>\n      <td>...</td>\n      <td>...</td>\n      <td>...</td>\n      <td>...</td>\n      <td>...</td>\n      <td>...</td>\n      <td>...</td>\n    </tr>\n    <tr>\n      <th>5736</th>\n      <td>12</td>\n      <td>14</td>\n      <td>812.0</td>\n      <td>137.464286</td>\n      <td>111621.0</td>\n      <td>28657.534351</td>\n      <td>70068.060000</td>\n      <td>0.794712</td>\n      <td>0.635444</td>\n      <td>0.778690</td>\n      <td>GG</td>\n      <td>32</td>\n      <td>NaN</td>\n      <td>NaN</td>\n      <td>NaN</td>\n      <td>Thermo</td>\n    </tr>\n    <tr>\n      <th>5737</th>\n      <td>12</td>\n      <td>15</td>\n      <td>769.0</td>\n      <td>139.535761</td>\n      <td>107303.0</td>\n      <td>24672.983920</td>\n      <td>67950.523571</td>\n      <td>0.747398</td>\n      <td>0.513160</td>\n      <td>0.744016</td>\n      <td>GG</td>\n      <td>32</td>\n      <td>NaN</td>\n      <td>NaN</td>\n      <td>NaN</td>\n      <td>Thermo</td>\n    </tr>\n    <tr>\n      <th>5738</th>\n      <td>12</td>\n      <td>16</td>\n      <td>820.0</td>\n      <td>135.695122</td>\n      <td>111270.0</td>\n      <td>27843.686441</td>\n      <td>69307.671429</td>\n      <td>0.790866</td>\n      <td>0.610468</td>\n      <td>0.766239</td>\n      <td>GG</td>\n      <td>32</td>\n      <td>NaN</td>\n      <td>NaN</td>\n      <td>NaN</td>\n      <td>Thermo</td>\n    </tr>\n    <tr>\n      <th>5739</th>\n      <td>12</td>\n      <td>17</td>\n      <td>768.0</td>\n      <td>137.653646</td>\n      <td>105718.0</td>\n      <td>24784.352941</td>\n      <td>66416.697143</td>\n      <td>0.730030</td>\n      <td>0.516578</td>\n      <td>0.718900</td>\n      <td>GG</td>\n      <td>32</td>\n      <td>NaN</td>\n      <td>NaN</td>\n      <td>NaN</td>\n      <td>Thermo</td>\n    </tr>\n    <tr>\n      <th>5740</th>\n      <td>12</td>\n      <td>18</td>\n      <td>914.0</td>\n      <td>142.621444</td>\n      <td>130356.0</td>\n      <td>35297.353282</td>\n      <td>83583.355714</td>\n      <td>1.000000</td>\n      <td>0.839218</td>\n      <td>1.000000</td>\n      <td>GG</td>\n      <td>32</td>\n      <td>NaN</td>\n      <td>NaN</td>\n      <td>NaN</td>\n      <td>Thermo</td>\n    </tr>\n  </tbody>\n</table>\n<p>216 rows × 16 columns</p>\n</div>"
     },
     "execution_count": 112,
     "metadata": {},
     "output_type": "execute_result"
    }
   ],
   "source": [
    "concatenated_df[concatenated_df['Gel ID'] == 32]"
   ],
   "metadata": {
    "collapsed": false,
    "ExecuteTime": {
     "end_time": "2023-12-13T10:02:31.037885Z",
     "start_time": "2023-12-13T10:02:30.856511Z"
    }
   },
   "id": "f9efe880e1e99063"
  },
  {
   "cell_type": "code",
   "execution_count": 113,
   "id": "f7f8ef29",
   "metadata": {
    "scrolled": false,
    "ExecuteTime": {
     "end_time": "2023-12-13T10:02:34.648958Z",
     "start_time": "2023-12-13T10:02:34.034334Z"
    }
   },
   "outputs": [
    {
     "data": {
      "text/plain": "<AxesSubplot:xlabel='Lane ID', ylabel='Normalized_Raw Volume'>"
     },
     "execution_count": 113,
     "metadata": {},
     "output_type": "execute_result"
    },
    {
     "data": {
      "text/plain": "<Figure size 640x480 with 1 Axes>",
      "image/png": "[encoded data removed]"
     },
     "metadata": {},
     "output_type": "display_data"
    }
   ],
   "source": [
    "sns.violinplot(data=concatenated_df, x='Lane ID', y='Normalized_Raw Volume', hue='App', split=True, inner='quart')"
   ]
  },
  {
   "cell_type": "code",
   "execution_count": 114,
   "id": "b3a8b80c",
   "metadata": {
    "ExecuteTime": {
     "end_time": "2023-12-13T10:02:36.944381Z",
     "start_time": "2023-12-13T10:02:36.833046Z"
    }
   },
   "outputs": [],
   "source": [
    "melted_df = pd.melt(concatenated_df, id_vars=['Lane ID', 'Band ID', 'Gel ID', 'App'],\n",
    "                    value_vars=['Pixel Count', 'Average Intensity', 'Raw Volume', 'Local Corrected Volume',\n",
    "                                'Global Corrected Volume', 'Normalized_Raw Volume',\n",
    "                                'Normalized_Local Corrected Volume', 'Normalized_Global Corrected Volume',\n",
    "                                'Background Corrected Volume', 'Normalized_Background Corrected Volume'],\n",
    "                    var_name='Variable', value_name='Volume')"
   ]
  },
  {
   "cell_type": "code",
   "execution_count": 115,
   "outputs": [
    {
     "data": {
      "text/plain": "        Lane ID  Band ID  Gel ID App                                Variable  \\\n0             1        1       0  GG                             Pixel Count   \n1             1        2       0  GG                             Pixel Count   \n2             1        3       0  GG                             Pixel Count   \n3             1        4       0  GG                             Pixel Count   \n4             1        5       0  GG                             Pixel Count   \n...         ...      ...     ...  ..                                     ...   \n106715       12       15      31  GA  Normalized_Background Corrected Volume   \n106716       12       16      31  GA  Normalized_Background Corrected Volume   \n106717       12       17      31  GA  Normalized_Background Corrected Volume   \n106718       12       18      31  GA  Normalized_Background Corrected Volume   \n106719       12       19      31  GA  Normalized_Background Corrected Volume   \n\n            Volume  \n0       376.000000  \n1       409.000000  \n2       367.000000  \n3       351.000000  \n4       395.000000  \n...            ...  \n106715    0.933440  \n106716    0.226143  \n106717    0.141941  \n106718    0.061748  \n106719    0.095429  \n\n[106720 rows x 6 columns]",
      "text/html": "<div>\n<style scoped>\n    .dataframe tbody tr th:only-of-type {\n        vertical-align: middle;\n    }\n\n    .dataframe tbody tr th {\n        vertical-align: top;\n    }\n\n    .dataframe thead th {\n        text-align: right;\n    }\n</style>\n<table border=\"1\" class=\"dataframe\">\n  <thead>\n    <tr style=\"text-align: right;\">\n      <th></th>\n      <th>Lane ID</th>\n      <th>Band ID</th>\n      <th>Gel ID</th>\n      <th>App</th>\n      <th>Variable</th>\n      <th>Volume</th>\n    </tr>\n  </thead>\n  <tbody>\n    <tr>\n      <th>0</th>\n      <td>1</td>\n      <td>1</td>\n      <td>0</td>\n      <td>GG</td>\n      <td>Pixel Count</td>\n      <td>376.000000</td>\n    </tr>\n    <tr>\n      <th>1</th>\n      <td>1</td>\n      <td>2</td>\n      <td>0</td>\n      <td>GG</td>\n      <td>Pixel Count</td>\n      <td>409.000000</td>\n    </tr>\n    <tr>\n      <th>2</th>\n      <td>1</td>\n      <td>3</td>\n      <td>0</td>\n      <td>GG</td>\n      <td>Pixel Count</td>\n      <td>367.000000</td>\n    </tr>\n    <tr>\n      <th>3</th>\n      <td>1</td>\n      <td>4</td>\n      <td>0</td>\n      <td>GG</td>\n      <td>Pixel Count</td>\n      <td>351.000000</td>\n    </tr>\n    <tr>\n      <th>4</th>\n      <td>1</td>\n      <td>5</td>\n      <td>0</td>\n      <td>GG</td>\n      <td>Pixel Count</td>\n      <td>395.000000</td>\n    </tr>\n    <tr>\n      <th>...</th>\n      <td>...</td>\n      <td>...</td>\n      <td>...</td>\n      <td>...</td>\n      <td>...</td>\n      <td>...</td>\n    </tr>\n    <tr>\n      <th>106715</th>\n      <td>12</td>\n      <td>15</td>\n      <td>31</td>\n      <td>GA</td>\n      <td>Normalized_Background Corrected Volume</td>\n      <td>0.933440</td>\n    </tr>\n    <tr>\n      <th>106716</th>\n      <td>12</td>\n      <td>16</td>\n      <td>31</td>\n      <td>GA</td>\n      <td>Normalized_Background Corrected Volume</td>\n      <td>0.226143</td>\n    </tr>\n    <tr>\n      <th>106717</th>\n      <td>12</td>\n      <td>17</td>\n      <td>31</td>\n      <td>GA</td>\n      <td>Normalized_Background Corrected Volume</td>\n      <td>0.141941</td>\n    </tr>\n    <tr>\n      <th>106718</th>\n      <td>12</td>\n      <td>18</td>\n      <td>31</td>\n      <td>GA</td>\n      <td>Normalized_Background Corrected Volume</td>\n      <td>0.061748</td>\n    </tr>\n    <tr>\n      <th>106719</th>\n      <td>12</td>\n      <td>19</td>\n      <td>31</td>\n      <td>GA</td>\n      <td>Normalized_Background Corrected Volume</td>\n      <td>0.095429</td>\n    </tr>\n  </tbody>\n</table>\n<p>106720 rows × 6 columns</p>\n</div>"
     },
     "execution_count": 115,
     "metadata": {},
     "output_type": "execute_result"
    }
   ],
   "source": [
    "melted_df # this df contains all the data split into rows for every single variable e.g. there is a single row for a normalised background value of a single band ID and lane ID.  The descriptor is held in the Variable column and the value is held in the Volumn column"
   ],
   "metadata": {
    "collapsed": false,
    "ExecuteTime": {
     "end_time": "2023-12-13T10:02:38.776456Z",
     "start_time": "2023-12-13T10:02:38.704806Z"
    }
   },
   "id": "2d9cc9e3b1a862e2"
  },
  {
   "cell_type": "markdown",
   "source": [
    "#### Violin: General vs Local Background Correction (GG)"
   ],
   "metadata": {
    "collapsed": false
   },
   "id": "20af851877a1dc8f"
  },
  {
   "cell_type": "code",
   "execution_count": 116,
   "id": "66873c96",
   "metadata": {
    "scrolled": true,
    "ExecuteTime": {
     "end_time": "2023-12-13T10:03:02.363915Z",
     "start_time": "2023-12-13T10:02:41.343091Z"
    }
   },
   "outputs": [],
   "source": [
    "# Select rows based on the 'Variable' column\n",
    "selected_variables = ['Normalized_Local Corrected Volume', 'Normalized_Global Corrected Volume']\n",
    "#additional_column_value = 'GA'  # Replace with the specific value you want to filter on\n",
    "subset_df = melted_df[(melted_df['Variable'].isin(selected_variables))]\n",
    "#subset_df = melted_df[(melted_df['Variable'].isin(selected_variables)) & (melted_df['App'] == additional_column_value)]\n",
    "\n",
    "# Get unique values in the \"Gel ID\" column\n",
    "unique_gel_ids = concatenated_df['Gel ID'].unique()\n",
    "\n",
    "output_dir = '/Users/matt/Desktop/violin_localvsglobal'\n",
    "\n",
    "create_dir_if_empty(output_dir)\n",
    "\n",
    "for gel_id in unique_gel_ids:\n",
    "    subset_df = melted_df[(melted_df['Variable'].isin(selected_variables)) & (melted_df['Gel ID'] == gel_id)]\n",
    "\n",
    "    # Plot the violin plot with log scale on the y-axis\n",
    "    sns.violinplot(data=subset_df, x='Lane ID', y='Volume', hue='Variable', split=True, inner='quart')\n",
    "\n",
    "    plt.title(f\"Gel - {gel_id}\")\n",
    "    plt.savefig(os.path.join(output_dir, f\"gel_{gel_id}.jpg\"))\n",
    "    plt.close()"
   ]
  },
  {
   "cell_type": "markdown",
   "source": [
    "#### Violin: GA vs GG (raw)"
   ],
   "metadata": {
    "collapsed": false
   },
   "id": "319e0037dc9b177b"
  },
  {
   "cell_type": "code",
   "execution_count": 117,
   "id": "040ff258",
   "metadata": {
    "scrolled": true,
    "ExecuteTime": {
     "end_time": "2023-12-13T10:03:15.616317Z",
     "start_time": "2023-12-13T10:03:02.373009Z"
    }
   },
   "outputs": [],
   "source": [
    "# Select rows based on the 'Variable' column\n",
    "selected_variables = ['Normalized_Raw Volume']\n",
    "#additional_column_value = 'GA'  # Replace with the specific value you want to filter on\n",
    "subset_df = melted_df[(melted_df['Variable'].isin(selected_variables))]\n",
    "#subset_df = melted_df[(melted_df['Variable'].isin(selected_variables)) & (melted_df['App'] == additional_column_value)]\n",
    "\n",
    "# Get unique values in the \"Gel ID\" column\n",
    "unique_gel_ids = concatenated_df['Gel ID'].unique()\n",
    "\n",
    "output_dir = '/Users/matt/Desktop/violin_raw_ggvsga'\n",
    "\n",
    "create_dir_if_empty(output_dir)\n",
    "\n",
    "for gel_id in unique_gel_ids:\n",
    "    \n",
    "    subset_df = melted_df[(melted_df['Variable'].isin(selected_variables)) & (melted_df['Gel ID'] == gel_id)]\n",
    "    if 'GA' not in subset_df['App'].unique():\n",
    "        continue\n",
    "\n",
    "    # Plot the violin plot with log scale on the y-axis\n",
    "    sns.violinplot(data=subset_df, x='Lane ID', y='Volume', hue='App', split=True, inner='quart', palette='muted')\n",
    "\n",
    "    plt.title(f\"Gel - {gel_id} - Normalised Raw Volume\")\n",
    "    plt.savefig(os.path.join(output_dir, f\"gel_{gel_id}.jpg\"))\n",
    "    plt.close()"
   ]
  },
  {
   "cell_type": "markdown",
   "source": [
    "#### Violin: Comparing all background correction methods"
   ],
   "metadata": {
    "collapsed": false
   },
   "id": "1cf9ece5b8923002"
  },
  {
   "cell_type": "code",
   "execution_count": 118,
   "id": "e884feb9",
   "metadata": {
    "scrolled": true,
    "ExecuteTime": {
     "end_time": "2023-12-13T10:03:30.302968Z",
     "start_time": "2023-12-13T10:03:15.602138Z"
    }
   },
   "outputs": [],
   "source": [
    "# Select rows based on the 'Variable' column\n",
    "selected_variables = ['Normalized_Local Corrected Volume', 'Normalized_Global Corrected Volume', 'Normalized_Background Corrected Volume']\n",
    "#additional_column_value = 'GA'  # Replace with the specific value you want to filter on\n",
    "subset_df = melted_df[(melted_df['Variable'].isin(selected_variables))]\n",
    "#subset_df = melted_df[(melted_df['Variable'].isin(selected_variables)) & (melted_df['App'] == additional_column_value)]\n",
    "\n",
    "# Get unique values in the \"Gel ID\" column\n",
    "unique_gel_ids = concatenated_df['Gel ID'].unique()\n",
    "\n",
    "output_dir = '/Users/matt/Desktop/violin_background_correction'\n",
    "create_dir_if_empty(output_dir)\n",
    "\n",
    "for gel_id in unique_gel_ids:\n",
    "    subset_df = melted_df[(melted_df['Variable'].isin(selected_variables)) & (melted_df['Gel ID'] == gel_id)]\n",
    "    if 'GA' not in subset_df['App'].unique():\n",
    "        continue\n",
    "    # Plot the violin plot with log scale on the y-axis\n",
    "    sns.violinplot(data=subset_df, x='Lane ID', y='Volume', hue='Variable', palette='Set2', inner='quart')\n",
    "\n",
    "    plt.title(f\"Gel - {gel_id} - Normalised Volumes\")\n",
    "    plt.savefig(os.path.join(output_dir, f\"gel_{gel_id}.jpg\"))\n",
    "    plt.close()"
   ]
  },
  {
   "cell_type": "markdown",
   "source": [
    "### Analysis of error vs reference ladder values"
   ],
   "metadata": {
    "collapsed": false
   },
   "id": "2d9d346095c3031a"
  },
  {
   "cell_type": "markdown",
   "source": [
    "#### Merging in reference values into main dataframe"
   ],
   "metadata": {
    "collapsed": false
   },
   "id": "60e846d09a0063a8"
  },
  {
   "cell_type": "code",
   "execution_count": 119,
   "id": "7714e136",
   "metadata": {
    "ExecuteTime": {
     "end_time": "2023-12-13T10:03:30.349986Z",
     "start_time": "2023-12-13T10:03:30.308612Z"
    }
   },
   "outputs": [
    {
     "data": {
      "text/plain": "       Lane ID  Band ID  Pixel Count  Average Intensity  Raw Volume  \\\n0            1        1        376.0          26.015957      9782.0   \n1            1        2        409.0          30.677262     12547.0   \n2            1        3        367.0          31.940054     11722.0   \n3            1        4        351.0          33.413105     11728.0   \n4            1        5        395.0          30.524051     12057.0   \n...        ...      ...          ...                ...         ...   \n10667       12       15          NaN                NaN      3145.0   \n10668       12       16          NaN                NaN      1802.0   \n10669       12       17          NaN                NaN      1751.0   \n10670       12       18          NaN                NaN      1394.0   \n10671       12       19          NaN                NaN      1206.0   \n\n       Local Corrected Volume  Global Corrected Volume  Normalized_Raw Volume  \\\n0                 4856.063857              5297.103333               0.000000   \n1                 7064.778191              7668.482083               0.124927   \n2                 6146.662321              7344.454583               0.087652   \n3                 5660.595745              7541.301250               0.087923   \n4                 6270.890274              7345.472917               0.102788   \n...                       ...                      ...                    ...   \n10667                     NaN                      NaN               1.000000   \n10668                     NaN                      NaN               0.307375   \n10669                     NaN                      NaN               0.281073   \n10670                     NaN                      NaN               0.096957   \n10671                     NaN                      NaN               0.000000   \n\n       Normalized_Local Corrected Volume  Normalized_Global Corrected Volume  \\\n0                               0.050952                            0.000000   \n1                               0.170629                            0.116156   \n2                               0.120882                            0.100285   \n3                               0.094545                            0.109927   \n4                               0.127613                            0.100335   \n...                                  ...                                 ...   \n10667                                NaN                                 NaN   \n10668                                NaN                                 NaN   \n10669                                NaN                                 NaN   \n10670                                NaN                                 NaN   \n10671                                NaN                                 NaN   \n\n      App  Gel ID  Background Corrected Volume  Reliable Band  \\\n0      GG       0                          NaN            NaN   \n1      GG       0                          NaN            NaN   \n2      GG       0                          NaN            NaN   \n3      GG       0                          NaN            NaN   \n4      GG       0                          NaN            NaN   \n...    ..     ...                          ...            ...   \n10667  GA      31                       1329.0            1.0   \n10668  GA      31                        447.0            1.0   \n10669  GA      31                        342.0            1.0   \n10670  GA      31                        242.0            1.0   \n10671  GA      31                        284.0            1.0   \n\n       Normalized_Background Corrected Volume  Ladder  Intensity  \\\n0                                         NaN  Thermo       20.0   \n1                                         NaN  Thermo       20.0   \n2                                         NaN  Thermo       20.0   \n3                                         NaN  Thermo       20.0   \n4                                         NaN  Thermo       20.0   \n...                                       ...     ...        ...   \n10667                                0.933440     NEB      124.0   \n10668                                0.226143     NEB       49.0   \n10669                                0.141941     NEB       37.0   \n10670                                0.061748     NEB       32.0   \n10671                                0.095429     NEB       61.0   \n\n       Normalized_Intensity  Expected Value  \n0                  0.000000        0.000000  \n1                  0.000000        0.000000  \n2                  0.000000        0.000000  \n3                  0.000000        0.000000  \n4                  0.000000        0.000000  \n...                     ...             ...  \n10667              1.000000        1.000000  \n10668              0.257426        0.257426  \n10669              0.138614        0.138614  \n10670              0.089109        0.089109  \n10671              0.376238        0.376238  \n\n[10672 rows x 19 columns]",
      "text/html": "<div>\n<style scoped>\n    .dataframe tbody tr th:only-of-type {\n        vertical-align: middle;\n    }\n\n    .dataframe tbody tr th {\n        vertical-align: top;\n    }\n\n    .dataframe thead th {\n        text-align: right;\n    }\n</style>\n<table border=\"1\" class=\"dataframe\">\n  <thead>\n    <tr style=\"text-align: right;\">\n      <th></th>\n      <th>Lane ID</th>\n      <th>Band ID</th>\n      <th>Pixel Count</th>\n      <th>Average Intensity</th>\n      <th>Raw Volume</th>\n      <th>Local Corrected Volume</th>\n      <th>Global Corrected Volume</th>\n      <th>Normalized_Raw Volume</th>\n      <th>Normalized_Local Corrected Volume</th>\n      <th>Normalized_Global Corrected Volume</th>\n      <th>App</th>\n      <th>Gel ID</th>\n      <th>Background Corrected Volume</th>\n      <th>Reliable Band</th>\n      <th>Normalized_Background Corrected Volume</th>\n      <th>Ladder</th>\n      <th>Intensity</th>\n      <th>Normalized_Intensity</th>\n      <th>Expected Value</th>\n    </tr>\n  </thead>\n  <tbody>\n    <tr>\n      <th>0</th>\n      <td>1</td>\n      <td>1</td>\n      <td>376.0</td>\n      <td>26.015957</td>\n      <td>9782.0</td>\n      <td>4856.063857</td>\n      <td>5297.103333</td>\n      <td>0.000000</td>\n      <td>0.050952</td>\n      <td>0.000000</td>\n      <td>GG</td>\n      <td>0</td>\n      <td>NaN</td>\n      <td>NaN</td>\n      <td>NaN</td>\n      <td>Thermo</td>\n      <td>20.0</td>\n      <td>0.000000</td>\n      <td>0.000000</td>\n    </tr>\n    <tr>\n      <th>1</th>\n      <td>1</td>\n      <td>2</td>\n      <td>409.0</td>\n      <td>30.677262</td>\n      <td>12547.0</td>\n      <td>7064.778191</td>\n      <td>7668.482083</td>\n      <td>0.124927</td>\n      <td>0.170629</td>\n      <td>0.116156</td>\n      <td>GG</td>\n      <td>0</td>\n      <td>NaN</td>\n      <td>NaN</td>\n      <td>NaN</td>\n      <td>Thermo</td>\n      <td>20.0</td>\n      <td>0.000000</td>\n      <td>0.000000</td>\n    </tr>\n    <tr>\n      <th>2</th>\n      <td>1</td>\n      <td>3</td>\n      <td>367.0</td>\n      <td>31.940054</td>\n      <td>11722.0</td>\n      <td>6146.662321</td>\n      <td>7344.454583</td>\n      <td>0.087652</td>\n      <td>0.120882</td>\n      <td>0.100285</td>\n      <td>GG</td>\n      <td>0</td>\n      <td>NaN</td>\n      <td>NaN</td>\n      <td>NaN</td>\n      <td>Thermo</td>\n      <td>20.0</td>\n      <td>0.000000</td>\n      <td>0.000000</td>\n    </tr>\n    <tr>\n      <th>3</th>\n      <td>1</td>\n      <td>4</td>\n      <td>351.0</td>\n      <td>33.413105</td>\n      <td>11728.0</td>\n      <td>5660.595745</td>\n      <td>7541.301250</td>\n      <td>0.087923</td>\n      <td>0.094545</td>\n      <td>0.109927</td>\n      <td>GG</td>\n      <td>0</td>\n      <td>NaN</td>\n      <td>NaN</td>\n      <td>NaN</td>\n      <td>Thermo</td>\n      <td>20.0</td>\n      <td>0.000000</td>\n      <td>0.000000</td>\n    </tr>\n    <tr>\n      <th>4</th>\n      <td>1</td>\n      <td>5</td>\n      <td>395.0</td>\n      <td>30.524051</td>\n      <td>12057.0</td>\n      <td>6270.890274</td>\n      <td>7345.472917</td>\n      <td>0.102788</td>\n      <td>0.127613</td>\n      <td>0.100335</td>\n      <td>GG</td>\n      <td>0</td>\n      <td>NaN</td>\n      <td>NaN</td>\n      <td>NaN</td>\n      <td>Thermo</td>\n      <td>20.0</td>\n      <td>0.000000</td>\n      <td>0.000000</td>\n    </tr>\n    <tr>\n      <th>...</th>\n      <td>...</td>\n      <td>...</td>\n      <td>...</td>\n      <td>...</td>\n      <td>...</td>\n      <td>...</td>\n      <td>...</td>\n      <td>...</td>\n      <td>...</td>\n      <td>...</td>\n      <td>...</td>\n      <td>...</td>\n      <td>...</td>\n      <td>...</td>\n      <td>...</td>\n      <td>...</td>\n      <td>...</td>\n      <td>...</td>\n      <td>...</td>\n    </tr>\n    <tr>\n      <th>10667</th>\n      <td>12</td>\n      <td>15</td>\n      <td>NaN</td>\n      <td>NaN</td>\n      <td>3145.0</td>\n      <td>NaN</td>\n      <td>NaN</td>\n      <td>1.000000</td>\n      <td>NaN</td>\n      <td>NaN</td>\n      <td>GA</td>\n      <td>31</td>\n      <td>1329.0</td>\n      <td>1.0</td>\n      <td>0.933440</td>\n      <td>NEB</td>\n      <td>124.0</td>\n      <td>1.000000</td>\n      <td>1.000000</td>\n    </tr>\n    <tr>\n      <th>10668</th>\n      <td>12</td>\n      <td>16</td>\n      <td>NaN</td>\n      <td>NaN</td>\n      <td>1802.0</td>\n      <td>NaN</td>\n      <td>NaN</td>\n      <td>0.307375</td>\n      <td>NaN</td>\n      <td>NaN</td>\n      <td>GA</td>\n      <td>31</td>\n      <td>447.0</td>\n      <td>1.0</td>\n      <td>0.226143</td>\n      <td>NEB</td>\n      <td>49.0</td>\n      <td>0.257426</td>\n      <td>0.257426</td>\n    </tr>\n    <tr>\n      <th>10669</th>\n      <td>12</td>\n      <td>17</td>\n      <td>NaN</td>\n      <td>NaN</td>\n      <td>1751.0</td>\n      <td>NaN</td>\n      <td>NaN</td>\n      <td>0.281073</td>\n      <td>NaN</td>\n      <td>NaN</td>\n      <td>GA</td>\n      <td>31</td>\n      <td>342.0</td>\n      <td>1.0</td>\n      <td>0.141941</td>\n      <td>NEB</td>\n      <td>37.0</td>\n      <td>0.138614</td>\n      <td>0.138614</td>\n    </tr>\n    <tr>\n      <th>10670</th>\n      <td>12</td>\n      <td>18</td>\n      <td>NaN</td>\n      <td>NaN</td>\n      <td>1394.0</td>\n      <td>NaN</td>\n      <td>NaN</td>\n      <td>0.096957</td>\n      <td>NaN</td>\n      <td>NaN</td>\n      <td>GA</td>\n      <td>31</td>\n      <td>242.0</td>\n      <td>1.0</td>\n      <td>0.061748</td>\n      <td>NEB</td>\n      <td>32.0</td>\n      <td>0.089109</td>\n      <td>0.089109</td>\n    </tr>\n    <tr>\n      <th>10671</th>\n      <td>12</td>\n      <td>19</td>\n      <td>NaN</td>\n      <td>NaN</td>\n      <td>1206.0</td>\n      <td>NaN</td>\n      <td>NaN</td>\n      <td>0.000000</td>\n      <td>NaN</td>\n      <td>NaN</td>\n      <td>GA</td>\n      <td>31</td>\n      <td>284.0</td>\n      <td>1.0</td>\n      <td>0.095429</td>\n      <td>NEB</td>\n      <td>61.0</td>\n      <td>0.376238</td>\n      <td>0.376238</td>\n    </tr>\n  </tbody>\n</table>\n<p>10672 rows × 19 columns</p>\n</div>"
     },
     "execution_count": 119,
     "metadata": {},
     "output_type": "execute_result"
    }
   ],
   "source": [
    "merged_df = pd.merge(concatenated_df, reference_df, on=['Band ID', 'Ladder'], how='left')\n",
    "merged_df['Expected Value'] = merged_df['Normalized_Intensity']\n",
    "merged_df"
   ]
  },
  {
   "cell_type": "code",
   "execution_count": 120,
   "id": "f26d6181",
   "metadata": {
    "ExecuteTime": {
     "end_time": "2023-12-13T10:03:30.376746Z",
     "start_time": "2023-12-13T10:03:30.335940Z"
    }
   },
   "outputs": [
    {
     "data": {
      "text/plain": "       Lane ID  Band ID  Pixel Count  Average Intensity  Raw Volume  \\\n0            1        1        376.0          26.015957      9782.0   \n1            1        2        409.0          30.677262     12547.0   \n2            1        3        367.0          31.940054     11722.0   \n3            1        4        351.0          33.413105     11728.0   \n4            1        5        395.0          30.524051     12057.0   \n...        ...      ...          ...                ...         ...   \n10667       12       15          NaN                NaN      3145.0   \n10668       12       16          NaN                NaN      1802.0   \n10669       12       17          NaN                NaN      1751.0   \n10670       12       18          NaN                NaN      1394.0   \n10671       12       19          NaN                NaN      1206.0   \n\n       Local Corrected Volume  Global Corrected Volume  Normalized_Raw Volume  \\\n0                 4856.063857              5297.103333               0.000000   \n1                 7064.778191              7668.482083               0.124927   \n2                 6146.662321              7344.454583               0.087652   \n3                 5660.595745              7541.301250               0.087923   \n4                 6270.890274              7345.472917               0.102788   \n...                       ...                      ...                    ...   \n10667                     NaN                      NaN               1.000000   \n10668                     NaN                      NaN               0.307375   \n10669                     NaN                      NaN               0.281073   \n10670                     NaN                      NaN               0.096957   \n10671                     NaN                      NaN               0.000000   \n\n       Normalized_Local Corrected Volume  Normalized_Global Corrected Volume  \\\n0                               0.050952                            0.000000   \n1                               0.170629                            0.116156   \n2                               0.120882                            0.100285   \n3                               0.094545                            0.109927   \n4                               0.127613                            0.100335   \n...                                  ...                                 ...   \n10667                                NaN                                 NaN   \n10668                                NaN                                 NaN   \n10669                                NaN                                 NaN   \n10670                                NaN                                 NaN   \n10671                                NaN                                 NaN   \n\n       ... Reliable Band  Normalized_Background Corrected Volume  Ladder  \\\n0      ...           NaN                                     NaN  Thermo   \n1      ...           NaN                                     NaN  Thermo   \n2      ...           NaN                                     NaN  Thermo   \n3      ...           NaN                                     NaN  Thermo   \n4      ...           NaN                                     NaN  Thermo   \n...    ...           ...                                     ...     ...   \n10667  ...           1.0                                0.933440     NEB   \n10668  ...           1.0                                0.226143     NEB   \n10669  ...           1.0                                0.141941     NEB   \n10670  ...           1.0                                0.061748     NEB   \n10671  ...           1.0                                0.095429     NEB   \n\n       Intensity  Normalized_Intensity Expected Value  Raw Difference  \\\n0           20.0              0.000000       0.000000        0.000000   \n1           20.0              0.000000       0.000000        0.124927   \n2           20.0              0.000000       0.000000        0.087652   \n3           20.0              0.000000       0.000000        0.087923   \n4           20.0              0.000000       0.000000        0.102788   \n...          ...                   ...            ...             ...   \n10667      124.0              1.000000       1.000000        0.000000   \n10668       49.0              0.257426       0.257426        0.049949   \n10669       37.0              0.138614       0.138614        0.142459   \n10670       32.0              0.089109       0.089109        0.007848   \n10671       61.0              0.376238       0.376238       -0.376238   \n\n       Local Difference  Global Difference  Background Difference  \n0              0.050952           0.000000                    NaN  \n1              0.170629           0.116156                    NaN  \n2              0.120882           0.100285                    NaN  \n3              0.094545           0.109927                    NaN  \n4              0.127613           0.100335                    NaN  \n...                 ...                ...                    ...  \n10667               NaN                NaN              -0.066560  \n10668               NaN                NaN              -0.031283  \n10669               NaN                NaN               0.003327  \n10670               NaN                NaN              -0.027361  \n10671               NaN                NaN              -0.280809  \n\n[10672 rows x 23 columns]",
      "text/html": "<div>\n<style scoped>\n    .dataframe tbody tr th:only-of-type {\n        vertical-align: middle;\n    }\n\n    .dataframe tbody tr th {\n        vertical-align: top;\n    }\n\n    .dataframe thead th {\n        text-align: right;\n    }\n</style>\n<table border=\"1\" class=\"dataframe\">\n  <thead>\n    <tr style=\"text-align: right;\">\n      <th></th>\n      <th>Lane ID</th>\n      <th>Band ID</th>\n      <th>Pixel Count</th>\n      <th>Average Intensity</th>\n      <th>Raw Volume</th>\n      <th>Local Corrected Volume</th>\n      <th>Global Corrected Volume</th>\n      <th>Normalized_Raw Volume</th>\n      <th>Normalized_Local Corrected Volume</th>\n      <th>Normalized_Global Corrected Volume</th>\n      <th>...</th>\n      <th>Reliable Band</th>\n      <th>Normalized_Background Corrected Volume</th>\n      <th>Ladder</th>\n      <th>Intensity</th>\n      <th>Normalized_Intensity</th>\n      <th>Expected Value</th>\n      <th>Raw Difference</th>\n      <th>Local Difference</th>\n      <th>Global Difference</th>\n      <th>Background Difference</th>\n    </tr>\n  </thead>\n  <tbody>\n    <tr>\n      <th>0</th>\n      <td>1</td>\n      <td>1</td>\n      <td>376.0</td>\n      <td>26.015957</td>\n      <td>9782.0</td>\n      <td>4856.063857</td>\n      <td>5297.103333</td>\n      <td>0.000000</td>\n      <td>0.050952</td>\n      <td>0.000000</td>\n      <td>...</td>\n      <td>NaN</td>\n      <td>NaN</td>\n      <td>Thermo</td>\n      <td>20.0</td>\n      <td>0.000000</td>\n      <td>0.000000</td>\n      <td>0.000000</td>\n      <td>0.050952</td>\n      <td>0.000000</td>\n      <td>NaN</td>\n    </tr>\n    <tr>\n      <th>1</th>\n      <td>1</td>\n      <td>2</td>\n      <td>409.0</td>\n      <td>30.677262</td>\n      <td>12547.0</td>\n      <td>7064.778191</td>\n      <td>7668.482083</td>\n      <td>0.124927</td>\n      <td>0.170629</td>\n      <td>0.116156</td>\n      <td>...</td>\n      <td>NaN</td>\n      <td>NaN</td>\n      <td>Thermo</td>\n      <td>20.0</td>\n      <td>0.000000</td>\n      <td>0.000000</td>\n      <td>0.124927</td>\n      <td>0.170629</td>\n      <td>0.116156</td>\n      <td>NaN</td>\n    </tr>\n    <tr>\n      <th>2</th>\n      <td>1</td>\n      <td>3</td>\n      <td>367.0</td>\n      <td>31.940054</td>\n      <td>11722.0</td>\n      <td>6146.662321</td>\n      <td>7344.454583</td>\n      <td>0.087652</td>\n      <td>0.120882</td>\n      <td>0.100285</td>\n      <td>...</td>\n      <td>NaN</td>\n      <td>NaN</td>\n      <td>Thermo</td>\n      <td>20.0</td>\n      <td>0.000000</td>\n      <td>0.000000</td>\n      <td>0.087652</td>\n      <td>0.120882</td>\n      <td>0.100285</td>\n      <td>NaN</td>\n    </tr>\n    <tr>\n      <th>3</th>\n      <td>1</td>\n      <td>4</td>\n      <td>351.0</td>\n      <td>33.413105</td>\n      <td>11728.0</td>\n      <td>5660.595745</td>\n      <td>7541.301250</td>\n      <td>0.087923</td>\n      <td>0.094545</td>\n      <td>0.109927</td>\n      <td>...</td>\n      <td>NaN</td>\n      <td>NaN</td>\n      <td>Thermo</td>\n      <td>20.0</td>\n      <td>0.000000</td>\n      <td>0.000000</td>\n      <td>0.087923</td>\n      <td>0.094545</td>\n      <td>0.109927</td>\n      <td>NaN</td>\n    </tr>\n    <tr>\n      <th>4</th>\n      <td>1</td>\n      <td>5</td>\n      <td>395.0</td>\n      <td>30.524051</td>\n      <td>12057.0</td>\n      <td>6270.890274</td>\n      <td>7345.472917</td>\n      <td>0.102788</td>\n      <td>0.127613</td>\n      <td>0.100335</td>\n      <td>...</td>\n      <td>NaN</td>\n      <td>NaN</td>\n      <td>Thermo</td>\n      <td>20.0</td>\n      <td>0.000000</td>\n      <td>0.000000</td>\n      <td>0.102788</td>\n      <td>0.127613</td>\n      <td>0.100335</td>\n      <td>NaN</td>\n    </tr>\n    <tr>\n      <th>...</th>\n      <td>...</td>\n      <td>...</td>\n      <td>...</td>\n      <td>...</td>\n      <td>...</td>\n      <td>...</td>\n      <td>...</td>\n      <td>...</td>\n      <td>...</td>\n      <td>...</td>\n      <td>...</td>\n      <td>...</td>\n      <td>...</td>\n      <td>...</td>\n      <td>...</td>\n      <td>...</td>\n      <td>...</td>\n      <td>...</td>\n      <td>...</td>\n      <td>...</td>\n      <td>...</td>\n    </tr>\n    <tr>\n      <th>10667</th>\n      <td>12</td>\n      <td>15</td>\n      <td>NaN</td>\n      <td>NaN</td>\n      <td>3145.0</td>\n      <td>NaN</td>\n      <td>NaN</td>\n      <td>1.000000</td>\n      <td>NaN</td>\n      <td>NaN</td>\n      <td>...</td>\n      <td>1.0</td>\n      <td>0.933440</td>\n      <td>NEB</td>\n      <td>124.0</td>\n      <td>1.000000</td>\n      <td>1.000000</td>\n      <td>0.000000</td>\n      <td>NaN</td>\n      <td>NaN</td>\n      <td>-0.066560</td>\n    </tr>\n    <tr>\n      <th>10668</th>\n      <td>12</td>\n      <td>16</td>\n      <td>NaN</td>\n      <td>NaN</td>\n      <td>1802.0</td>\n      <td>NaN</td>\n      <td>NaN</td>\n      <td>0.307375</td>\n      <td>NaN</td>\n      <td>NaN</td>\n      <td>...</td>\n      <td>1.0</td>\n      <td>0.226143</td>\n      <td>NEB</td>\n      <td>49.0</td>\n      <td>0.257426</td>\n      <td>0.257426</td>\n      <td>0.049949</td>\n      <td>NaN</td>\n      <td>NaN</td>\n      <td>-0.031283</td>\n    </tr>\n    <tr>\n      <th>10669</th>\n      <td>12</td>\n      <td>17</td>\n      <td>NaN</td>\n      <td>NaN</td>\n      <td>1751.0</td>\n      <td>NaN</td>\n      <td>NaN</td>\n      <td>0.281073</td>\n      <td>NaN</td>\n      <td>NaN</td>\n      <td>...</td>\n      <td>1.0</td>\n      <td>0.141941</td>\n      <td>NEB</td>\n      <td>37.0</td>\n      <td>0.138614</td>\n      <td>0.138614</td>\n      <td>0.142459</td>\n      <td>NaN</td>\n      <td>NaN</td>\n      <td>0.003327</td>\n    </tr>\n    <tr>\n      <th>10670</th>\n      <td>12</td>\n      <td>18</td>\n      <td>NaN</td>\n      <td>NaN</td>\n      <td>1394.0</td>\n      <td>NaN</td>\n      <td>NaN</td>\n      <td>0.096957</td>\n      <td>NaN</td>\n      <td>NaN</td>\n      <td>...</td>\n      <td>1.0</td>\n      <td>0.061748</td>\n      <td>NEB</td>\n      <td>32.0</td>\n      <td>0.089109</td>\n      <td>0.089109</td>\n      <td>0.007848</td>\n      <td>NaN</td>\n      <td>NaN</td>\n      <td>-0.027361</td>\n    </tr>\n    <tr>\n      <th>10671</th>\n      <td>12</td>\n      <td>19</td>\n      <td>NaN</td>\n      <td>NaN</td>\n      <td>1206.0</td>\n      <td>NaN</td>\n      <td>NaN</td>\n      <td>0.000000</td>\n      <td>NaN</td>\n      <td>NaN</td>\n      <td>...</td>\n      <td>1.0</td>\n      <td>0.095429</td>\n      <td>NEB</td>\n      <td>61.0</td>\n      <td>0.376238</td>\n      <td>0.376238</td>\n      <td>-0.376238</td>\n      <td>NaN</td>\n      <td>NaN</td>\n      <td>-0.280809</td>\n    </tr>\n  </tbody>\n</table>\n<p>10672 rows × 23 columns</p>\n</div>"
     },
     "execution_count": 120,
     "metadata": {},
     "output_type": "execute_result"
    }
   ],
   "source": [
    "# simple error used here\n",
    "merged_df[\"Raw Difference\"] = merged_df[\"Normalized_Raw Volume\"] - merged_df['Expected Value']\n",
    "merged_df[\"Local Difference\"] = merged_df[\"Normalized_Local Corrected Volume\"] - merged_df['Expected Value']\n",
    "merged_df[\"Global Difference\"] = merged_df[\"Normalized_Global Corrected Volume\"] - merged_df['Expected Value']\n",
    "merged_df[\"Background Difference\"] = merged_df[\"Normalized_Background Corrected Volume\"] - merged_df['Expected Value']\n",
    "merged_df"
   ]
  },
  {
   "cell_type": "markdown",
   "source": [
    "### Min-Max Error plotting: Raw Volumes"
   ],
   "metadata": {
    "collapsed": false
   },
   "id": "a0c193c9b95f0c73"
  },
  {
   "cell_type": "code",
   "execution_count": 121,
   "outputs": [],
   "source": [
    "output_dir = '/Users/matt/Desktop/pdf_error_plots'\n",
    "create_dir_if_empty(output_dir)"
   ],
   "metadata": {
    "collapsed": false,
    "ExecuteTime": {
     "end_time": "2023-12-13T10:03:30.396076Z",
     "start_time": "2023-12-13T10:03:30.372653Z"
    }
   },
   "id": "4f914a71f8c44939"
  },
  {
   "cell_type": "code",
   "execution_count": 122,
   "id": "930e0b9a",
   "metadata": {
    "scrolled": false,
    "ExecuteTime": {
     "end_time": "2023-12-13T10:03:53.889835Z",
     "start_time": "2023-12-13T10:03:30.386595Z"
    }
   },
   "outputs": [
    {
     "name": "stdout",
     "output_type": "stream",
     "text": [
      "Plots saved to /Users/matt/Desktop/pdf_error_plots/gavsgg_raw.pdf\n"
     ]
    }
   ],
   "source": [
    "# plots the minimum and maximum raw error for each band ID in a gel (over all lanes in the specific gel)\n",
    "\n",
    "# Output PDF file path\n",
    "output_pdf_path = join(output_dir,'gavsgg_raw.pdf')\n",
    "\n",
    "# Iterate over unique Gel IDs in merged_df and create separate plots\n",
    "unique_gel_ids = merged_df['Gel ID'].unique()\n",
    "\n",
    "with PdfPages(output_pdf_path) as pdf:\n",
    "    for gel_id in unique_gel_ids:\n",
    "        # Filter DataFrame for the current Gel ID\n",
    "        subset_df = merged_df[merged_df['Gel ID'] == gel_id]\n",
    "        \n",
    "        # Extract unique Band IDs\n",
    "        unique_band_ids = subset_df['Band ID'].unique()\n",
    "        \n",
    "        # Plot the results\n",
    "        plt.figure(figsize=(10, 6))\n",
    "        \n",
    "        # List to store legends\n",
    "        legends = []\n",
    "        \n",
    "        # Iterate over unique values in the 'App' column\n",
    "        for app_value in subset_df['App'].unique():\n",
    "            # Calculate minimum and maximum Raw Difference per Band ID for each App\n",
    "            min_max_diff = subset_df[subset_df['App'] == app_value].groupby('Band ID')['Raw Difference'].agg(['min', 'max']).reset_index()\n",
    "            \n",
    "            # Plot lines for each App\n",
    "            for j, (band_id, row) in enumerate(min_max_diff.iterrows()):\n",
    "                # Choose linestyle and marker based on the 'App' column\n",
    "                linestyle = '--' if app_value == 'GA' else '-'\n",
    "                marker = 'o' if app_value == 'GG' else '^'\n",
    "                \n",
    "                # Set color based on 'App' column\n",
    "                color = 'red' if app_value == 'GG' else 'blue'\n",
    "                \n",
    "                line, = plt.plot(\n",
    "                    [row['min'], row['max']],\n",
    "                    [band_id, band_id],\n",
    "                    linestyle=linestyle,\n",
    "                    alpha=0.5,  # Set alpha to 0.5 for transparency\n",
    "                    marker=marker,\n",
    "                    color=color,\n",
    "                    label=f'{app_value} - Band ID {row[\"Band ID\"]}',\n",
    "                )\n",
    "                legends.append(line)\n",
    "        \n",
    "        plt.yticks(range(len(unique_band_ids)), unique_band_ids)  # Set y-axis ticks to unique Band IDs\n",
    "        plt.title(f'Min and Max Raw Difference per Band ID - Gel ID {gel_id}')\n",
    "        plt.xlabel('Raw Difference')\n",
    "        plt.ylabel('Band ID')\n",
    "        \n",
    "        # Add a green dashed vertical line at point 0\n",
    "        plt.axvline(x=0, color='green', linestyle='--', label='Zero Line')\n",
    "        \n",
    "        # Place the legend outside the plot to the right\n",
    "        plt.legend(handles=legends + [plt.Line2D([0], [0], color='green', linestyle='--')], bbox_to_anchor=(1.05, 1), loc='upper left', title='App')\n",
    "        \n",
    "        # Save the plot to the PDF file\n",
    "        pdf.savefig(bbox_inches='tight')  # Use bbox_inches='tight' to include the legend\n",
    "        plt.close()\n",
    "\n",
    "print(f'Plots saved to {output_pdf_path}')"
   ]
  },
  {
   "cell_type": "code",
   "execution_count": 123,
   "outputs": [
    {
     "data": {
      "text/plain": "[1, 2, 3, 4, 5, 6, 7, 8, 9, 10, 11, 12, 13, 14, 15, 16, 17, 18, 0, 19]"
     },
     "execution_count": 123,
     "metadata": {},
     "output_type": "execute_result"
    }
   ],
   "source": [
    "list(merged_df['Band ID'].unique())"
   ],
   "metadata": {
    "collapsed": false,
    "ExecuteTime": {
     "end_time": "2023-12-13T10:03:53.895945Z",
     "start_time": "2023-12-13T10:03:53.889226Z"
    }
   },
   "id": "be08c7b22a76290d"
  },
  {
   "cell_type": "markdown",
   "source": [
    "### Min-Max Error plotting: Custom Values"
   ],
   "metadata": {
    "collapsed": false
   },
   "id": "d8b8c9e565f7c52"
  },
  {
   "cell_type": "code",
   "execution_count": 124,
   "id": "392dfe29",
   "metadata": {
    "ExecuteTime": {
     "end_time": "2023-12-13T10:03:53.910998Z",
     "start_time": "2023-12-13T10:03:53.895268Z"
    }
   },
   "outputs": [],
   "source": [
    "# function that allows you to select which error quantities should be plotted out (up to 3 max)\n",
    "def plot_min_max_values_to_pdf(df, group_columns, output_pdf_path='output_plots.pdf', mode='min_max'):\n",
    "    # Extract unique Gel IDs\n",
    "    unique_gel_ids = df['Gel ID'].unique()\n",
    "    # Assign different markers and colors to the columns\n",
    "    markers = ['o', '^', '*']\n",
    "    colors = ['red', 'blue', 'orange']\n",
    "    linestyle = '--'\n",
    "    \n",
    "    with PdfPages(output_pdf_path) as pdf:\n",
    "        for gel_id in unique_gel_ids:\n",
    "            # Filter DataFrame for the current Gel ID\n",
    "            subset_df = df[df['Gel ID'] == gel_id]\n",
    "\n",
    "            # Extract unique Band IDs\n",
    "            unique_band_ids = subset_df['Band ID'].unique()\n",
    "\n",
    "            # Plot the results for each Gel ID\n",
    "            plt.figure(figsize=(10, 6))\n",
    "            legends = []\n",
    "            for i, band_id in enumerate(unique_band_ids):\n",
    "                # Filter DataFrame for the current Band ID\n",
    "                band_df = subset_df[subset_df['Band ID'] == band_id]   \n",
    "                for j, column in enumerate(group_columns):\n",
    "                    if mode == 'min_max':\n",
    "                        # Calculate minimum and maximum values for the current column\n",
    "                        min_value = band_df[column].min()\n",
    "                        max_value = band_df[column].max()\n",
    "    \n",
    "                        # Plot lines for each column\n",
    "                        line, = plt.plot(\n",
    "                            [min_value, max_value],\n",
    "                            [band_id, band_id],\n",
    "                            linestyle=linestyle,\n",
    "                            alpha=0.5,\n",
    "                            marker=markers[j],\n",
    "                            color=colors[j],\n",
    "                            label=f'{column} - Band ID {band_id}',\n",
    "                        )\n",
    "                    elif mode == 'mean_std':\n",
    "                        # Calculate average value for the current column\n",
    "                        avg_value = band_df[column].mean()\n",
    "            \n",
    "                        # Calculate standard deviation for error bars\n",
    "                        std_dev = band_df[column].std()\n",
    "   \n",
    "                        # Plot lines and error bars for each column\n",
    "                        line = plt.errorbar(\n",
    "                            avg_value,\n",
    "                            band_id,\n",
    "                            xerr=std_dev,\n",
    "                            linestyle=linestyle,\n",
    "                            alpha=0.5,\n",
    "                            marker=markers[j],\n",
    "                            color=colors[j],\n",
    "                            label=f'{column} - Band ID {band_id}',\n",
    "                        )\n",
    "                    elif mode == 'mean':\n",
    "                        # Calculate minimum and maximum values for the current column\n",
    "                        avg_value = band_df[column].mean()\n",
    "    \n",
    "                        # Plot lines for each column\n",
    "                        line, = plt.plot(\n",
    "                            avg_value,\n",
    "                            band_id,\n",
    "                            linestyle=linestyle,\n",
    "                            alpha=0.5,\n",
    "                            marker=markers[j],\n",
    "                            color=colors[j],\n",
    "                            label=f'{column} - Band ID {band_id}',\n",
    "                        )\n",
    "                    if band_id == 1:\n",
    "                        legends.append(line)\n",
    "\n",
    "            plt.title(f'Gel ID {gel_id}')\n",
    "            plt.xlabel('Values')\n",
    "            plt.ylabel('Band ID')\n",
    "\n",
    "            # Add a green dashed vertical line at point 0\n",
    "            plt.axvline(x=0, color='green', linestyle='--', label='Zero Line')\n",
    "\n",
    "            # Place the legend outside the plot to the right\n",
    "            plt.legend(handles=legends + [plt.Line2D([0], [0], color='green', linestyle='--')], bbox_to_anchor=(1.05, 1), loc='upper left', title='Legend')\n",
    "\n",
    "            # Save the plot to the PDF file\n",
    "            pdf.savefig(bbox_inches='tight')\n",
    "            plt.close()\n",
    "            \n",
    "    print(\"PDF Saved\")\n",
    "\n",
    "# Example usage:\n",
    "# Assuming merged_df is your DataFrame\n",
    "# plot_min_max_values_to_pdf(merged_df, group_columns=['Local Difference', 'Global Difference'], output_pdf_path='output_plots.pdf')"
   ]
  },
  {
   "cell_type": "code",
   "execution_count": 125,
   "id": "a4ed5292",
   "metadata": {
    "ExecuteTime": {
     "end_time": "2023-12-13T10:04:08.730153Z",
     "start_time": "2023-12-13T10:03:53.913024Z"
    }
   },
   "outputs": [
    {
     "name": "stdout",
     "output_type": "stream",
     "text": [
      "PDF Saved\n"
     ]
    }
   ],
   "source": [
    "# gg only\n",
    "plot_min_max_values_to_pdf(merged_df, group_columns=['Local Difference', 'Global Difference'], output_pdf_path=join(output_dir,'minmax_gg_background_correction_error.pdf'))"
   ]
  },
  {
   "cell_type": "code",
   "execution_count": 126,
   "id": "f518e2b4",
   "metadata": {
    "ExecuteTime": {
     "end_time": "2023-12-13T10:04:23.036733Z",
     "start_time": "2023-12-13T10:04:08.731814Z"
    }
   },
   "outputs": [
    {
     "name": "stdout",
     "output_type": "stream",
     "text": [
      "PDF Saved\n"
     ]
    }
   ],
   "source": [
    "# gg global vs ga\n",
    "plot_min_max_values_to_pdf(merged_df, group_columns=['Global Difference', 'Background Difference'], output_pdf_path=join(output_dir,'minmax_gg_vs_ga_global.pdf'))"
   ]
  },
  {
   "cell_type": "code",
   "execution_count": 127,
   "id": "077a3188",
   "metadata": {
    "ExecuteTime": {
     "end_time": "2023-12-13T10:04:23.055037Z",
     "start_time": "2023-12-13T10:04:23.038672Z"
    }
   },
   "outputs": [],
   "source": [
    "gg_rows = merged_df[merged_df['App'] == 'GG']\n",
    "ga_rows = merged_df[merged_df['App'] == 'GA']"
   ]
  },
  {
   "cell_type": "code",
   "execution_count": 128,
   "id": "876b6c54",
   "metadata": {
    "ExecuteTime": {
     "end_time": "2023-12-13T10:04:35.630390Z",
     "start_time": "2023-12-13T10:04:23.047705Z"
    }
   },
   "outputs": [
    {
     "name": "stdout",
     "output_type": "stream",
     "text": [
      "PDF Saved\n"
     ]
    }
   ],
   "source": [
    "# ga raw vs background\n",
    "plot_min_max_values_to_pdf(ga_rows, group_columns=['Raw Difference', 'Background Difference'], output_pdf_path=join(output_dir,'ga_raw_background.pdf'))"
   ]
  },
  {
   "cell_type": "code",
   "execution_count": 129,
   "id": "8dbe6d6a",
   "metadata": {
    "ExecuteTime": {
     "end_time": "2023-12-13T10:04:49.984779Z",
     "start_time": "2023-12-13T10:04:35.632366Z"
    }
   },
   "outputs": [
    {
     "name": "stdout",
     "output_type": "stream",
     "text": [
      "PDF Saved\n"
     ]
    }
   ],
   "source": [
    "# gg local vs raw\n",
    "plot_min_max_values_to_pdf(gg_rows, group_columns=['Raw Difference', 'Local Difference'], output_pdf_path=join(output_dir,'gg_raw-local.pdf'))"
   ]
  },
  {
   "cell_type": "code",
   "execution_count": 130,
   "id": "f2fc8c5b",
   "metadata": {
    "ExecuteTime": {
     "end_time": "2023-12-13T10:05:04.096641Z",
     "start_time": "2023-12-13T10:04:49.982493Z"
    }
   },
   "outputs": [
    {
     "name": "stdout",
     "output_type": "stream",
     "text": [
      "PDF Saved\n"
     ]
    }
   ],
   "source": [
    "# gg global vs raw\n",
    "plot_min_max_values_to_pdf(gg_rows, group_columns=['Raw Difference', 'Global Difference'], output_pdf_path=join(output_dir,'gg_raw-global.pdf'))"
   ]
  },
  {
   "cell_type": "code",
   "execution_count": 131,
   "outputs": [
    {
     "name": "stdout",
     "output_type": "stream",
     "text": [
      "PDF Saved\n"
     ]
    }
   ],
   "source": [
    "# all background correction methods\n",
    "plot_min_max_values_to_pdf(merged_df, group_columns=['Background Difference', 'Global Difference', 'Local Difference'], output_pdf_path=join(output_dir,'minmax_all_background_errors.pdf'))"
   ],
   "metadata": {
    "collapsed": false,
    "ExecuteTime": {
     "end_time": "2023-12-13T10:05:19.423035Z",
     "start_time": "2023-12-13T10:05:04.097525Z"
    }
   },
   "id": "e07a3f50ad75303b"
  },
  {
   "cell_type": "code",
   "execution_count": 132,
   "outputs": [
    {
     "name": "stdout",
     "output_type": "stream",
     "text": [
      "PDF Saved\n",
      "PDF Saved\n"
     ]
    }
   ],
   "source": [
    "# all background correction methods\n",
    "plot_min_max_values_to_pdf(merged_df, group_columns=['Background Difference', 'Global Difference', 'Local Difference'], output_pdf_path=join(output_dir,'mean_std_all_background_methods.pdf'),mode='mean_std')\n",
    "plot_min_max_values_to_pdf(merged_df, group_columns=['Background Difference', 'Global Difference', 'Local Difference'], output_pdf_path=join(output_dir,'mean_all_background_methods.pdf'),mode='mean')"
   ],
   "metadata": {
    "collapsed": false,
    "ExecuteTime": {
     "end_time": "2023-12-13T10:05:57.323518Z",
     "start_time": "2023-12-13T10:05:19.422456Z"
    }
   },
   "id": "3fc676b7727f6057"
  },
  {
   "cell_type": "code",
   "execution_count": 133,
   "outputs": [
    {
     "data": {
      "text/plain": "       Lane ID  Band ID  Pixel Count  Average Intensity  Raw Volume  \\\n0            1        1        376.0          26.015957      9782.0   \n1            1        2        409.0          30.677262     12547.0   \n2            1        3        367.0          31.940054     11722.0   \n3            1        4        351.0          33.413105     11728.0   \n4            1        5        395.0          30.524051     12057.0   \n...        ...      ...          ...                ...         ...   \n10667       12       15          NaN                NaN      3145.0   \n10668       12       16          NaN                NaN      1802.0   \n10669       12       17          NaN                NaN      1751.0   \n10670       12       18          NaN                NaN      1394.0   \n10671       12       19          NaN                NaN      1206.0   \n\n       Local Corrected Volume  Global Corrected Volume  Normalized_Raw Volume  \\\n0                 4856.063857              5297.103333               0.000000   \n1                 7064.778191              7668.482083               0.124927   \n2                 6146.662321              7344.454583               0.087652   \n3                 5660.595745              7541.301250               0.087923   \n4                 6270.890274              7345.472917               0.102788   \n...                       ...                      ...                    ...   \n10667                     NaN                      NaN               1.000000   \n10668                     NaN                      NaN               0.307375   \n10669                     NaN                      NaN               0.281073   \n10670                     NaN                      NaN               0.096957   \n10671                     NaN                      NaN               0.000000   \n\n       Normalized_Local Corrected Volume  Normalized_Global Corrected Volume  \\\n0                               0.050952                            0.000000   \n1                               0.170629                            0.116156   \n2                               0.120882                            0.100285   \n3                               0.094545                            0.109927   \n4                               0.127613                            0.100335   \n...                                  ...                                 ...   \n10667                                NaN                                 NaN   \n10668                                NaN                                 NaN   \n10669                                NaN                                 NaN   \n10670                                NaN                                 NaN   \n10671                                NaN                                 NaN   \n\n       ... Reliable Band  Normalized_Background Corrected Volume  Ladder  \\\n0      ...           NaN                                     NaN  Thermo   \n1      ...           NaN                                     NaN  Thermo   \n2      ...           NaN                                     NaN  Thermo   \n3      ...           NaN                                     NaN  Thermo   \n4      ...           NaN                                     NaN  Thermo   \n...    ...           ...                                     ...     ...   \n10667  ...           1.0                                0.933440     NEB   \n10668  ...           1.0                                0.226143     NEB   \n10669  ...           1.0                                0.141941     NEB   \n10670  ...           1.0                                0.061748     NEB   \n10671  ...           1.0                                0.095429     NEB   \n\n       Intensity  Normalized_Intensity Expected Value  Raw Difference  \\\n0           20.0              0.000000       0.000000        0.000000   \n1           20.0              0.000000       0.000000        0.124927   \n2           20.0              0.000000       0.000000        0.087652   \n3           20.0              0.000000       0.000000        0.087923   \n4           20.0              0.000000       0.000000        0.102788   \n...          ...                   ...            ...             ...   \n10667      124.0              1.000000       1.000000        0.000000   \n10668       49.0              0.257426       0.257426        0.049949   \n10669       37.0              0.138614       0.138614        0.142459   \n10670       32.0              0.089109       0.089109        0.007848   \n10671       61.0              0.376238       0.376238       -0.376238   \n\n       Local Difference  Global Difference  Background Difference  \n0              0.050952           0.000000                    NaN  \n1              0.170629           0.116156                    NaN  \n2              0.120882           0.100285                    NaN  \n3              0.094545           0.109927                    NaN  \n4              0.127613           0.100335                    NaN  \n...                 ...                ...                    ...  \n10667               NaN                NaN              -0.066560  \n10668               NaN                NaN              -0.031283  \n10669               NaN                NaN               0.003327  \n10670               NaN                NaN              -0.027361  \n10671               NaN                NaN              -0.280809  \n\n[10672 rows x 23 columns]",
      "text/html": "<div>\n<style scoped>\n    .dataframe tbody tr th:only-of-type {\n        vertical-align: middle;\n    }\n\n    .dataframe tbody tr th {\n        vertical-align: top;\n    }\n\n    .dataframe thead th {\n        text-align: right;\n    }\n</style>\n<table border=\"1\" class=\"dataframe\">\n  <thead>\n    <tr style=\"text-align: right;\">\n      <th></th>\n      <th>Lane ID</th>\n      <th>Band ID</th>\n      <th>Pixel Count</th>\n      <th>Average Intensity</th>\n      <th>Raw Volume</th>\n      <th>Local Corrected Volume</th>\n      <th>Global Corrected Volume</th>\n      <th>Normalized_Raw Volume</th>\n      <th>Normalized_Local Corrected Volume</th>\n      <th>Normalized_Global Corrected Volume</th>\n      <th>...</th>\n      <th>Reliable Band</th>\n      <th>Normalized_Background Corrected Volume</th>\n      <th>Ladder</th>\n      <th>Intensity</th>\n      <th>Normalized_Intensity</th>\n      <th>Expected Value</th>\n      <th>Raw Difference</th>\n      <th>Local Difference</th>\n      <th>Global Difference</th>\n      <th>Background Difference</th>\n    </tr>\n  </thead>\n  <tbody>\n    <tr>\n      <th>0</th>\n      <td>1</td>\n      <td>1</td>\n      <td>376.0</td>\n      <td>26.015957</td>\n      <td>9782.0</td>\n      <td>4856.063857</td>\n      <td>5297.103333</td>\n      <td>0.000000</td>\n      <td>0.050952</td>\n      <td>0.000000</td>\n      <td>...</td>\n      <td>NaN</td>\n      <td>NaN</td>\n      <td>Thermo</td>\n      <td>20.0</td>\n      <td>0.000000</td>\n      <td>0.000000</td>\n      <td>0.000000</td>\n      <td>0.050952</td>\n      <td>0.000000</td>\n      <td>NaN</td>\n    </tr>\n    <tr>\n      <th>1</th>\n      <td>1</td>\n      <td>2</td>\n      <td>409.0</td>\n      <td>30.677262</td>\n      <td>12547.0</td>\n      <td>7064.778191</td>\n      <td>7668.482083</td>\n      <td>0.124927</td>\n      <td>0.170629</td>\n      <td>0.116156</td>\n      <td>...</td>\n      <td>NaN</td>\n      <td>NaN</td>\n      <td>Thermo</td>\n      <td>20.0</td>\n      <td>0.000000</td>\n      <td>0.000000</td>\n      <td>0.124927</td>\n      <td>0.170629</td>\n      <td>0.116156</td>\n      <td>NaN</td>\n    </tr>\n    <tr>\n      <th>2</th>\n      <td>1</td>\n      <td>3</td>\n      <td>367.0</td>\n      <td>31.940054</td>\n      <td>11722.0</td>\n      <td>6146.662321</td>\n      <td>7344.454583</td>\n      <td>0.087652</td>\n      <td>0.120882</td>\n      <td>0.100285</td>\n      <td>...</td>\n      <td>NaN</td>\n      <td>NaN</td>\n      <td>Thermo</td>\n      <td>20.0</td>\n      <td>0.000000</td>\n      <td>0.000000</td>\n      <td>0.087652</td>\n      <td>0.120882</td>\n      <td>0.100285</td>\n      <td>NaN</td>\n    </tr>\n    <tr>\n      <th>3</th>\n      <td>1</td>\n      <td>4</td>\n      <td>351.0</td>\n      <td>33.413105</td>\n      <td>11728.0</td>\n      <td>5660.595745</td>\n      <td>7541.301250</td>\n      <td>0.087923</td>\n      <td>0.094545</td>\n      <td>0.109927</td>\n      <td>...</td>\n      <td>NaN</td>\n      <td>NaN</td>\n      <td>Thermo</td>\n      <td>20.0</td>\n      <td>0.000000</td>\n      <td>0.000000</td>\n      <td>0.087923</td>\n      <td>0.094545</td>\n      <td>0.109927</td>\n      <td>NaN</td>\n    </tr>\n    <tr>\n      <th>4</th>\n      <td>1</td>\n      <td>5</td>\n      <td>395.0</td>\n      <td>30.524051</td>\n      <td>12057.0</td>\n      <td>6270.890274</td>\n      <td>7345.472917</td>\n      <td>0.102788</td>\n      <td>0.127613</td>\n      <td>0.100335</td>\n      <td>...</td>\n      <td>NaN</td>\n      <td>NaN</td>\n      <td>Thermo</td>\n      <td>20.0</td>\n      <td>0.000000</td>\n      <td>0.000000</td>\n      <td>0.102788</td>\n      <td>0.127613</td>\n      <td>0.100335</td>\n      <td>NaN</td>\n    </tr>\n    <tr>\n      <th>...</th>\n      <td>...</td>\n      <td>...</td>\n      <td>...</td>\n      <td>...</td>\n      <td>...</td>\n      <td>...</td>\n      <td>...</td>\n      <td>...</td>\n      <td>...</td>\n      <td>...</td>\n      <td>...</td>\n      <td>...</td>\n      <td>...</td>\n      <td>...</td>\n      <td>...</td>\n      <td>...</td>\n      <td>...</td>\n      <td>...</td>\n      <td>...</td>\n      <td>...</td>\n      <td>...</td>\n    </tr>\n    <tr>\n      <th>10667</th>\n      <td>12</td>\n      <td>15</td>\n      <td>NaN</td>\n      <td>NaN</td>\n      <td>3145.0</td>\n      <td>NaN</td>\n      <td>NaN</td>\n      <td>1.000000</td>\n      <td>NaN</td>\n      <td>NaN</td>\n      <td>...</td>\n      <td>1.0</td>\n      <td>0.933440</td>\n      <td>NEB</td>\n      <td>124.0</td>\n      <td>1.000000</td>\n      <td>1.000000</td>\n      <td>0.000000</td>\n      <td>NaN</td>\n      <td>NaN</td>\n      <td>-0.066560</td>\n    </tr>\n    <tr>\n      <th>10668</th>\n      <td>12</td>\n      <td>16</td>\n      <td>NaN</td>\n      <td>NaN</td>\n      <td>1802.0</td>\n      <td>NaN</td>\n      <td>NaN</td>\n      <td>0.307375</td>\n      <td>NaN</td>\n      <td>NaN</td>\n      <td>...</td>\n      <td>1.0</td>\n      <td>0.226143</td>\n      <td>NEB</td>\n      <td>49.0</td>\n      <td>0.257426</td>\n      <td>0.257426</td>\n      <td>0.049949</td>\n      <td>NaN</td>\n      <td>NaN</td>\n      <td>-0.031283</td>\n    </tr>\n    <tr>\n      <th>10669</th>\n      <td>12</td>\n      <td>17</td>\n      <td>NaN</td>\n      <td>NaN</td>\n      <td>1751.0</td>\n      <td>NaN</td>\n      <td>NaN</td>\n      <td>0.281073</td>\n      <td>NaN</td>\n      <td>NaN</td>\n      <td>...</td>\n      <td>1.0</td>\n      <td>0.141941</td>\n      <td>NEB</td>\n      <td>37.0</td>\n      <td>0.138614</td>\n      <td>0.138614</td>\n      <td>0.142459</td>\n      <td>NaN</td>\n      <td>NaN</td>\n      <td>0.003327</td>\n    </tr>\n    <tr>\n      <th>10670</th>\n      <td>12</td>\n      <td>18</td>\n      <td>NaN</td>\n      <td>NaN</td>\n      <td>1394.0</td>\n      <td>NaN</td>\n      <td>NaN</td>\n      <td>0.096957</td>\n      <td>NaN</td>\n      <td>NaN</td>\n      <td>...</td>\n      <td>1.0</td>\n      <td>0.061748</td>\n      <td>NEB</td>\n      <td>32.0</td>\n      <td>0.089109</td>\n      <td>0.089109</td>\n      <td>0.007848</td>\n      <td>NaN</td>\n      <td>NaN</td>\n      <td>-0.027361</td>\n    </tr>\n    <tr>\n      <th>10671</th>\n      <td>12</td>\n      <td>19</td>\n      <td>NaN</td>\n      <td>NaN</td>\n      <td>1206.0</td>\n      <td>NaN</td>\n      <td>NaN</td>\n      <td>0.000000</td>\n      <td>NaN</td>\n      <td>NaN</td>\n      <td>...</td>\n      <td>1.0</td>\n      <td>0.095429</td>\n      <td>NEB</td>\n      <td>61.0</td>\n      <td>0.376238</td>\n      <td>0.376238</td>\n      <td>-0.376238</td>\n      <td>NaN</td>\n      <td>NaN</td>\n      <td>-0.280809</td>\n    </tr>\n  </tbody>\n</table>\n<p>10672 rows × 23 columns</p>\n</div>"
     },
     "execution_count": 133,
     "metadata": {},
     "output_type": "execute_result"
    }
   ],
   "source": [
    "merged_df"
   ],
   "metadata": {
    "collapsed": false,
    "ExecuteTime": {
     "end_time": "2023-12-13T10:07:56.110313Z",
     "start_time": "2023-12-13T10:07:56.042531Z"
    }
   },
   "id": "fd9968a0cfa8d54d"
  },
  {
   "cell_type": "code",
   "execution_count": 135,
   "outputs": [],
   "source": [
    "merged_df.to_csv(join(output_dir,'merged_df.csv'),index=False)"
   ],
   "metadata": {
    "collapsed": false,
    "ExecuteTime": {
     "end_time": "2023-12-13T10:19:51.252948Z",
     "start_time": "2023-12-13T10:19:50.956095Z"
    }
   },
   "id": "4021eaee2d006242"
  },
  {
   "cell_type": "code",
   "execution_count": null,
   "id": "45f6a6d3",
   "metadata": {
    "scrolled": true
   },
   "outputs": [],
   "source": [
    "# Split the DataFrame based on 'App' values\n",
    "df_gg = merged_df[merged_df['App'] == 'GG'].copy()\n",
    "df_ga = merged_df[merged_df['App'] == 'GA'].copy()\n",
    "\n",
    "# Rename the 'Raw Difference' column in each filtered DataFrame\n",
    "df_gg.rename(columns={'Raw Difference': 'Raw Difference_GG'}, inplace=True)\n",
    "df_ga.rename(columns={'Raw Difference': 'Raw Difference_GA'}, inplace=True)\n",
    "\n",
    "# Merge the filtered DataFrames back together using outer join\n",
    "result_df = pd.merge(df_gg[['Lane ID', 'Band ID', 'Raw Difference_GG']], df_ga[['Lane ID', 'Band ID', 'Raw Difference_GA']], on=['Lane ID', 'Band ID'], how='outer')\n",
    "\n",
    "# Merge the combined result with the original DataFrame\n",
    "result_df = pd.merge(merged_df, result_df, on=['Lane ID', 'Band ID'], how='left')\n",
    "\n",
    "# Displaying the modified DataFrame\n",
    "print(result_df)"
   ]
  },
  {
   "cell_type": "code",
   "execution_count": null,
   "id": "c0d6604d",
   "metadata": {},
   "outputs": [],
   "source": [
    "print(merged_df.columns.tolist())"
   ]
  }
 ],
 "metadata": {
  "kernelspec": {
   "display_name": "Python 3 (ipykernel)",
   "language": "python",
   "name": "python3"
  },
  "language_info": {
   "codemirror_mode": {
    "name": "ipython",
    "version": 3
   },
   "file_extension": ".py",
   "mimetype": "text/x-python",
   "name": "python",
   "nbconvert_exporter": "python",
   "pygments_lexer": "ipython3",
   "version": "3.8.13"
  }
 },
 "nbformat": 4,
 "nbformat_minor": 5
}
