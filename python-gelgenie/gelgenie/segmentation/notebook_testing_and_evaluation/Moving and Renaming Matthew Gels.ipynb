{
 "cells": [
  {
   "cell_type": "code",
   "execution_count": 2,
   "id": "baec5cc1",
   "metadata": {
    "ExecuteTime": {
     "end_time": "2023-07-31T08:48:36.555400Z",
     "start_time": "2023-07-31T08:48:36.520287Z"
    }
   },
   "outputs": [],
   "source": [
    "# this file extracts all gels from a folder and gives them a standardised name for easy access down-the-line\n",
    "import os\n",
    "from os.path import join\n",
    "from segmentation.helper_functions.general_functions import extract_image_names_from_folder, create_dir_if_empty\n",
    "import shutil  \n",
    "import csv\n",
    "from tqdm.notebook import tqdm\n",
    "\n",
    "\n"
   ]
  },
  {
   "cell_type": "code",
   "execution_count": 14,
   "id": "c0cb7bf7",
   "metadata": {
    "scrolled": false
   },
   "outputs": [
    {
     "data": {
      "application/vnd.jupyter.widget-view+json": {
       "model_id": "756753075ef640988d3a0076d4e047a9",
       "version_major": 2,
       "version_minor": 0
      },
      "text/plain": [
       "  0%|          | 0/893 [00:00<?, ?it/s]"
      ]
     },
     "metadata": {},
     "output_type": "display_data"
    }
   ],
   "source": [
    "# multiplexed data\n",
    "\n",
    "base_path = '/Users/matt/Documents/PhD/lab_portfolio/multiplexed_biomarker_detection/lab_journals'\n",
    "out_path = '/Users/matt/Documents/PhD/research_output/Automatic_Gel_Analyzer/data/originals/matthew_gels'\n",
    "\n",
    "\n",
    "name_relator = [['Original Name', 'New Name']]\n",
    "\n",
    "for index, file in enumerate(tqdm(extract_image_names_from_folder(base_path, recursive=True))):\n",
    "    if 'box_designs' in file or 'specification_data' in file:\n",
    "        continue\n",
    "    filename = file.split('/')[-1]\n",
    "    extension = '.' + filename.split('.')[-1]\n",
    "    new_name = '%s%s' % (index,extension)    \n",
    "    shutil.copy2(file, join(out_path, new_name))\n",
    "    name_relator.append([file.split('/Users/matt/Documents/PhD/lab_portfolio')[-1], new_name])\n",
    "    \n",
    "with open(join(out_path, 'name_index.csv'), 'w') as file:\n",
    "    writer = csv.writer(file)\n",
    "    for row in name_relator:\n",
    "        writer.writerow(row) \n",
    "\n"
   ]
  },
  {
   "cell_type": "code",
   "execution_count": 9,
   "id": "c0f8e827",
   "metadata": {
    "ExecuteTime": {
     "end_time": "2023-07-31T09:56:52.061555Z",
     "start_time": "2023-07-31T09:56:47.554143Z"
    }
   },
   "outputs": [
    {
     "data": {
      "text/plain": "  0%|          | 0/293 [00:00<?, ?it/s]",
      "application/vnd.jupyter.widget-view+json": {
       "version_major": 2,
       "version_minor": 0,
       "model_id": "0c1fd50643c74db69f9f7f4acd66ca1b"
      },
      "application/json": {
       "n": 0,
       "total": 293,
       "elapsed": 0.010994911193847656,
       "ncols": null,
       "nrows": null,
       "prefix": "",
       "ascii": false,
       "unit": "it",
       "unit_scale": false,
       "rate": null,
       "bar_format": null,
       "postfix": null,
       "unit_divisor": 1000,
       "initial": 0,
       "colour": null
      }
     },
     "metadata": {},
     "output_type": "display_data"
    }
   ],
   "source": [
    "# affinity zones data\n",
    "    \n",
    "base_path = '/Users/matt/Documents/PhD/lab_portfolio/dna_origami_affinity_zones'\n",
    "out_path = '/Users/matt/Documents/PhD/research_output/Automatic_Gel_Analyzer/data/originals/matthew_gels_2'\n",
    "\n",
    "create_dir_if_empty(out_path)\n",
    "\n",
    "name_relator = [['Original Name', 'New Name']]\n",
    "all_images = extract_image_names_from_folder(base_path, recursive=True)\n",
    "\n",
    "all_images = [x for x in all_images if ('gel_images' in x and '.raw16.' not in x and 'annotated' not in x and 'labelled' not in x and 'contrast_adjusted' not in x and 'inverted' not in x)]\n",
    "\n",
    "for index, file in enumerate(tqdm(all_images)):\n",
    "    filename = file.split('/')[-1]\n",
    "    extension = '.' + filename.split('.')[-1]\n",
    "    new_name = '%s%s' % (index,extension)    \n",
    "    shutil.copy2(file, join(out_path, new_name))\n",
    "    name_relator.append([file.split('/Users/matt/Documents/PhD/lab_portfolio')[-1], new_name])\n",
    "    \n",
    "with open(join(out_path, 'name_index.csv'), 'w') as file:\n",
    "    writer = csv.writer(file)\n",
    "    for row in name_relator:\n",
    "        writer.writerow(row) \n"
   ]
  },
  {
   "cell_type": "code",
   "execution_count": 22,
   "outputs": [
    {
     "data": {
      "text/plain": "  0%|          | 0/103 [00:00<?, ?it/s]",
      "application/vnd.jupyter.widget-view+json": {
       "version_major": 2,
       "version_minor": 0,
       "model_id": "8dda46d896d7417f81b04ad857676b8a"
      },
      "application/json": {
       "n": 0,
       "total": 103,
       "elapsed": 0.006994009017944336,
       "ncols": null,
       "nrows": null,
       "prefix": "",
       "ascii": false,
       "unit": "it",
       "unit_scale": false,
       "rate": null,
       "bar_format": null,
       "postfix": null,
       "unit_divisor": 1000,
       "initial": 0,
       "colour": null
      }
     },
     "metadata": {},
     "output_type": "display_data"
    },
    {
     "name": "stdout",
     "output_type": "stream",
     "text": [
      "212.tif failed to open\n",
      "213.tif failed to open\n",
      "214.tif failed to open\n",
      "215.tif failed to open\n",
      "216.tif failed to open\n",
      "218.tif failed to open\n",
      "219.tif failed to open\n",
      "220.tif failed to open\n",
      "221.tif failed to open\n",
      "222.tif failed to open\n",
      "223.tif failed to open\n",
      "224.tif failed to open\n",
      "225.tif failed to open\n",
      "226.tif failed to open\n",
      "288.tif failed to invert\n"
     ]
    }
   ],
   "source": [
    "from PIL import Image\n",
    "import PIL.ImageOps    \n",
    "\n",
    "input_f = '/Users/matt/Documents/PhD/research_output/Automatic_Gel_Analyzer/data/originals/to_inv'\n",
    "output_f = '/Users/matt/Documents/PhD/research_output/Automatic_Gel_Analyzer/data/originals/newly_inv'\n",
    "\n",
    "for index, file in enumerate(tqdm(extract_image_names_from_folder(input_f))):\n",
    "    filename = file.split('/')[-1]\n",
    "    try:\n",
    "        image = Image.open(file)\n",
    "    except:\n",
    "        print('%s failed to open' % filename)\n",
    "        continue\n",
    "    \n",
    "    try:\n",
    "        inverted_image = PIL.ImageOps.invert(image)\n",
    "    except:\n",
    "        print('%s failed to invert' % filename)\n",
    "        continue\n",
    "        \n",
    "    extension = '.' + filename.split('.')[-1]\n",
    "    if extension.lower() == '.jpg':\n",
    "        extension = '.png'\n",
    "\n",
    "    new_file = join(output_f, '%s%s' % (filename.split('.')[0],extension))\n",
    "    inverted_image.save(new_file)\n"
   ],
   "metadata": {
    "collapsed": false,
    "ExecuteTime": {
     "end_time": "2023-07-31T10:45:29.025516Z",
     "start_time": "2023-07-31T10:45:12.051491Z"
    }
   },
   "id": "7d4e83a3b4baa345"
  },
  {
   "cell_type": "code",
   "execution_count": 26,
   "outputs": [
    {
     "ename": "UnidentifiedImageError",
     "evalue": "cannot identify image file '/Users/matt/Documents/PhD/research_output/Automatic_Gel_Analyzer/data/originals/to_inv/212.tif'",
     "output_type": "error",
     "traceback": [
      "\u001B[0;31m---------------------------------------------------------------------------\u001B[0m",
      "\u001B[0;31mUnidentifiedImageError\u001B[0m                    Traceback (most recent call last)",
      "Cell \u001B[0;32mIn[26], line 1\u001B[0m\n\u001B[0;32m----> 1\u001B[0m im \u001B[38;5;241m=\u001B[39m \u001B[43mImage\u001B[49m\u001B[38;5;241;43m.\u001B[39;49m\u001B[43mopen\u001B[49m\u001B[43m(\u001B[49m\u001B[38;5;124;43m'\u001B[39;49m\u001B[38;5;124;43m/Users/matt/Documents/PhD/research_output/Automatic_Gel_Analyzer/data/originals/to_inv/212.tif\u001B[39;49m\u001B[38;5;124;43m'\u001B[39;49m\u001B[43m)\u001B[49m\n\u001B[1;32m      2\u001B[0m \u001B[38;5;66;03m# im = im.convert('RGB')\u001B[39;00m\n\u001B[1;32m      3\u001B[0m inverted_image \u001B[38;5;241m=\u001B[39m PIL\u001B[38;5;241m.\u001B[39mImageOps\u001B[38;5;241m.\u001B[39minvert(im)\n",
      "File \u001B[0;32m~/opt/anaconda3/envs/gel_segmentation/lib/python3.8/site-packages/PIL/Image.py:3147\u001B[0m, in \u001B[0;36mopen\u001B[0;34m(fp, mode, formats)\u001B[0m\n\u001B[1;32m   3145\u001B[0m \u001B[38;5;28;01mfor\u001B[39;00m message \u001B[38;5;129;01min\u001B[39;00m accept_warnings:\n\u001B[1;32m   3146\u001B[0m     warnings\u001B[38;5;241m.\u001B[39mwarn(message)\n\u001B[0;32m-> 3147\u001B[0m \u001B[38;5;28;01mraise\u001B[39;00m UnidentifiedImageError(\n\u001B[1;32m   3148\u001B[0m     \u001B[38;5;124m\"\u001B[39m\u001B[38;5;124mcannot identify image file \u001B[39m\u001B[38;5;132;01m%r\u001B[39;00m\u001B[38;5;124m\"\u001B[39m \u001B[38;5;241m%\u001B[39m (filename \u001B[38;5;28;01mif\u001B[39;00m filename \u001B[38;5;28;01melse\u001B[39;00m fp)\n\u001B[1;32m   3149\u001B[0m )\n",
      "\u001B[0;31mUnidentifiedImageError\u001B[0m: cannot identify image file '/Users/matt/Documents/PhD/research_output/Automatic_Gel_Analyzer/data/originals/to_inv/212.tif'"
     ]
    }
   ],
   "source": [
    "im = Image.open('/Users/matt/Documents/PhD/research_output/Automatic_Gel_Analyzer/data/originals/to_inv/212.tif')\n",
    "# im = im.convert('RGB')\n",
    "inverted_image = PIL.ImageOps.invert(im)\n",
    "inverted_image.save('/Users/matt/Documents/PhD/research_output/Automatic_Gel_Analyzer/data/originals/newly_inv/288.tif')\n"
   ],
   "metadata": {
    "collapsed": false,
    "ExecuteTime": {
     "end_time": "2023-07-31T10:50:15.865491Z",
     "start_time": "2023-07-31T10:50:15.819033Z"
    }
   },
   "id": "44e91cffc7f95ce5"
  },
  {
   "cell_type": "code",
   "execution_count": 28,
   "outputs": [],
   "source": [
    "import cv2\n",
    "\n",
    "im_list = ['212.tif', '213.tif', '214.tif', '215.tif', '216.tif', '218.tif', '219.tif', '220.tif', '221.tif', '222.tif', '223.tif', '224.tif', '225.tif', '226.tif', '288.tif',]\n",
    "\n",
    "for file in im_list:   \n",
    "    full_file = join(input_f, file)\n",
    "    im_in = cv2.imread(full_file)\n",
    "    imagem = cv2.bitwise_not(im_in)\n",
    "    cv2.imwrite(join(output_f, file), imagem)\n"
   ],
   "metadata": {
    "collapsed": false,
    "ExecuteTime": {
     "end_time": "2023-07-31T10:56:16.348092Z",
     "start_time": "2023-07-31T10:56:14.817504Z"
    }
   },
   "id": "f1af3641b7163b8d"
  },
  {
   "cell_type": "code",
   "execution_count": 30,
   "outputs": [],
   "source": [
    "\n",
    "\n",
    "image = Image.open('/Users/matt/Documents/PhD/research_output/Automatic_Gel_Analyzer/data/gel_testing/aldos_detection_LOD_v7_2_1.png')\n",
    "inverted_image = PIL.ImageOps.invert(image)\n",
    "inverted_image.save('/Users/matt/Desktop/aldos_detection_LOD_v7_2_1.png')\n",
    "image = Image.open('/Users/matt/Documents/PhD/research_output/Automatic_Gel_Analyzer/data/gel_testing/LOD_v8_multi_2.png')\n",
    "inverted_image = PIL.ImageOps.invert(image)\n",
    "inverted_image.save('/Users/matt/Desktop/LOD_v8_multi_2.png')"
   ],
   "metadata": {
    "collapsed": false,
    "ExecuteTime": {
     "end_time": "2023-07-31T11:14:23.306444Z",
     "start_time": "2023-07-31T11:14:22.385553Z"
    }
   },
   "id": "abcb544629cb831"
  },
  {
   "cell_type": "code",
   "execution_count": null,
   "outputs": [],
   "source": [],
   "metadata": {
    "collapsed": false
   },
   "id": "d17df2bae2a04c38"
  }
 ],
 "metadata": {
  "kernelspec": {
   "display_name": "Python 3 (ipykernel)",
   "language": "python",
   "name": "python3"
  },
  "language_info": {
   "codemirror_mode": {
    "name": "ipython",
    "version": 3
   },
   "file_extension": ".py",
   "mimetype": "text/x-python",
   "name": "python",
   "nbconvert_exporter": "python",
   "pygments_lexer": "ipython3",
   "version": "3.8.13"
  }
 },
 "nbformat": 4,
 "nbformat_minor": 5
}
