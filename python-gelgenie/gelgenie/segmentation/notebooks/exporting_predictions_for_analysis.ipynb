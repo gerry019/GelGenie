{
 "cells": [
  {
   "cell_type": "markdown",
   "source": [
    "### Probability Map  Generation\n",
    "This file provides direct access to model outputs for downstream analysis."
   ],
   "metadata": {
    "collapsed": false
   },
   "id": "a635ade41aa323c6"
  },
  {
   "cell_type": "code",
   "execution_count": 14,
   "outputs": [],
   "source": [
    "from os.path import join\n",
    "from gelgenie.segmentation.evaluation.core_functions import segment_and_analyze, model_predict_and_process\n",
    "from gelgenie.segmentation.helper_functions.general_functions import create_dir_if_empty\n",
    "import toml\n",
    "import torch\n",
    "from gelgenie.segmentation.networks import model_configure\n",
    "from gelgenie.segmentation.helper_functions.stat_functions import load_statistics\n",
    "from torch.utils.data import DataLoader\n",
    "from gelgenie.segmentation.data_handling.dataloaders import ImageDataset, ImageMaskDataset\n",
    "from tqdm.notebook import tqdm\n",
    "import numpy as np\n",
    "\n",
    "def model_eval_load(exp_folder, eval_epoch):\n",
    "\n",
    "    model_config = toml.load(join(exp_folder, 'config.toml'))['model']\n",
    "    model, _, _ = model_configure(**model_config)\n",
    "    if eval_epoch == 'best':\n",
    "        stats = load_statistics(join(exp_folder, 'training_logs'), 'training_stats.csv', config='pd')\n",
    "        sel_epoch = stats['Epoch'][stats['Dice Score'].idxmax()]\n",
    "    else:\n",
    "        sel_epoch = eval_epoch\n",
    "\n",
    "    checkpoint = torch.load(f=join(exp_folder, 'checkpoints', 'checkpoint_epoch_%s.pth' % sel_epoch),\n",
    "                            map_location=torch.device(\"cpu\"))\n",
    "    model.load_state_dict(checkpoint['network'])\n",
    "    model.eval()\n",
    "\n",
    "    return model\n",
    "\n"
   ],
   "metadata": {
    "collapsed": false,
    "ExecuteTime": {
     "start_time": "2023-11-26T15:39:53.283171Z"
    }
   },
   "id": "initial_id"
  },
  {
   "cell_type": "code",
   "execution_count": 2,
   "outputs": [],
   "source": [
    "experiment_names = ['unet_global_padding_nov_4']\n",
    "eval_epochs = [198]\n",
    "model_folder = '/Users/matt/Documents/PhD/research_output/Automatic_Gel_Analyzer/segmentation_models/November 2023'\n",
    "output_folder = '/Users/matt/Documents/PhD/research_output/Automatic_Gel_Analyzer/data/probability_map_samples'\n",
    "input_data = '/Users/matt/Documents/PhD/research_output/Automatic_Gel_Analyzer/data/probability_map_samples/true_data'\n",
    "images_folder = join(input_data, 'images')\n",
    "masks_folder = join(input_data, 'masks')\n",
    "create_dir_if_empty(output_folder)\n",
    "\n",
    "models = []\n",
    "for experiment, eval_epoch in zip(experiment_names, eval_epochs):\n",
    "    exp_folder = join(model_folder, experiment)\n",
    "    model = model_eval_load(exp_folder, eval_epoch)\n",
    "    models.append(model)"
   ],
   "metadata": {
    "collapsed": false,
    "ExecuteTime": {
     "end_time": "2023-11-26T15:27:01.031453Z",
     "start_time": "2023-11-26T15:26:59.210199Z"
    }
   },
   "id": "d554b9e9e515ba76"
  },
  {
   "cell_type": "code",
   "execution_count": 3,
   "outputs": [
    {
     "data": {
      "text/plain": "\u001B[1;34mCreated dataset with \u001B[0m\u001B[1;34m6\u001B[0m\u001B[1;34m images.\u001B[0m\n",
      "text/html": "<pre style=\"white-space:pre;overflow-x:auto;line-height:normal;font-family:Menlo,'DejaVu Sans Mono',consolas,'Courier New',monospace\"><span style=\"color: #000080; text-decoration-color: #000080; font-weight: bold\">Created dataset with </span><span style=\"color: #000080; text-decoration-color: #000080; font-weight: bold\">6</span><span style=\"color: #000080; text-decoration-color: #000080; font-weight: bold\"> images.</span>\n</pre>\n"
     },
     "metadata": {},
     "output_type": "display_data"
    },
    {
     "name": "stderr",
     "output_type": "stream",
     "text": [
      "100%|██████████| 6/6 [00:33<00:00,  5.66s/it]\n"
     ]
    }
   ],
   "source": [
    "# testing direct model outputs\n",
    "segment_and_analyze(models, experiment_names, images_folder, output_folder)"
   ],
   "metadata": {
    "collapsed": false,
    "ExecuteTime": {
     "end_time": "2023-11-26T15:27:35.216866Z",
     "start_time": "2023-11-26T15:27:01.035257Z"
    }
   },
   "id": "ee773fa1f8d650e2"
  },
  {
   "cell_type": "code",
   "execution_count": 15,
   "outputs": [
    {
     "data": {
      "text/plain": "\u001B[1;34mClass weighting is \u001B[0m\u001B[1;34m[\u001B[0m\u001B[1;34m0.51268754\u001B[0m\u001B[1;34m]\u001B[0m\u001B[1;34m for background, \u001B[0m\u001B[1;34m[\u001B[0m\u001B[1;34m20.20436883\u001B[0m\u001B[1;34m]\u001B[0m\u001B[1;34m for bands\u001B[0m\n",
      "text/html": "<pre style=\"white-space:pre;overflow-x:auto;line-height:normal;font-family:Menlo,'DejaVu Sans Mono',consolas,'Courier New',monospace\"><span style=\"color: #000080; text-decoration-color: #000080; font-weight: bold\">Class weighting is [</span><span style=\"color: #000080; text-decoration-color: #000080; font-weight: bold\">0.51268754</span><span style=\"color: #000080; text-decoration-color: #000080; font-weight: bold\">] for background, [</span><span style=\"color: #000080; text-decoration-color: #000080; font-weight: bold\">20.20436883</span><span style=\"color: #000080; text-decoration-color: #000080; font-weight: bold\">] for bands</span>\n</pre>\n"
     },
     "metadata": {},
     "output_type": "display_data"
    },
    {
     "data": {
      "text/plain": "\u001B[1;34mCreated dataset with \u001B[0m\u001B[1;34m6\u001B[0m\u001B[1;34m images.\u001B[0m\n",
      "text/html": "<pre style=\"white-space:pre;overflow-x:auto;line-height:normal;font-family:Menlo,'DejaVu Sans Mono',consolas,'Courier New',monospace\"><span style=\"color: #000080; text-decoration-color: #000080; font-weight: bold\">Created dataset with </span><span style=\"color: #000080; text-decoration-color: #000080; font-weight: bold\">6</span><span style=\"color: #000080; text-decoration-color: #000080; font-weight: bold\"> images.</span>\n</pre>\n"
     },
     "metadata": {},
     "output_type": "display_data"
    },
    {
     "name": "stderr",
     "output_type": "stream",
     "text": [
      "/var/folders/4x/_gjrrkj918v37xmw7d8n_p2h0000gn/T/ipykernel_3993/1272120084.py:6: TqdmDeprecationWarning: This function will be removed in tqdm==5.0.0\n",
      "Please use `tqdm.notebook.tqdm` instead of `tqdm.tqdm_notebook`\n",
      "  for im_index, batch in tqdm(enumerate(dataloader), total=len(dataloader)):\n"
     ]
    },
    {
     "data": {
      "text/plain": "  0%|          | 0/6 [00:00<?, ?it/s]",
      "application/vnd.jupyter.widget-view+json": {
       "version_major": 2,
       "version_minor": 0,
       "model_id": "73d19f1636864f1db70ed3b0fe55b2f9"
      },
      "application/json": {
       "n": 0,
       "total": 6,
       "elapsed": 0.0219268798828125,
       "ncols": null,
       "nrows": null,
       "prefix": "",
       "ascii": false,
       "unit": "it",
       "unit_scale": false,
       "rate": null,
       "bar_format": null,
       "postfix": null,
       "unit_divisor": 1000,
       "initial": 0,
       "colour": null
      }
     },
     "metadata": {},
     "output_type": "display_data"
    }
   ],
   "source": [
    "dataset = ImageMaskDataset(images_folder, masks_folder, 1, padding=False, individual_padding=True)\n",
    "dataloader = DataLoader(dataset, shuffle=False, batch_size=1, num_workers=0, pin_memory=True)\n",
    "model_outputs = join(output_folder, 'direct_model_outputs')\n",
    "create_dir_if_empty(model_outputs)\n",
    "\n",
    "for im_index, batch in tqdm(enumerate(dataloader), total=len(dataloader)):\n",
    "    np_mask = batch['mask'].detach().squeeze().cpu().numpy()\n",
    "    name = batch['image_name'][0]\n",
    "    all_model_outputs = []\n",
    "    sel_image_folder = join(model_outputs, name)\n",
    "    create_dir_if_empty(sel_image_folder)\n",
    "    \n",
    "    seg_mask, seg_ordered_mask = model_predict_and_process(models[0], batch['image'])\n",
    "    np.save(join(sel_image_folder, 'seg_mask.npy'), seg_mask.detach().squeeze().cpu().numpy())\n",
    "    np.save(join(sel_image_folder, 'seg_mask_one_hot.npy'), seg_ordered_mask)\n",
    "    np.save(join(sel_image_folder, 'true_mask.npy'), np_mask)\n",
    "\n",
    "    "
   ],
   "metadata": {
    "collapsed": false,
    "ExecuteTime": {
     "end_time": "2023-11-26T15:41:11.210479Z",
     "start_time": "2023-11-26T15:40:55.938567Z"
    }
   },
   "id": "cc28194e620ab81"
  }
 ],
 "metadata": {
  "kernelspec": {
   "display_name": "Python 3",
   "language": "python",
   "name": "python3"
  },
  "language_info": {
   "codemirror_mode": {
    "name": "ipython",
    "version": 2
   },
   "file_extension": ".py",
   "mimetype": "text/x-python",
   "name": "python",
   "nbconvert_exporter": "python",
   "pygments_lexer": "ipython2",
   "version": "2.7.6"
  }
 },
 "nbformat": 4,
 "nbformat_minor": 5
}
