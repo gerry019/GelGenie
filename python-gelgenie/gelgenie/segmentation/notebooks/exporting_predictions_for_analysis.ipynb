{
 "cells": [
  {
   "cell_type": "markdown",
   "source": [
    "### Probability Map  Generation\n",
    "This file provides direct access to model outputs for downstream analysis."
   ],
   "metadata": {
    "collapsed": false
   },
   "id": "a635ade41aa323c6"
  },
  {
   "cell_type": "code",
   "execution_count": 1,
   "source": [
    "from os.path import join\n",
    "from gelgenie.segmentation.evaluation.core_functions import segment_and_plot, model_predict_and_process\n",
    "from gelgenie.segmentation.helper_functions.general_functions import create_dir_if_empty\n",
    "import toml\n",
    "import torch\n",
    "from gelgenie.segmentation.networks import model_configure\n",
    "from gelgenie.segmentation.helper_functions.stat_functions import load_statistics\n",
    "from torch.utils.data import DataLoader\n",
    "from gelgenie.segmentation.data_handling.dataloaders import ImageDataset, ImageMaskDataset\n",
    "from tqdm.notebook import tqdm\n",
    "import numpy as np\n",
    "\n",
    "def model_eval_load(exp_folder, eval_epoch):\n",
    "\n",
    "    model_config = toml.load(join(exp_folder, 'config.toml'))['model']\n",
    "    model, _, _ = model_configure(**model_config)\n",
    "    if eval_epoch == 'best':\n",
    "        stats = load_statistics(join(exp_folder, 'training_logs'), 'training_stats.csv', config='pd')\n",
    "        sel_epoch = stats['Epoch'][stats['Dice Score'].idxmax()]\n",
    "    else:\n",
    "        sel_epoch = eval_epoch\n",
    "\n",
    "    checkpoint = torch.load(f=join(exp_folder, 'checkpoints', 'checkpoint_epoch_%s.pth' % sel_epoch),\n",
    "                            map_location=torch.device(\"cpu\"))\n",
    "    model.load_state_dict(checkpoint['network'])\n",
    "    model.eval()\n",
    "\n",
    "    return model\n",
    "\n"
   ],
   "metadata": {
    "collapsed": false,
    "ExecuteTime": {
     "end_time": "2024-01-04T22:20:00.664282Z",
     "start_time": "2024-01-04T22:19:50.312563Z"
    }
   },
   "id": "initial_id",
   "outputs": []
  },
  {
   "cell_type": "code",
   "source": [
    "model_and_epoch = [('unet_global_padding_nov_4', 'best'),\n",
    "                   ('unet_dec_21', 'best'),\n",
    "                   ('unet_dec_21_extended_set', '600')]\n",
    "experiment_names, eval_epochs = zip(*model_and_epoch)\n",
    "\n",
    "model_folder = '/Users/matt/Documents/PhD/research_output/Automatic_Gel_Analyzer/segmentation_models/December 2023'\n",
    "output_folder = '/Users/matt/Documents/PhD/research_output/Automatic_Gel_Analyzer/data/probability_map_samples/v2'\n",
    "\n",
    "visual_out = join(output_folder, 'visual_segmentation_results')\n",
    "\n",
    "models = []\n",
    "for experiment, eval_epoch in zip(experiment_names, eval_epochs):\n",
    "    if 'nov_4' in experiment:\n",
    "       exp_folder = join('/Users/matt/Documents/PhD/research_output/Automatic_Gel_Analyzer/segmentation_models/November 2023', experiment)\n",
    "    else:\n",
    "       exp_folder = join(model_folder, experiment)\n",
    "    model = model_eval_load(exp_folder, eval_epoch)\n",
    "    models.append(model)\n"
   ],
   "metadata": {
    "collapsed": false,
    "ExecuteTime": {
     "end_time": "2024-01-04T22:24:30.881598Z",
     "start_time": "2024-01-04T22:24:29.156088Z"
    }
   },
   "id": "5658e79257903133",
   "execution_count": 3,
   "outputs": []
  },
  {
   "cell_type": "code",
   "execution_count": 10,
   "source": [
    "input_folder = ['/Users/matt/Documents/PhD/research_output/Automatic_Gel_Analyzer/data/processed_gels/maximal_set/matthew_gels/test_images',\n",
    "                '/Users/matt/Documents/PhD/research_output/Automatic_Gel_Analyzer/data/processed_gels/maximal_set/matthew_gels_2/test_images',\n",
    "                '/Users/matt/Documents/PhD/research_output/Automatic_Gel_Analyzer/data/processed_gels/maximal_set/nathan_gels/test_images',\n",
    "                '/Users/matt/Documents/PhD/research_output/Automatic_Gel_Analyzer/data/processed_gels/maximal_set/quantitation_ladder_gels/test_images',\n",
    "                '/Users/matt/Documents/PhD/research_output/Automatic_Gel_Analyzer/data/processed_gels/maximal_set/lsdb_gels/test_images']\n",
    "mask_folder = [\n",
    "    '/Users/matt/Documents/PhD/research_output/Automatic_Gel_Analyzer/data/processed_gels/maximal_set/matthew_gels/test_masks',\n",
    "    '/Users/matt/Documents/PhD/research_output/Automatic_Gel_Analyzer/data/processed_gels/maximal_set/matthew_gels_2/test_masks',\n",
    "    '/Users/matt/Documents/PhD/research_output/Automatic_Gel_Analyzer/data/processed_gels/maximal_set/nathan_gels/test_masks',\n",
    "    '/Users/matt/Documents/PhD/research_output/Automatic_Gel_Analyzer/data/processed_gels/maximal_set/quantitation_ladder_gels/test_masks',\n",
    "    '/Users/matt/Documents/PhD/research_output/Automatic_Gel_Analyzer/data/processed_gels/maximal_set/lsdb_gels/test_masks']\n",
    "\n",
    "dataset = ImageMaskDataset(input_folder, mask_folder, 1, padding=False, individual_padding=True)\n",
    "dataloader = DataLoader(dataset, shuffle=False, batch_size=1, num_workers=0, pin_memory=True)\n",
    "model_outputs = join(output_folder, 'direct_model_outputs_test_set')\n",
    "create_dir_if_empty(model_outputs)\n",
    "\n",
    "for im_index, batch in tqdm(enumerate(dataloader), total=len(dataloader)):\n",
    "    np_mask = batch['mask'].detach().squeeze().cpu().numpy()\n",
    "    name = batch['image_name'][0]\n",
    "    all_model_outputs = []\n",
    "    sel_image_folder = join(model_outputs, name)\n",
    "    create_dir_if_empty(sel_image_folder)\n",
    "    for model_name, model in zip(experiment_names, models):\n",
    "        create_dir_if_empty(join(sel_image_folder, model_name))\n",
    "        seg_mask, seg_ordered_mask = model_predict_and_process(model, batch['image'])\n",
    "        np.save(join(sel_image_folder, model_name, 'seg_mask.npy'), seg_mask.detach().squeeze().cpu().numpy())\n",
    "        np.save(join(sel_image_folder, model_name, 'seg_mask_one_hot.npy'), seg_ordered_mask)\n",
    "        np.save(join(sel_image_folder, model_name, 'true_mask.npy'), np_mask)"
   ],
   "metadata": {
    "collapsed": false,
    "ExecuteTime": {
     "end_time": "2024-01-04T22:44:45.307506Z",
     "start_time": "2024-01-04T22:37:50.164422Z"
    }
   },
   "id": "cc28194e620ab81",
   "outputs": []
  },
  {
   "cell_type": "code",
   "source": [
    "input_folder = ['/Users/matt/Documents/PhD/research_output/Automatic_Gel_Analyzer/data/processed_gels/maximal_set/matthew_gels/val_images',\n",
    "                '/Users/matt/Documents/PhD/research_output/Automatic_Gel_Analyzer/data/processed_gels/maximal_set/matthew_gels_2/val_images',\n",
    "                '/Users/matt/Documents/PhD/research_output/Automatic_Gel_Analyzer/data/processed_gels/maximal_set/nathan_gels/val_images',\n",
    "                '/Users/matt/Documents/PhD/research_output/Automatic_Gel_Analyzer/data/processed_gels/maximal_set/quantitation_ladder_gels/val_images',\n",
    "                '/Users/matt/Documents/PhD/research_output/Automatic_Gel_Analyzer/data/processed_gels/maximal_set/lsdb_gels/val_images']\n",
    "mask_folder = [\n",
    "    '/Users/matt/Documents/PhD/research_output/Automatic_Gel_Analyzer/data/processed_gels/maximal_set/matthew_gels/val_masks',\n",
    "    '/Users/matt/Documents/PhD/research_output/Automatic_Gel_Analyzer/data/processed_gels/maximal_set/matthew_gels_2/val_masks',\n",
    "    '/Users/matt/Documents/PhD/research_output/Automatic_Gel_Analyzer/data/processed_gels/maximal_set/nathan_gels/val_masks',\n",
    "    '/Users/matt/Documents/PhD/research_output/Automatic_Gel_Analyzer/data/processed_gels/maximal_set/quantitation_ladder_gels/val_masks',\n",
    "    '/Users/matt/Documents/PhD/research_output/Automatic_Gel_Analyzer/data/processed_gels/maximal_set/lsdb_gels/val_masks']\n",
    "\n",
    "dataset = ImageMaskDataset(input_folder, mask_folder, 1, padding=False, individual_padding=True)\n",
    "dataloader = DataLoader(dataset, shuffle=False, batch_size=1, num_workers=0, pin_memory=True)\n",
    "model_outputs = join(output_folder, 'direct_model_outputs_val_set')\n",
    "create_dir_if_empty(model_outputs)\n",
    "\n",
    "for im_index, batch in tqdm(enumerate(dataloader), total=len(dataloader)):\n",
    "    np_mask = batch['mask'].detach().squeeze().cpu().numpy()\n",
    "    name = batch['image_name'][0]\n",
    "    all_model_outputs = []\n",
    "    sel_image_folder = join(model_outputs, name)\n",
    "    create_dir_if_empty(sel_image_folder)\n",
    "    for model_name, model in zip(experiment_names, models):\n",
    "        create_dir_if_empty(join(sel_image_folder, model_name))\n",
    "        seg_mask, seg_ordered_mask = model_predict_and_process(model, batch['image'])\n",
    "        np.save(join(sel_image_folder, model_name, 'seg_mask.npy'), seg_mask.detach().squeeze().cpu().numpy())\n",
    "        np.save(join(sel_image_folder, model_name, 'seg_mask_one_hot.npy'), seg_ordered_mask)\n",
    "        np.save(join(sel_image_folder, model_name, 'true_mask.npy'), np_mask)"
   ],
   "metadata": {
    "collapsed": false,
    "ExecuteTime": {
     "end_time": "2024-01-04T22:50:47.685135Z",
     "start_time": "2024-01-04T22:45:08.117242Z"
    }
   },
   "id": "1e94c3dd44e52ae9",
   "execution_count": 11,
   "outputs": []
  },
  {
   "cell_type": "markdown",
   "source": [],
   "metadata": {
    "collapsed": false
   },
   "id": "774b52ca72171d74"
  },
  {
   "cell_type": "code",
   "source": [
    "# testing direct model outputs\n",
    "segment_and_plot(models, experiment_names, input_folder, visual_out)"
   ],
   "metadata": {
    "collapsed": false,
    "ExecuteTime": {
     "end_time": "2023-12-12T12:15:32.770322Z",
     "start_time": "2023-12-12T12:14:35.179333Z"
    }
   },
   "id": "ee773fa1f8d650e2",
   "execution_count": 8,
   "outputs": []
  }
 ],
 "metadata": {
  "kernelspec": {
   "display_name": "Python 3",
   "language": "python",
   "name": "python3"
  },
  "language_info": {
   "codemirror_mode": {
    "name": "ipython",
    "version": 2
   },
   "file_extension": ".py",
   "mimetype": "text/x-python",
   "name": "python",
   "nbconvert_exporter": "python",
   "pygments_lexer": "ipython2",
   "version": "2.7.6"
  }
 },
 "nbformat": 4,
 "nbformat_minor": 5
}
