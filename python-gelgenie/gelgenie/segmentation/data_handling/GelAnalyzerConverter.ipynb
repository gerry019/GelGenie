{
 "cells": [
  {
   "cell_type": "code",
   "execution_count": 2,
   "id": "fc49b1be-a010-452a-a277-886a912eadaf",
   "metadata": {
    "ExecuteTime": {
     "end_time": "2024-01-02T11:58:08.522225Z",
     "start_time": "2024-01-02T11:58:08.475080Z"
    }
   },
   "outputs": [],
   "source": [
    "import os\n",
    "from os.path import join\n",
    "import pandas as pd"
   ]
  },
  {
   "cell_type": "code",
   "execution_count": 3,
   "id": "531708e7-447d-434f-b560-1d615eec96f0",
   "metadata": {
    "ExecuteTime": {
     "end_time": "2024-01-02T11:58:09.092454Z",
     "start_time": "2024-01-02T11:58:09.059549Z"
    }
   },
   "outputs": [],
   "source": [
    "quality_dict = {\n",
    "\n",
    "    8: ['7.1', '7.2', '7.3', '7.4', '7.5', '8.1', '8.2', '8.3', '8.4', '8.5', '9.1', '9.2', '9.3', '9.4', '9.5', '10.1', '10.2', '10.3', '10.4', '10.5', '11.1', '11.2', '11.3', '11.4', '11.5', '12.1', '12.2', '12.3', '12.4', '12.5'],\n",
    "    \n",
    "    9:['1.%s' % i for i in range(13,19)] + ['2.%s' % i for i in range(13,19)] + ['3.%s' % i for i in range(13,19)] + ['4.%s' % i for i in range(13,19)]\n",
    "    + ['5.%s' % i for i in range(13,19)] + ['6.%s' % i for i in range(14,19)] + ['7.%s' % i for i in range(16,19)] + ['8.%s' % i for i in range(16,19)] \n",
    "    + ['9.%s' % i for i in range(16,19)] + ['10.%s' % i for i in range(15,19)]+ ['11.%s' % i for i in range(15,19)] + ['12.%s' % i for i in range(14,19)],\n",
    "    \n",
    "    10: ['1.%s' % i for i in range(15,19)] + ['2.%s' % i for i in range(15,19)] + ['3.%s' % i for i in range(15,19)] + ['4.%s' % i for i in range(14,19)]\n",
    "    + ['5.%s' % i for i in range(16,19)] + ['6.%s' % i for i in range(17,19)] + ['7.%s' % i for i in range(17,19)] + ['8.%s' % i for i in range(17,19)] \n",
    "    + ['9.%s' % i for i in range(17,19)] + ['10.%s' % i for i in range(17,19)]+ ['11.%s' % i for i in range(16,19)] + ['12.%s' % i for i in range(16,19)],\n",
    "    \n",
    "    11: ['1.%s' % i for i in range(14,19)] + ['2.%s' % i for i in range(15,19)] + ['3.%s' % i for i in range(15,19)] + ['4.%s' % i for i in range(15,19)]\n",
    "    + ['5.%s' % i for i in range(16,19)] + ['6.%s' % i for i in range(16,19)] + ['7.%s' % i for i in range(17,19)] + ['8.%s' % i for i in range(17,19)] \n",
    "    + ['9.%s' % i for i in range(17,19)] + ['10.%s' % i for i in range(17,19)]+ ['11.%s' % i for i in range(16,19)] + ['12.%s' % i for i in range(16,19)],\n",
    "        \n",
    "    12: ['1.%s' % i for i in range(14,19)] + ['2.%s' % i for i in range(14,19)] + ['3.%s' % i for i in range(14,19)] + ['4.%s' % i for i in range(13,19)]\n",
    "    + ['5.%s' % i for i in range(15,19)] + ['6.%s' % i for i in range(14,19)] + ['7.%s' % i for i in range(17,19)] + ['8.%s' % i for i in range(16,19)] \n",
    "    + ['9.%s' % i for i in range(17,19)] + ['10.%s' % i for i in range(17,19)]+ ['11.%s' % i for i in range(17,19)] + ['12.%s' % i for i in range(17,19)] \n",
    "    + ['7.%s' % i for i in range(2,6)] + ['8.%s' % i for i in range(2,6)] + ['9.%s' % i for i in range(2,6)] + ['10.%s' % i for i in range(2,6)] \n",
    "    + ['11.%s' % i for i in range(2,6)] + ['12.%s' % i for i in range(2,6)],\n",
    "    14: ['1.18', '1.19'] + ['2.%s' % i for i in range(9,20)],\n",
    "    16: ['1.18', '1.19'] + ['2.%s' % i for i in range(7,20)],\n",
    "    17: ['1.18', '1.19'] + ['2.%s' % i for i in range(7,20)],\n",
    "}"
   ]
  },
  {
   "cell_type": "code",
   "execution_count": 4,
   "id": "f995f93f-9f2f-4bd9-afbb-a3abbfcdbe19",
   "metadata": {
    "ExecuteTime": {
     "end_time": "2024-01-02T11:58:10.622267Z",
     "start_time": "2024-01-02T11:58:10.583813Z"
    }
   },
   "outputs": [],
   "source": [
    "base_folder = '/Users/matt/Documents/PhD/research_output/Automatic_Gel_Analyzer/quantitative_results/gelanalyzer'\n",
    "\n",
    "for j in range(34):\n",
    "    analysis = join(base_folder, str(j))\n",
    "    if os.path.isdir(analysis):\n",
    "        full_data = []\n",
    "        for file in ['uncorrected.txt', 'corrected.txt']:\n",
    "            with open(join(analysis, file), 'r') as f:\n",
    "                g_data = f.readlines()\n",
    "            i = 0\n",
    "            for line in g_data:\n",
    "                if line.startswith('Lane'):\n",
    "                    continue\n",
    "                if line.startswith('\\n'):\n",
    "                    continue\n",
    "                info = line.split('\\t')\n",
    "                if file == 'uncorrected.txt':\n",
    "                    data_list = [int(info[0]), int(info[1]), int(info[4])]\n",
    "                    full_data.append(data_list)\n",
    "                else:\n",
    "                    full_data[i].append(int(info[4]))\n",
    "                    if j not in quality_dict:\n",
    "                        full_data[i].append(1)\n",
    "                    else:\n",
    "                        if f'{full_data[i][0]}.{full_data[i][1]}' in quality_dict[j]:\n",
    "                            full_data[i].append(0)\n",
    "                        else:\n",
    "                            full_data[i].append(1)\n",
    "                i += 1\n",
    "\n",
    "        df = pd.DataFrame(full_data, columns=['Lane ID', 'Band ID', 'Raw Volume', 'Background Corrected Volume', 'Reliable Band'])\n",
    "        df.to_csv(join(analysis, 'collated_data_with_band_quality.csv'), index=False)\n"
   ]
  },
  {
   "cell_type": "code",
   "execution_count": null,
   "id": "f509f207-e82f-4eac-917b-6a5f938dc146",
   "metadata": {},
   "outputs": [],
   "source": []
  }
 ],
 "metadata": {
  "kernelspec": {
   "display_name": "Python 3 (ipykernel)",
   "language": "python",
   "name": "python3"
  },
  "language_info": {
   "codemirror_mode": {
    "name": "ipython",
    "version": 3
   },
   "file_extension": ".py",
   "mimetype": "text/x-python",
   "name": "python",
   "nbconvert_exporter": "python",
   "pygments_lexer": "ipython3",
   "version": "3.8.13"
  }
 },
 "nbformat": 4,
 "nbformat_minor": 5
}
