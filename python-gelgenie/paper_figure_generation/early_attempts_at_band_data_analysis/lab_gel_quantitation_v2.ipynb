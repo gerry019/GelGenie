{
 "cells": [
  {
   "cell_type": "code",
   "execution_count": 2,
   "id": "initial_id",
   "metadata": {
    "ExecuteTime": {
     "end_time": "2023-08-09T20:36:36.574524Z",
     "start_time": "2023-08-09T20:36:36.549905Z"
    }
   },
   "source": [
    "import numpy as np\n",
    "from PIL import Image\n",
    "import matplotlib.pyplot as plt\n",
    "from scipy import ndimage as ndi\n",
    "from skimage.color import label2rgb\n",
    "import scipy \n",
    "\n",
    "from torch.utils.data import DataLoader\n",
    "import torch.nn.functional as F\n",
    "\n",
    "from gelgenie.segmentation.networks.UNets.model_gateway import smp_UNetPlusPlus\n",
    "from gelgenie.segmentation.data_handling.dataloaders import ImageDataset\n",
    "\n",
    "import torch\n",
    "from scipy import ndimage as ndi\n",
    "import pandas as pd\n",
    "\n",
    "from os.path import join\n",
    "import toml\n",
    "from gelgenie.segmentation.networks import model_configure\n",
    "from tqdm.notebook import tqdm as tqdm\n",
    "from gelgenie.segmentation.evaluation.core_functions import model_predict_and_process\n",
    "import ipywidgets as wdg "
   ],
   "outputs": []
  },
  {
   "cell_type": "code",
   "execution_count": 48,
   "id": "fbe50f485e072755",
   "metadata": {
    "ExecuteTime": {
     "end_time": "2023-08-09T20:33:09.196947Z",
     "start_time": "2023-08-09T20:33:09.190308Z"
    },
    "collapsed": false,
    "jupyter": {
     "outputs_hidden": false
    }
   },
   "source": [
    "g_file = '/Users/matt/Documents/PhD/research_output/Automatic_Gel_Analyzer/segmentation_results/unet++_august9_testing/gelanalyzer/ga_export_ladder_2.txt'\n",
    "\n",
    "with open(g_file, 'r') as f:\n",
    "    g_data = f.readlines()\n",
    "\n",
    "key_data = []\n",
    "update_key = False\n",
    "\n",
    "naming = ['ga_ladder_1', 'ga_ladder_2', 'ga_ladder_3', 'ga_ladder_4', 'ga_ladder_1_bc', 'ga_ladder_2_bc', 'ga_ladder_3_bc', 'ga_ladder_4_bc']\n",
    "inner_list = []\n",
    "\n",
    "for line in g_data:\n",
    "    if line.startswith('\\n'):\n",
    "        update_key = True\n",
    "        continue\n",
    "    if update_key:\n",
    "        update_key = False\n",
    "        key_data.append(inner_list)\n",
    "        inner_list = []\n",
    "    info = line.split('\\t')\n",
    "    inner_list.append(int(info[3]))\n",
    "key_data.append(inner_list)\n",
    "final_dict = {}\n",
    "for name, data in zip(naming, key_data):\n",
    "    final_dict[name] = data\n",
    "\n",
    "df = pd.DataFrame.from_dict(final_dict)   \n",
    "\n",
    "ref_data = [40, 40, 48, 40, 32, 120, 40, 57, 45, 122, 34, 31, 27, 23, 124, 49, 37, 32, 61]\n",
    "\n",
    "# df['Reference Data'] = ref_data\n",
    "# df.to_csv('/Users/matt/Desktop/ga_results.csv',index=False)"
   ],
   "outputs": []
  },
  {
   "cell_type": "code",
   "execution_count": 15,
   "id": "f01e37c7-bf59-4f4d-a13c-b7d0a74ea0ae",
   "metadata": {},
   "source": [
    "%matplotlib widget\n",
    "seg_file = '/Users/matt/Documents/PhD/research_output/Automatic_Gel_Analyzer/segmentation_results/unet++_august9_testing/data/2_ladder_segmap.tif'\n",
    "fig = plt.figure()\n",
    "ladder_ids = []\n",
    "\n",
    "def onclick(event):\n",
    "    global colour_ids, glob_event\n",
    "    ladder_ids.append(labelled_array[int(event.ydata), int(event.xdata)])\n",
    "seg_array = np.array(Image.open(seg_file))\n",
    "labelled_array,_ = ndi.label(seg_array)\n",
    "plt.imshow(labelled_array)\n",
    "ka = fig.canvas.mpl_connect('button_press_event', onclick)"
   ],
   "outputs": []
  },
  {
   "cell_type": "code",
   "execution_count": 38,
   "id": "1732b486-e326-440f-9e78-ac77bc465e45",
   "metadata": {},
   "source": [
    "%matplotlib inline\n",
    "orig_file = '/Users/matt/Documents/PhD/research_output/Automatic_Gel_Analyzer/segmentation_results/unet++_august9_testing/data/2_ladder.png'\n",
    "orig_image = np.array(Image.open(orig_file))\n",
    "plt.imshow(orig_image)\n",
    "orig_image.shape"
   ],
   "outputs": []
  },
  {
   "cell_type": "code",
   "execution_count": 139,
   "id": "16bd0766-4d16-45f5-adf6-096ae4cc8139",
   "metadata": {},
   "source": [
    "print(len(split_ids))\n",
    "split_ids = [l for l in ladder_ids if l != 0] \n",
    "\n",
    "data_ids = []\n",
    "final_data_ids = {}\n",
    "for i in range(4):\n",
    "    data_ids.append(split_ids[i*19:(i+1)*19])\n",
    "background = 0.22048055\n",
    "\n",
    "mask_im = np.ones_like(orig_image)\n",
    "\n",
    "for index, name in enumerate(['seg_ladder_1', 'seg_ladder_2', 'seg_ladder_3', 'seg_ladder_4']):\n",
    "    for label in data_ids[index]:\n",
    "        mask_im[labelled_array == label] = 0\n",
    "\n",
    "blacked_out_im = mask_im * orig_image\n",
    "\n",
    "pixel_border = 20\n",
    "\n",
    "for index, name in enumerate(['seg_ladder_1', 'seg_ladder_2', 'seg_ladder_3', 'seg_ladder_4']):\n",
    "    band_sum = []\n",
    "    band_sum_bc = []\n",
    "    for label in data_ids[index]:\n",
    "        pixel_count = len(orig_image[labelled_array == label])\n",
    "        band_sum.append(np.sum(orig_image[labelled_array == label]))\n",
    "        \n",
    "        band_pos = np.nonzero(labelled_array == label)\n",
    "        x_l, x_r = min(band_pos[1]), max(band_pos[1])\n",
    "        y_t, y_b = min(band_pos[0]), max(band_pos[0])\n",
    "        back_pixels = blacked_out_im[y_t-pixel_border:y_b+pixel_border, x_l-pixel_border:x_r+pixel_border]\n",
    "        back_pixels = back_pixels[np.nonzero(back_pixels)]\n",
    "        back_average = np.mean(back_pixels)\n",
    "        \n",
    "        band_sum_bc.append(np.sum(orig_image[labelled_array == label]) - (pixel_count*back_average))\n",
    "    df[name] = band_sum\n",
    "    df[name+'_bc'] = band_sum_bc\n",
    "df['Reference Data'] = ref_data\n",
    "df.to_csv('/Users/matt/Desktop/ladder_2_adaptive_background.csv',index=False)"
   ],
   "outputs": []
  },
  {
   "cell_type": "code",
   "execution_count": 107,
   "id": "7c51a884-ebcc-43fe-a44e-49be9e7c4fea",
   "metadata": {},
   "source": [
    "blacked_out_im = mask_im * orig_image\n",
    "plt.imshow(blacked_out_im)"
   ],
   "outputs": []
  },
  {
   "cell_type": "code",
   "execution_count": 140,
   "id": "74dc4270-4fa2-4913-b2c4-bd836a93b3c4",
   "metadata": {},
   "source": [
    "bsum = []\n",
    "# mask_im = np.ones_like(orig_image)\n",
    "pixel_border = 5\n",
    "\n",
    "for index, name in enumerate(['seg_ladder_1', 'seg_ladder_2', 'seg_ladder_3', 'seg_ladder_4']):\n",
    "    for label in data_ids[index]:\n",
    "        # mask_im[labelled_array == label] = 0\n",
    "        pixel_count = len(orig_image[labelled_array == label])\n",
    "        bsum.append(np.sum(orig_image[labelled_array == label]))\n",
    "\n",
    "        band_pos = np.nonzero(labelled_array == label)\n",
    "        \n",
    "        x_l, x_r = min(band_pos[1]), max(band_pos[1])\n",
    "        y_t, y_b = min(band_pos[0]), max(band_pos[0])\n",
    "        back_pixels = blacked_out_im[y_t-pixel_border:y_b+pixel_border, x_l-pixel_border:x_r+pixel_border]\n",
    "        back_shot = blacked_out_im[y_t-pixel_border:y_b+pixel_border, x_l-pixel_border:x_r+pixel_border]\n",
    "        back_pixels = back_pixels[np.nonzero(back_pixels)]\n",
    "        back_average = np.mean(back_pixels)\n",
    "plt.imshow(back_shot,cmap='gray')\n",
    "pass"
   ],
   "outputs": []
  },
  {
   "cell_type": "code",
   "execution_count": 162,
   "id": "99c01dd9-7401-47e5-a780-467957490233",
   "metadata": {},
   "source": [
    "smdata = orig_image[labelled_array == data_ids[0][0]]"
   ],
   "outputs": []
  },
  {
   "cell_type": "code",
   "execution_count": null,
   "id": "5b2e0cd2-fc76-4ab4-9b83-d649e4573a65",
   "metadata": {},
   "source": [
    "minx = 74\n",
    "maxx = 171\n",
    "\n"
   ],
   "outputs": []
  },
  {
   "cell_type": "code",
   "execution_count": 167,
   "id": "74cb7b39-918f-467a-9570-9cb4935fcc8e",
   "metadata": {},
   "source": [
    "plt.hist(smdata,bins=32)\n",
    "pass"
   ],
   "outputs": []
  },
  {
   "cell_type": "code",
   "execution_count": null,
   "id": "f5015c13-0cae-4ef0-94c3-3a3d9cd590d0",
   "metadata": {},
   "source": [],
   "outputs": []
  },
  {
   "cell_type": "code",
   "execution_count": 151,
   "id": "93b23d86-c651-485c-b15f-6290f80cc8cb",
   "metadata": {},
   "source": [
    "data_ids"
   ],
   "outputs": []
  },
  {
   "cell_type": "code",
   "execution_count": 149,
   "id": "53c90a16-1d4d-41c6-9ff5-c149d9519682",
   "metadata": {},
   "source": [
    "\n",
    "max(np.nonzero(labelled_array == label)[1])"
   ],
   "outputs": []
  },
  {
   "cell_type": "code",
   "execution_count": 155,
   "id": "e37a8a87-445e-4c97-b35b-86743188f69e",
   "metadata": {},
   "source": [
    "%matplotlib inline\n",
    "import copy\n",
    "\n",
    "colored_image = copy.copy(orig_image)\n",
    "colored_image[np.nonzero(labelled_array == data_ids[0][0])] = 0\n",
    "\n",
    "plt.figure(figsize=(15,10))\n",
    "plt.imshow(colored_image,cmap='gray')\n"
   ],
   "outputs": []
  },
  {
   "cell_type": "code",
   "execution_count": 65,
   "id": "17769847-35e3-41eb-a050-003899343ed6",
   "metadata": {},
   "source": [
    "band_sum_bc"
   ],
   "outputs": []
  },
  {
   "cell_type": "code",
   "execution_count": 148,
   "id": "2100b05b-7e30-4f29-b77b-83a4d79dc4ff",
   "metadata": {},
   "source": [
    "\n",
    "data_dict = {}\n",
    "for index, name in enumerate(['ladder_1', 'ladder_2', 'ladder_3', 'ladder_4']):\n",
    "    data_dict[name] = data_ids[index]\n",
    "    \n",
    "dids_df = pd.DataFrame.from_dict(data_dict)\n",
    "dids_df.to_csv('/Users/matt/Desktop/segmentation_ids.csv',index=False)"
   ],
   "outputs": []
  },
  {
   "cell_type": "code",
   "execution_count": 147,
   "id": "f0d6020d-567c-4bbd-aa21-8bb081ebfd22",
   "metadata": {},
   "source": [
    "dids_df"
   ],
   "outputs": []
  },
  {
   "cell_type": "code",
   "execution_count": 51,
   "id": "b57ebcfa2da3cc3",
   "metadata": {
    "ExecuteTime": {
     "end_time": "2023-08-09T20:33:11.508867Z",
     "start_time": "2023-08-09T20:33:10.585593Z"
    },
    "collapsed": false,
    "jupyter": {
     "outputs_hidden": false
    }
   },
   "source": [
    "%matplotlib inline\n",
    "ref_pos = 6\n",
    "fig, ax = plt.subplots(figsize=(20,7))\n",
    "df.divide(df.iloc[ref_pos]).multiply(ref_data[ref_pos]).plot.bar(ax=ax)\n",
    "pass"
   ],
   "outputs": []
  },
  {
   "cell_type": "code",
   "execution_count": 5,
   "id": "cc62601b083a6682",
   "metadata": {
    "ExecuteTime": {
     "end_time": "2023-08-09T20:37:59.569010Z",
     "start_time": "2023-08-09T20:37:42.048957Z"
    },
    "collapsed": false,
    "jupyter": {
     "outputs_hidden": false
    }
   },
   "source": [
    "\n",
    "model_folder = '/Users/matt/Documents/PhD/research_output/Automatic_Gel_Analyzer/segmentation_models'\n",
    "model_name = 'smp_unet++_july28_1'\n",
    "ref_data_folder = '/Users/matt/Documents/PhD/research_output/Automatic_Gel_Analyzer/segmentation_results/unet++_august9_testing/data'\n",
    "epoch = 306\n",
    "\n",
    "exp_folder = join(model_folder, model_name)\n",
    "model_config = toml.load(join(exp_folder, 'config.toml'))['model']\n",
    "\n",
    "model, _, _ = model_configure(**model_config)\n",
    "\n",
    "checkpoint = torch.load(f=join(exp_folder, 'checkpoints', 'checkpoint_epoch_%s.pth' % epoch),\n",
    "                        map_location=torch.device(\"cpu\"))\n",
    "\n",
    "model.load_state_dict(checkpoint['network'])\n",
    "model.eval()\n",
    "dataset = ImageDataset(ref_data_folder, 1, padding=True)\n",
    "dataloader = DataLoader(dataset, shuffle=False, batch_size=1, num_workers=0, pin_memory=True)\n",
    "\n",
    "easy_image = '2_ladder'\n",
    "hard_image = '3_ladder'\n",
    "\n",
    "# preparing model outputs, including separation of different bands and labelling\n",
    "for im_index, batch in tqdm(enumerate(dataloader), total=len(dataloader)):\n",
    "    if batch['image_name'][0] == easy_image:\n",
    "        e_im = batch['image'].detach().squeeze().cpu().numpy()\n",
    "        _, e_mask = model_predict_and_process(model, batch['image'])\n",
    "        e_labels, _ = ndi.label(e_mask.argmax(axis=0))\n",
    "        e_direct_labels = label2rgb(e_labels, image=e_im)\n",
    "    elif batch['image_name'][0] == hard_image:\n",
    "        h_im = batch['image'].detach().squeeze().cpu().numpy()\n",
    "        _, h_mask = model_predict_and_process(model, batch['image'])\n",
    "        h_labels, _ = ndi.label(h_mask.argmax(axis=0))\n",
    "        h_direct_labels = label2rgb(h_labels, image=h_im)\n"
   ],
   "outputs": []
  },
  {
   "cell_type": "code",
   "execution_count": 8,
   "id": "990741b0bca925",
   "metadata": {
    "ExecuteTime": {
     "end_time": "2023-08-09T20:38:19.823876Z",
     "start_time": "2023-08-09T20:38:18.819673Z"
    },
    "collapsed": false,
    "jupyter": {
     "outputs_hidden": false
    }
   },
   "source": [
    "plt.figure(figsize=(10,5))\n",
    "plt.imshow(e_direct_labels)"
   ],
   "outputs": []
  },
  {
   "cell_type": "code",
   "execution_count": 186,
   "id": "437acc6a-4199-4072-874f-56a34db4d3f7",
   "metadata": {},
   "source": [
    "\n",
    "band_sum = []\n",
    "band_sum_bc = []\n",
    "for b_id in [1,5,9,17,13,23,28,34,38]:\n",
    "    pixel_count = len(e_im[e_labels == b_id])\n",
    "    band_sum.append(np.sum(e_im[e_labels == b_id]))\n",
    "    band_sum_bc.append(np.sum(e_im[e_labels == b_id]) - (pixel_count*background))\n",
    "band_sum.extend([0] * 10)\n",
    "band_sum_bc.extend([0] * 10)\n",
    "\n",
    "band_sum"
   ],
   "outputs": []
  },
  {
   "cell_type": "code",
   "execution_count": 182,
   "id": "0031d37a-bc14-40c6-9d77-bd8a79d0a372",
   "metadata": {},
   "source": [
    "len(e_im[890:960,397:468])"
   ],
   "outputs": []
  },
  {
   "cell_type": "code",
   "execution_count": 181,
   "id": "49726c7a-2a35-46e4-9684-636fea5d800d",
   "metadata": {},
   "source": [
    "%matplotlib inline\n",
    "\n",
    "background = np.average(e_im[890:960,397:468])\n",
    "background"
   ],
   "outputs": []
  },
  {
   "cell_type": "code",
   "execution_count": 177,
   "id": "88eb8210-1546-4451-925e-7b6f6003c8a7",
   "metadata": {},
   "source": [
    "e_im[e_labels == 23]"
   ],
   "outputs": []
  },
  {
   "cell_type": "code",
   "execution_count": 163,
   "id": "6a24c6862a668a23",
   "metadata": {
    "collapsed": false,
    "jupyter": {
     "outputs_hidden": false
    }
   },
   "source": [
    "%matplotlib widget\n",
    "colour_ids = []\n",
    "fig = plt.figure()\n",
    "plt.imshow(e_labels)\n",
    "\n",
    "glob_event = None\n",
    "\n",
    "# Define a callback function that will update the textarea\n",
    "def onclick(event):\n",
    "    global colour_ids, glob_event\n",
    "    colour_ids.append((int(event.xdata), int(event.ydata)))\n",
    "    print(event.x, event.y)\n",
    "    glob_event = event\n",
    "\n",
    "ka = fig.canvas.mpl_connect('button_press_event', onclick)\n",
    "\n"
   ],
   "outputs": []
  },
  {
   "cell_type": "code",
   "execution_count": 156,
   "id": "c3ed1466-fd1c-4379-960d-bc3baa156293",
   "metadata": {},
   "source": [
    "for location in colour_ids:\n",
    "    sel_colour = e_labels[location[1], location[0]]"
   ],
   "outputs": []
  },
  {
   "cell_type": "code",
   "execution_count": 160,
   "id": "5f1a7af4-2102-4d43-8ad4-82a3df918527",
   "metadata": {},
   "source": [
    "np.where(e_labels == sel_colour)"
   ],
   "outputs": []
  },
  {
   "cell_type": "code",
   "execution_count": 161,
   "id": "933d393a-396a-44a5-b204-72cb539be227",
   "metadata": {},
   "source": [
    "masked_im = np.zeros_like(e_direct_labels)\n",
    "masked_im[np.where(e_labels == sel_colour)] = [1,0,1]\n",
    "# masked_im[np.where(np.all(e_direct_labels == sel_colour, axis=-1))] = [1,0,1]"
   ],
   "outputs": []
  },
  {
   "cell_type": "code",
   "execution_count": 162,
   "id": "1d50a94b-2e32-4bc2-b1f5-6ab08b66d7ba",
   "metadata": {},
   "source": [
    "%matplotlib inline\n",
    "plt.figure()\n",
    "plt.imshow(masked_im)"
   ],
   "outputs": []
  },
  {
   "cell_type": "code",
   "execution_count": 78,
   "id": "69da3dd2-694c-4a3f-9ec7-239f7a524d34",
   "metadata": {},
   "source": [
    "masked_im.shape"
   ],
   "outputs": []
  },
  {
   "cell_type": "code",
   "execution_count": 38,
   "id": "9514dcbb-c89f-4182-9259-9fa6f693c827",
   "metadata": {},
   "source": [
    "sel_colour"
   ],
   "outputs": []
  },
  {
   "cell_type": "code",
   "execution_count": 40,
   "id": "3f2be7f4-6b29-4767-9dc1-7522efe5020b",
   "metadata": {},
   "source": [
    "e_direct_labels == sel_colour"
   ],
   "outputs": []
  },
  {
   "cell_type": "code",
   "execution_count": 41,
   "id": "85883976-3ba5-4d9f-a3cf-633916dd415b",
   "metadata": {},
   "source": [
    "e_direct_labels.shape"
   ],
   "outputs": []
  },
  {
   "cell_type": "code",
   "execution_count": 63,
   "id": "db65f3fb-1c35-4f2e-85f8-1d558078c866",
   "metadata": {},
   "source": [
    "tst_array = np.zeros((4,4,3))\n",
    "\n",
    "tst_array[2,2,:] = [0.06313726, 0.06313726, 0.06313726]\n",
    "tst_array[3,3,:] = [0.06313726, 0.06313726, 0.06313726]\n",
    "\n",
    "sel_colour =  [0.06313726, 0.06313726, 0.06313726]\n",
    "tst_array == sel_colour\n",
    "tst_array[np.where(np.all(tst_array == sel_colour, axis=-1))]"
   ],
   "outputs": []
  },
  {
   "cell_type": "code",
   "execution_count": 53,
   "id": "f5ca00cd-d41c-452a-9937-84c9545f92f7",
   "metadata": {},
   "source": [
    "indices"
   ],
   "outputs": []
  },
  {
   "cell_type": "code",
   "execution_count": 54,
   "id": "c32237f6-1b0d-4436-98ac-359aaa1d76b5",
   "metadata": {},
   "source": [
    "tst_array"
   ],
   "outputs": []
  },
  {
   "cell_type": "code",
   "execution_count": 55,
   "id": "1537087b-c27e-4c33-a1cb-d1ba4f9ac18a",
   "metadata": {},
   "source": [
    "sel_colour"
   ],
   "outputs": []
  },
  {
   "cell_type": "code",
   "execution_count": null,
   "id": "9bd305d7-c84b-4cbb-81b3-0e8582bb26a0",
   "metadata": {},
   "source": [],
   "outputs": []
  }
 ],
 "metadata": {
  "kernelspec": {
   "display_name": "Python 3 (ipykernel)",
   "language": "python",
   "name": "python3"
  },
  "language_info": {
   "codemirror_mode": {
    "name": "ipython",
    "version": 3
   },
   "file_extension": ".py",
   "mimetype": "text/x-python",
   "name": "python",
   "nbconvert_exporter": "python",
   "pygments_lexer": "ipython3",
   "version": "3.8.13"
  }
 },
 "nbformat": 4,
 "nbformat_minor": 5
}
